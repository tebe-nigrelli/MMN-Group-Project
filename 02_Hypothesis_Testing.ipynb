{
 "cells": [
  {
   "cell_type": "markdown",
   "id": "53357f9c",
   "metadata": {
    "collapsed": false
   },
   "source": [
    "# Examining the difference between drifting and static gratings\n",
    "\n",
    "Overview: In this notebook we investigate the difference in spike count and spike variability between static and drifting gratings. We formalise this with hypothesis tests. Our findings were that spike_mean tends to be higher when units are presented with drifting gratings than static gratings whereas the variability is higher for static gratings. "
   ]
  },
  {
   "cell_type": "code",
   "execution_count": 3,
   "id": "0a0ef1a7",
   "metadata": {
    "collapsed": false
   },
   "outputs": [],
   "source": [
    "import os\n",
    "import numpy as np\n",
    "import pandas as pd\n",
    "import matplotlib.pyplot as plt\n",
    "import matplotlib\n",
    "from allensdk.brain_observatory.ecephys.ecephys_project_cache import EcephysProjectCache\n",
    "\n",
    "from constraints import *\n",
    "from dataset import *"
   ]
  },
  {
   "cell_type": "code",
   "execution_count": null,
   "id": "d267f851-cd01-4c95-b807-bf62d8f16697",
   "metadata": {
    "collapsed": false
   },
   "outputs": [],
   "source": [
    "CURRENT_SESSION_ID = 750332458\n",
    "assert CURRENT_SESSION_ID in SESSION_IDS\n",
    "CURRENT_SESSION = CACHE.get_session_data(CURRENT_SESSION_ID)"
   ]
  },
  {
   "cell_type": "markdown",
   "id": "2e9774ff",
   "metadata": {
    "collapsed": false
   },
   "source": [
    "### Desigining a spike count function get_spike()"
   ]
  },
  {
   "cell_type": "markdown",
   "id": "4f813118",
   "metadata": {
    "collapsed": false
   },
   "source": [
    "We select spike_count data in VISam region to begin with."
   ]
  },
  {
   "cell_type": "code",
   "execution_count": 33,
   "id": "2996d639",
   "metadata": {
    "collapsed": false
   },
   "outputs": [
    {
     "data": {
      "text/html": [
       "<div>\n",
       "<style scoped>\n",
       "    .dataframe tbody tr th:only-of-type {\n",
       "        vertical-align: middle;\n",
       "    }\n",
       "\n",
       "    .dataframe tbody tr th {\n",
       "        vertical-align: top;\n",
       "    }\n",
       "\n",
       "    .dataframe thead th {\n",
       "        text-align: right;\n",
       "    }\n",
       "</style>\n",
       "<table border=\"1\" class=\"dataframe\">\n",
       "  <thead>\n",
       "    <tr style=\"text-align: right;\">\n",
       "      <th></th>\n",
       "      <th></th>\n",
       "      <th>spike_count</th>\n",
       "      <th>stimulus_presentation_count</th>\n",
       "      <th>spike_mean</th>\n",
       "      <th>spike_std</th>\n",
       "      <th>spike_sem</th>\n",
       "    </tr>\n",
       "    <tr>\n",
       "      <th>unit_id</th>\n",
       "      <th>stimulus_condition_id</th>\n",
       "      <th></th>\n",
       "      <th></th>\n",
       "      <th></th>\n",
       "      <th></th>\n",
       "      <th></th>\n",
       "    </tr>\n",
       "  </thead>\n",
       "  <tbody>\n",
       "    <tr>\n",
       "      <th>951819523</th>\n",
       "      <th>4787</th>\n",
       "      <td>21</td>\n",
       "      <td>49</td>\n",
       "      <td>0.428571</td>\n",
       "      <td>1.040833</td>\n",
       "      <td>0.148690</td>\n",
       "    </tr>\n",
       "    <tr>\n",
       "      <th>951819532</th>\n",
       "      <th>4787</th>\n",
       "      <td>35</td>\n",
       "      <td>49</td>\n",
       "      <td>0.714286</td>\n",
       "      <td>0.707107</td>\n",
       "      <td>0.101015</td>\n",
       "    </tr>\n",
       "    <tr>\n",
       "      <th>951819541</th>\n",
       "      <th>4787</th>\n",
       "      <td>86</td>\n",
       "      <td>49</td>\n",
       "      <td>1.755102</td>\n",
       "      <td>1.774009</td>\n",
       "      <td>0.253430</td>\n",
       "    </tr>\n",
       "    <tr>\n",
       "      <th>951819550</th>\n",
       "      <th>4787</th>\n",
       "      <td>41</td>\n",
       "      <td>49</td>\n",
       "      <td>0.836735</td>\n",
       "      <td>1.650088</td>\n",
       "      <td>0.235727</td>\n",
       "    </tr>\n",
       "    <tr>\n",
       "      <th>951819732</th>\n",
       "      <th>4787</th>\n",
       "      <td>233</td>\n",
       "      <td>49</td>\n",
       "      <td>4.755102</td>\n",
       "      <td>2.250283</td>\n",
       "      <td>0.321469</td>\n",
       "    </tr>\n",
       "    <tr>\n",
       "      <th>...</th>\n",
       "      <th>...</th>\n",
       "      <td>...</td>\n",
       "      <td>...</td>\n",
       "      <td>...</td>\n",
       "      <td>...</td>\n",
       "      <td>...</td>\n",
       "    </tr>\n",
       "    <tr>\n",
       "      <th>951820825</th>\n",
       "      <th>4907</th>\n",
       "      <td>4</td>\n",
       "      <td>48</td>\n",
       "      <td>0.083333</td>\n",
       "      <td>0.347228</td>\n",
       "      <td>0.050118</td>\n",
       "    </tr>\n",
       "    <tr>\n",
       "      <th>951820832</th>\n",
       "      <th>4907</th>\n",
       "      <td>2</td>\n",
       "      <td>48</td>\n",
       "      <td>0.041667</td>\n",
       "      <td>0.201941</td>\n",
       "      <td>0.029148</td>\n",
       "    </tr>\n",
       "    <tr>\n",
       "      <th>951820847</th>\n",
       "      <th>4907</th>\n",
       "      <td>11</td>\n",
       "      <td>48</td>\n",
       "      <td>0.229167</td>\n",
       "      <td>0.592132</td>\n",
       "      <td>0.085467</td>\n",
       "    </tr>\n",
       "    <tr>\n",
       "      <th>951820868</th>\n",
       "      <th>4907</th>\n",
       "      <td>10</td>\n",
       "      <td>48</td>\n",
       "      <td>0.208333</td>\n",
       "      <td>0.581939</td>\n",
       "      <td>0.083996</td>\n",
       "    </tr>\n",
       "    <tr>\n",
       "      <th>951820989</th>\n",
       "      <th>4907</th>\n",
       "      <td>8</td>\n",
       "      <td>48</td>\n",
       "      <td>0.166667</td>\n",
       "      <td>0.429415</td>\n",
       "      <td>0.061981</td>\n",
       "    </tr>\n",
       "  </tbody>\n",
       "</table>\n",
       "<p>7260 rows × 5 columns</p>\n",
       "</div>"
      ],
      "text/plain": [
       "                                 spike_count  stimulus_presentation_count  \\\n",
       "unit_id   stimulus_condition_id                                             \n",
       "951819523 4787                            21                           49   \n",
       "951819532 4787                            35                           49   \n",
       "951819541 4787                            86                           49   \n",
       "951819550 4787                            41                           49   \n",
       "951819732 4787                           233                           49   \n",
       "...                                      ...                          ...   \n",
       "951820825 4907                             4                           48   \n",
       "951820832 4907                             2                           48   \n",
       "951820847 4907                            11                           48   \n",
       "951820868 4907                            10                           48   \n",
       "951820989 4907                             8                           48   \n",
       "\n",
       "                                 spike_mean  spike_std  spike_sem  \n",
       "unit_id   stimulus_condition_id                                    \n",
       "951819523 4787                     0.428571   1.040833   0.148690  \n",
       "951819532 4787                     0.714286   0.707107   0.101015  \n",
       "951819541 4787                     1.755102   1.774009   0.253430  \n",
       "951819550 4787                     0.836735   1.650088   0.235727  \n",
       "951819732 4787                     4.755102   2.250283   0.321469  \n",
       "...                                     ...        ...        ...  \n",
       "951820825 4907                     0.083333   0.347228   0.050118  \n",
       "951820832 4907                     0.041667   0.201941   0.029148  \n",
       "951820847 4907                     0.229167   0.592132   0.085467  \n",
       "951820868 4907                     0.208333   0.581939   0.083996  \n",
       "951820989 4907                     0.166667   0.429415   0.061981  \n",
       "\n",
       "[7260 rows x 5 columns]"
      ]
     },
     "execution_count": 33,
     "metadata": {},
     "output_type": "execute_result"
    }
   ],
   "source": [
    "static_spike_counts = get_conditionwise_spike_statistics(\n",
    "  stimulus_name = \"static_gratings\",\n",
    "  structure_acronym = \"VISam\"\n",
    ")\n",
    "\n",
    "static_spike_counts"
   ]
  },
  {
   "cell_type": "code",
   "execution_count": 34,
   "id": "51ab32e0",
   "metadata": {
    "collapsed": false
   },
   "outputs": [
    {
     "data": {
      "text/html": [
       "<div>\n",
       "<style scoped>\n",
       "    .dataframe tbody tr th:only-of-type {\n",
       "        vertical-align: middle;\n",
       "    }\n",
       "\n",
       "    .dataframe tbody tr th {\n",
       "        vertical-align: top;\n",
       "    }\n",
       "\n",
       "    .dataframe thead th {\n",
       "        text-align: right;\n",
       "    }\n",
       "</style>\n",
       "<table border=\"1\" class=\"dataframe\">\n",
       "  <thead>\n",
       "    <tr style=\"text-align: right;\">\n",
       "      <th></th>\n",
       "      <th></th>\n",
       "      <th>spike_count</th>\n",
       "      <th>stimulus_presentation_count</th>\n",
       "      <th>spike_mean</th>\n",
       "      <th>spike_std</th>\n",
       "      <th>spike_sem</th>\n",
       "    </tr>\n",
       "    <tr>\n",
       "      <th>unit_id</th>\n",
       "      <th>stimulus_condition_id</th>\n",
       "      <th></th>\n",
       "      <th></th>\n",
       "      <th></th>\n",
       "      <th></th>\n",
       "      <th></th>\n",
       "    </tr>\n",
       "  </thead>\n",
       "  <tbody>\n",
       "    <tr>\n",
       "      <th>951819523</th>\n",
       "      <th>246</th>\n",
       "      <td>147</td>\n",
       "      <td>15</td>\n",
       "      <td>9.800000</td>\n",
       "      <td>9.412757</td>\n",
       "      <td>2.430363</td>\n",
       "    </tr>\n",
       "    <tr>\n",
       "      <th>951819532</th>\n",
       "      <th>246</th>\n",
       "      <td>202</td>\n",
       "      <td>15</td>\n",
       "      <td>13.466667</td>\n",
       "      <td>18.212502</td>\n",
       "      <td>4.702448</td>\n",
       "    </tr>\n",
       "    <tr>\n",
       "      <th>951819541</th>\n",
       "      <th>246</th>\n",
       "      <td>129</td>\n",
       "      <td>15</td>\n",
       "      <td>8.600000</td>\n",
       "      <td>5.315745</td>\n",
       "      <td>1.372519</td>\n",
       "    </tr>\n",
       "    <tr>\n",
       "      <th>951819550</th>\n",
       "      <th>246</th>\n",
       "      <td>50</td>\n",
       "      <td>15</td>\n",
       "      <td>3.333333</td>\n",
       "      <td>5.246314</td>\n",
       "      <td>1.354592</td>\n",
       "    </tr>\n",
       "    <tr>\n",
       "      <th>951819732</th>\n",
       "      <th>246</th>\n",
       "      <td>793</td>\n",
       "      <td>15</td>\n",
       "      <td>52.866667</td>\n",
       "      <td>30.258096</td>\n",
       "      <td>7.812607</td>\n",
       "    </tr>\n",
       "    <tr>\n",
       "      <th>...</th>\n",
       "      <th>...</th>\n",
       "      <td>...</td>\n",
       "      <td>...</td>\n",
       "      <td>...</td>\n",
       "      <td>...</td>\n",
       "      <td>...</td>\n",
       "    </tr>\n",
       "    <tr>\n",
       "      <th>951820825</th>\n",
       "      <th>286</th>\n",
       "      <td>44</td>\n",
       "      <td>15</td>\n",
       "      <td>2.933333</td>\n",
       "      <td>6.485882</td>\n",
       "      <td>1.674648</td>\n",
       "    </tr>\n",
       "    <tr>\n",
       "      <th>951820832</th>\n",
       "      <th>286</th>\n",
       "      <td>3</td>\n",
       "      <td>15</td>\n",
       "      <td>0.200000</td>\n",
       "      <td>0.414039</td>\n",
       "      <td>0.106904</td>\n",
       "    </tr>\n",
       "    <tr>\n",
       "      <th>951820847</th>\n",
       "      <th>286</th>\n",
       "      <td>16</td>\n",
       "      <td>15</td>\n",
       "      <td>1.066667</td>\n",
       "      <td>1.334523</td>\n",
       "      <td>0.344572</td>\n",
       "    </tr>\n",
       "    <tr>\n",
       "      <th>951820868</th>\n",
       "      <th>286</th>\n",
       "      <td>40</td>\n",
       "      <td>15</td>\n",
       "      <td>2.666667</td>\n",
       "      <td>4.047339</td>\n",
       "      <td>1.045018</td>\n",
       "    </tr>\n",
       "    <tr>\n",
       "      <th>951820989</th>\n",
       "      <th>286</th>\n",
       "      <td>29</td>\n",
       "      <td>15</td>\n",
       "      <td>1.933333</td>\n",
       "      <td>1.334523</td>\n",
       "      <td>0.344572</td>\n",
       "    </tr>\n",
       "  </tbody>\n",
       "</table>\n",
       "<p>2460 rows × 5 columns</p>\n",
       "</div>"
      ],
      "text/plain": [
       "                                 spike_count  stimulus_presentation_count  \\\n",
       "unit_id   stimulus_condition_id                                             \n",
       "951819523 246                            147                           15   \n",
       "951819532 246                            202                           15   \n",
       "951819541 246                            129                           15   \n",
       "951819550 246                             50                           15   \n",
       "951819732 246                            793                           15   \n",
       "...                                      ...                          ...   \n",
       "951820825 286                             44                           15   \n",
       "951820832 286                              3                           15   \n",
       "951820847 286                             16                           15   \n",
       "951820868 286                             40                           15   \n",
       "951820989 286                             29                           15   \n",
       "\n",
       "                                 spike_mean  spike_std  spike_sem  \n",
       "unit_id   stimulus_condition_id                                    \n",
       "951819523 246                      9.800000   9.412757   2.430363  \n",
       "951819532 246                     13.466667  18.212502   4.702448  \n",
       "951819541 246                      8.600000   5.315745   1.372519  \n",
       "951819550 246                      3.333333   5.246314   1.354592  \n",
       "951819732 246                     52.866667  30.258096   7.812607  \n",
       "...                                     ...        ...        ...  \n",
       "951820825 286                      2.933333   6.485882   1.674648  \n",
       "951820832 286                      0.200000   0.414039   0.106904  \n",
       "951820847 286                      1.066667   1.334523   0.344572  \n",
       "951820868 286                      2.666667   4.047339   1.045018  \n",
       "951820989 286                      1.933333   1.334523   0.344572  \n",
       "\n",
       "[2460 rows x 5 columns]"
      ]
     },
     "execution_count": 34,
     "metadata": {},
     "output_type": "execute_result"
    }
   ],
   "source": [
    "drifting_spike_counts = get_conditionwise_spike_statistics(\n",
    "    stimulus_name = \"drifting_gratings\",\n",
    "    structure_acronym = \"VISam\"\n",
    ")\n",
    "\n",
    "drifting_spike_counts"
   ]
  },
  {
   "cell_type": "markdown",
   "id": "8842899a",
   "metadata": {
    "collapsed": false
   },
   "source": [
    "### Analyzing the spike means to see how much units get activated when encountering single stimulus"
   ]
  },
  {
   "cell_type": "code",
   "execution_count": 35,
   "id": "b3ee6feb",
   "metadata": {
    "collapsed": false
   },
   "outputs": [],
   "source": [
    "import pandas as pd\n",
    "import matplotlib.pyplot as plt\n",
    "import seaborn as sns\n",
    "from scipy import stats"
   ]
  },
  {
   "cell_type": "code",
   "execution_count": 36,
   "id": "44059084",
   "metadata": {
    "collapsed": false
   },
   "outputs": [
    {
     "data": {
      "text/html": [
       "<div>\n",
       "<style scoped>\n",
       "    .dataframe tbody tr th:only-of-type {\n",
       "        vertical-align: middle;\n",
       "    }\n",
       "\n",
       "    .dataframe tbody tr th {\n",
       "        vertical-align: top;\n",
       "    }\n",
       "\n",
       "    .dataframe thead th {\n",
       "        text-align: right;\n",
       "    }\n",
       "</style>\n",
       "<table border=\"1\" class=\"dataframe\">\n",
       "  <thead>\n",
       "    <tr style=\"text-align: right;\">\n",
       "      <th></th>\n",
       "      <th>unit_id</th>\n",
       "      <th>stimulus_condition_id</th>\n",
       "      <th>spike_count</th>\n",
       "      <th>stimulus_presentation_count</th>\n",
       "      <th>spike_mean</th>\n",
       "      <th>spike_std</th>\n",
       "      <th>spike_sem</th>\n",
       "    </tr>\n",
       "  </thead>\n",
       "  <tbody>\n",
       "    <tr>\n",
       "      <th>0</th>\n",
       "      <td>951819523</td>\n",
       "      <td>4787</td>\n",
       "      <td>21</td>\n",
       "      <td>49</td>\n",
       "      <td>0.428571</td>\n",
       "      <td>1.040833</td>\n",
       "      <td>0.148690</td>\n",
       "    </tr>\n",
       "    <tr>\n",
       "      <th>1</th>\n",
       "      <td>951819532</td>\n",
       "      <td>4787</td>\n",
       "      <td>35</td>\n",
       "      <td>49</td>\n",
       "      <td>0.714286</td>\n",
       "      <td>0.707107</td>\n",
       "      <td>0.101015</td>\n",
       "    </tr>\n",
       "    <tr>\n",
       "      <th>2</th>\n",
       "      <td>951819541</td>\n",
       "      <td>4787</td>\n",
       "      <td>86</td>\n",
       "      <td>49</td>\n",
       "      <td>1.755102</td>\n",
       "      <td>1.774009</td>\n",
       "      <td>0.253430</td>\n",
       "    </tr>\n",
       "    <tr>\n",
       "      <th>3</th>\n",
       "      <td>951819550</td>\n",
       "      <td>4787</td>\n",
       "      <td>41</td>\n",
       "      <td>49</td>\n",
       "      <td>0.836735</td>\n",
       "      <td>1.650088</td>\n",
       "      <td>0.235727</td>\n",
       "    </tr>\n",
       "    <tr>\n",
       "      <th>4</th>\n",
       "      <td>951819732</td>\n",
       "      <td>4787</td>\n",
       "      <td>233</td>\n",
       "      <td>49</td>\n",
       "      <td>4.755102</td>\n",
       "      <td>2.250283</td>\n",
       "      <td>0.321469</td>\n",
       "    </tr>\n",
       "    <tr>\n",
       "      <th>...</th>\n",
       "      <td>...</td>\n",
       "      <td>...</td>\n",
       "      <td>...</td>\n",
       "      <td>...</td>\n",
       "      <td>...</td>\n",
       "      <td>...</td>\n",
       "      <td>...</td>\n",
       "    </tr>\n",
       "    <tr>\n",
       "      <th>7255</th>\n",
       "      <td>951820825</td>\n",
       "      <td>4907</td>\n",
       "      <td>4</td>\n",
       "      <td>48</td>\n",
       "      <td>0.083333</td>\n",
       "      <td>0.347228</td>\n",
       "      <td>0.050118</td>\n",
       "    </tr>\n",
       "    <tr>\n",
       "      <th>7256</th>\n",
       "      <td>951820832</td>\n",
       "      <td>4907</td>\n",
       "      <td>2</td>\n",
       "      <td>48</td>\n",
       "      <td>0.041667</td>\n",
       "      <td>0.201941</td>\n",
       "      <td>0.029148</td>\n",
       "    </tr>\n",
       "    <tr>\n",
       "      <th>7257</th>\n",
       "      <td>951820847</td>\n",
       "      <td>4907</td>\n",
       "      <td>11</td>\n",
       "      <td>48</td>\n",
       "      <td>0.229167</td>\n",
       "      <td>0.592132</td>\n",
       "      <td>0.085467</td>\n",
       "    </tr>\n",
       "    <tr>\n",
       "      <th>7258</th>\n",
       "      <td>951820868</td>\n",
       "      <td>4907</td>\n",
       "      <td>10</td>\n",
       "      <td>48</td>\n",
       "      <td>0.208333</td>\n",
       "      <td>0.581939</td>\n",
       "      <td>0.083996</td>\n",
       "    </tr>\n",
       "    <tr>\n",
       "      <th>7259</th>\n",
       "      <td>951820989</td>\n",
       "      <td>4907</td>\n",
       "      <td>8</td>\n",
       "      <td>48</td>\n",
       "      <td>0.166667</td>\n",
       "      <td>0.429415</td>\n",
       "      <td>0.061981</td>\n",
       "    </tr>\n",
       "  </tbody>\n",
       "</table>\n",
       "<p>7260 rows × 7 columns</p>\n",
       "</div>"
      ],
      "text/plain": [
       "        unit_id  stimulus_condition_id  spike_count  \\\n",
       "0     951819523                   4787           21   \n",
       "1     951819532                   4787           35   \n",
       "2     951819541                   4787           86   \n",
       "3     951819550                   4787           41   \n",
       "4     951819732                   4787          233   \n",
       "...         ...                    ...          ...   \n",
       "7255  951820825                   4907            4   \n",
       "7256  951820832                   4907            2   \n",
       "7257  951820847                   4907           11   \n",
       "7258  951820868                   4907           10   \n",
       "7259  951820989                   4907            8   \n",
       "\n",
       "      stimulus_presentation_count  spike_mean  spike_std  spike_sem  \n",
       "0                              49    0.428571   1.040833   0.148690  \n",
       "1                              49    0.714286   0.707107   0.101015  \n",
       "2                              49    1.755102   1.774009   0.253430  \n",
       "3                              49    0.836735   1.650088   0.235727  \n",
       "4                              49    4.755102   2.250283   0.321469  \n",
       "...                           ...         ...        ...        ...  \n",
       "7255                           48    0.083333   0.347228   0.050118  \n",
       "7256                           48    0.041667   0.201941   0.029148  \n",
       "7257                           48    0.229167   0.592132   0.085467  \n",
       "7258                           48    0.208333   0.581939   0.083996  \n",
       "7259                           48    0.166667   0.429415   0.061981  \n",
       "\n",
       "[7260 rows x 7 columns]"
      ]
     },
     "execution_count": 36,
     "metadata": {},
     "output_type": "execute_result"
    }
   ],
   "source": [
    "drifting_spike_counts_unind = drifting_spike_counts.reset_index()\n",
    "static_spike_counts_unind = static_spike_counts.reset_index()\n",
    "\n",
    "static_spike_counts_unind"
   ]
  },
  {
   "cell_type": "markdown",
   "id": "29818742",
   "metadata": {
    "collapsed": false
   },
   "source": [
    "Begin by looking at overlapping units activated by both static and drifting gratings stimuli."
   ]
  },
  {
   "cell_type": "code",
   "execution_count": 37,
   "id": "e3341c6f",
   "metadata": {
    "collapsed": false
   },
   "outputs": [
    {
     "name": "stdout",
     "output_type": "stream",
     "text": [
      "Overlapping unit_ids: 60\n",
      "(60, 6)\n"
     ]
    },
    {
     "data": {
      "text/html": [
       "<div>\n",
       "<style scoped>\n",
       "    .dataframe tbody tr th:only-of-type {\n",
       "        vertical-align: middle;\n",
       "    }\n",
       "\n",
       "    .dataframe tbody tr th {\n",
       "        vertical-align: top;\n",
       "    }\n",
       "\n",
       "    .dataframe thead th {\n",
       "        text-align: right;\n",
       "    }\n",
       "</style>\n",
       "<table border=\"1\" class=\"dataframe\">\n",
       "  <thead>\n",
       "    <tr style=\"text-align: right;\">\n",
       "      <th></th>\n",
       "      <th>stimulus_condition_id</th>\n",
       "      <th>spike_count</th>\n",
       "      <th>stimulus_presentation_count</th>\n",
       "      <th>spike_mean</th>\n",
       "      <th>spike_std</th>\n",
       "      <th>spike_sem</th>\n",
       "    </tr>\n",
       "    <tr>\n",
       "      <th>unit_id</th>\n",
       "      <th></th>\n",
       "      <th></th>\n",
       "      <th></th>\n",
       "      <th></th>\n",
       "      <th></th>\n",
       "      <th></th>\n",
       "    </tr>\n",
       "  </thead>\n",
       "  <tbody>\n",
       "    <tr>\n",
       "      <th>951819523</th>\n",
       "      <td>266.0</td>\n",
       "      <td>160.365854</td>\n",
       "      <td>15.365854</td>\n",
       "      <td>10.681301</td>\n",
       "      <td>8.534982</td>\n",
       "      <td>2.200874</td>\n",
       "    </tr>\n",
       "    <tr>\n",
       "      <th>951819532</th>\n",
       "      <td>266.0</td>\n",
       "      <td>382.902439</td>\n",
       "      <td>15.365854</td>\n",
       "      <td>25.269919</td>\n",
       "      <td>14.390455</td>\n",
       "      <td>3.699846</td>\n",
       "    </tr>\n",
       "    <tr>\n",
       "      <th>951819541</th>\n",
       "      <td>266.0</td>\n",
       "      <td>218.365854</td>\n",
       "      <td>15.365854</td>\n",
       "      <td>14.479675</td>\n",
       "      <td>11.890855</td>\n",
       "      <td>3.062789</td>\n",
       "    </tr>\n",
       "    <tr>\n",
       "      <th>951819550</th>\n",
       "      <td>266.0</td>\n",
       "      <td>125.682927</td>\n",
       "      <td>15.365854</td>\n",
       "      <td>8.238211</td>\n",
       "      <td>7.069394</td>\n",
       "      <td>1.814801</td>\n",
       "    </tr>\n",
       "    <tr>\n",
       "      <th>951819732</th>\n",
       "      <td>266.0</td>\n",
       "      <td>400.682927</td>\n",
       "      <td>15.365854</td>\n",
       "      <td>26.700813</td>\n",
       "      <td>15.716924</td>\n",
       "      <td>4.056505</td>\n",
       "    </tr>\n",
       "  </tbody>\n",
       "</table>\n",
       "</div>"
      ],
      "text/plain": [
       "           stimulus_condition_id  spike_count  stimulus_presentation_count  \\\n",
       "unit_id                                                                      \n",
       "951819523                  266.0   160.365854                    15.365854   \n",
       "951819532                  266.0   382.902439                    15.365854   \n",
       "951819541                  266.0   218.365854                    15.365854   \n",
       "951819550                  266.0   125.682927                    15.365854   \n",
       "951819732                  266.0   400.682927                    15.365854   \n",
       "\n",
       "           spike_mean  spike_std  spike_sem  \n",
       "unit_id                                      \n",
       "951819523   10.681301   8.534982   2.200874  \n",
       "951819532   25.269919  14.390455   3.699846  \n",
       "951819541   14.479675  11.890855   3.062789  \n",
       "951819550    8.238211   7.069394   1.814801  \n",
       "951819732   26.700813  15.716924   4.056505  "
      ]
     },
     "execution_count": 37,
     "metadata": {},
     "output_type": "execute_result"
    }
   ],
   "source": [
    "n_overlap = len(set(drifting_spike_counts_unind['unit_id']) & set(static_spike_counts_unind['unit_id']))\n",
    "print(\"Overlapping unit_ids:\", n_overlap)\n",
    "\n",
    "drifting_spike_counts_mean = drifting_spike_counts_unind.groupby(\"unit_id\").mean()\n",
    "static_spike_counts_mean = static_spike_counts_unind.groupby(\"unit_id\").mean()\n",
    "\n",
    "print(drifting_spike_counts_mean.shape)\n",
    "\n",
    "drifting_spike_counts_mean.head()"
   ]
  },
  {
   "cell_type": "code",
   "execution_count": 38,
   "id": "f5147941",
   "metadata": {
    "collapsed": false
   },
   "outputs": [
    {
     "data": {
      "text/html": [
       "<div>\n",
       "<style scoped>\n",
       "    .dataframe tbody tr th:only-of-type {\n",
       "        vertical-align: middle;\n",
       "    }\n",
       "\n",
       "    .dataframe tbody tr th {\n",
       "        vertical-align: top;\n",
       "    }\n",
       "\n",
       "    .dataframe thead th {\n",
       "        text-align: right;\n",
       "    }\n",
       "</style>\n",
       "<table border=\"1\" class=\"dataframe\">\n",
       "  <thead>\n",
       "    <tr style=\"text-align: right;\">\n",
       "      <th></th>\n",
       "      <th>stimulus_condition_id_static</th>\n",
       "      <th>spike_count_static</th>\n",
       "      <th>stimulus_presentation_count_static</th>\n",
       "      <th>spike_mean_static</th>\n",
       "      <th>spike_std_static</th>\n",
       "      <th>spike_sem_static</th>\n",
       "      <th>stimulus_condition_id_drifting</th>\n",
       "      <th>spike_count_drifting</th>\n",
       "      <th>stimulus_presentation_count_drifting</th>\n",
       "      <th>spike_mean_drifting</th>\n",
       "      <th>spike_std_drifting</th>\n",
       "      <th>spike_sem_drifting</th>\n",
       "    </tr>\n",
       "    <tr>\n",
       "      <th>unit_id</th>\n",
       "      <th></th>\n",
       "      <th></th>\n",
       "      <th></th>\n",
       "      <th></th>\n",
       "      <th></th>\n",
       "      <th></th>\n",
       "      <th></th>\n",
       "      <th></th>\n",
       "      <th></th>\n",
       "      <th></th>\n",
       "      <th></th>\n",
       "      <th></th>\n",
       "    </tr>\n",
       "  </thead>\n",
       "  <tbody>\n",
       "    <tr>\n",
       "      <th>951819523</th>\n",
       "      <td>4847.0</td>\n",
       "      <td>22.793388</td>\n",
       "      <td>49.586777</td>\n",
       "      <td>0.464778</td>\n",
       "      <td>0.845017</td>\n",
       "      <td>0.121123</td>\n",
       "      <td>266.0</td>\n",
       "      <td>160.365854</td>\n",
       "      <td>15.365854</td>\n",
       "      <td>10.681301</td>\n",
       "      <td>8.534982</td>\n",
       "      <td>2.200874</td>\n",
       "    </tr>\n",
       "    <tr>\n",
       "      <th>951819532</th>\n",
       "      <td>4847.0</td>\n",
       "      <td>100.553719</td>\n",
       "      <td>49.586777</td>\n",
       "      <td>2.053190</td>\n",
       "      <td>1.687109</td>\n",
       "      <td>0.241707</td>\n",
       "      <td>266.0</td>\n",
       "      <td>382.902439</td>\n",
       "      <td>15.365854</td>\n",
       "      <td>25.269919</td>\n",
       "      <td>14.390455</td>\n",
       "      <td>3.699846</td>\n",
       "    </tr>\n",
       "    <tr>\n",
       "      <th>951819541</th>\n",
       "      <td>4847.0</td>\n",
       "      <td>97.338843</td>\n",
       "      <td>49.586777</td>\n",
       "      <td>1.979897</td>\n",
       "      <td>1.782085</td>\n",
       "      <td>0.255407</td>\n",
       "      <td>266.0</td>\n",
       "      <td>218.365854</td>\n",
       "      <td>15.365854</td>\n",
       "      <td>14.479675</td>\n",
       "      <td>11.890855</td>\n",
       "      <td>3.062789</td>\n",
       "    </tr>\n",
       "    <tr>\n",
       "      <th>951819550</th>\n",
       "      <td>4847.0</td>\n",
       "      <td>62.041322</td>\n",
       "      <td>49.586777</td>\n",
       "      <td>1.243782</td>\n",
       "      <td>1.685748</td>\n",
       "      <td>0.241079</td>\n",
       "      <td>266.0</td>\n",
       "      <td>125.682927</td>\n",
       "      <td>15.365854</td>\n",
       "      <td>8.238211</td>\n",
       "      <td>7.069394</td>\n",
       "      <td>1.814801</td>\n",
       "    </tr>\n",
       "    <tr>\n",
       "      <th>951819732</th>\n",
       "      <td>4847.0</td>\n",
       "      <td>123.008264</td>\n",
       "      <td>49.586777</td>\n",
       "      <td>2.520199</td>\n",
       "      <td>1.733729</td>\n",
       "      <td>0.248376</td>\n",
       "      <td>266.0</td>\n",
       "      <td>400.682927</td>\n",
       "      <td>15.365854</td>\n",
       "      <td>26.700813</td>\n",
       "      <td>15.716924</td>\n",
       "      <td>4.056505</td>\n",
       "    </tr>\n",
       "  </tbody>\n",
       "</table>\n",
       "</div>"
      ],
      "text/plain": [
       "           stimulus_condition_id_static  spike_count_static  \\\n",
       "unit_id                                                       \n",
       "951819523                        4847.0           22.793388   \n",
       "951819532                        4847.0          100.553719   \n",
       "951819541                        4847.0           97.338843   \n",
       "951819550                        4847.0           62.041322   \n",
       "951819732                        4847.0          123.008264   \n",
       "\n",
       "           stimulus_presentation_count_static  spike_mean_static  \\\n",
       "unit_id                                                            \n",
       "951819523                           49.586777           0.464778   \n",
       "951819532                           49.586777           2.053190   \n",
       "951819541                           49.586777           1.979897   \n",
       "951819550                           49.586777           1.243782   \n",
       "951819732                           49.586777           2.520199   \n",
       "\n",
       "           spike_std_static  spike_sem_static  stimulus_condition_id_drifting  \\\n",
       "unit_id                                                                         \n",
       "951819523          0.845017          0.121123                           266.0   \n",
       "951819532          1.687109          0.241707                           266.0   \n",
       "951819541          1.782085          0.255407                           266.0   \n",
       "951819550          1.685748          0.241079                           266.0   \n",
       "951819732          1.733729          0.248376                           266.0   \n",
       "\n",
       "           spike_count_drifting  stimulus_presentation_count_drifting  \\\n",
       "unit_id                                                                 \n",
       "951819523            160.365854                             15.365854   \n",
       "951819532            382.902439                             15.365854   \n",
       "951819541            218.365854                             15.365854   \n",
       "951819550            125.682927                             15.365854   \n",
       "951819732            400.682927                             15.365854   \n",
       "\n",
       "           spike_mean_drifting  spike_std_drifting  spike_sem_drifting  \n",
       "unit_id                                                                 \n",
       "951819523            10.681301            8.534982            2.200874  \n",
       "951819532            25.269919           14.390455            3.699846  \n",
       "951819541            14.479675           11.890855            3.062789  \n",
       "951819550             8.238211            7.069394            1.814801  \n",
       "951819732            26.700813           15.716924            4.056505  "
      ]
     },
     "execution_count": 38,
     "metadata": {},
     "output_type": "execute_result"
    }
   ],
   "source": [
    "merged_spikes = pd.merge(static_spike_counts_mean, drifting_spike_counts_mean,\n",
    "                         left_index=True, right_index=True,\n",
    "                         how=\"inner\", suffixes=('_static', '_drifting'))\n",
    "merged_spikes.head()"
   ]
  },
  {
   "cell_type": "markdown",
   "id": "e429b03b",
   "metadata": {
    "collapsed": false
   },
   "source": [
    "We check if there is a difference in the mean number of spikes per presentation for these overlapping units."
   ]
  },
  {
   "cell_type": "code",
   "execution_count": 39,
   "id": "b47295af",
   "metadata": {
    "collapsed": false
   },
   "outputs": [
    {
     "name": "stdout",
     "output_type": "stream",
     "text": [
      "       spike_mean_static  spike_mean_drifting\n",
      "count          60.000000            60.000000\n",
      "mean            1.844668            15.917358\n",
      "std             1.876499            16.709206\n",
      "min             0.045735             0.521138\n",
      "25%             0.363631             4.534553\n",
      "50%             1.163493             8.932927\n",
      "75%             2.654046            25.019309\n",
      "max             7.676357            89.430081\n"
     ]
    },
    {
     "data": {
      "image/png": "[encoded data removed]",
      "text/plain": [
       "<Figure size 1000x600 with 1 Axes>"
      ]
     },
     "metadata": {},
     "output_type": "display_data"
    }
   ],
   "source": [
    "# Summary statistics\n",
    "print(merged_spikes[['spike_mean_static', 'spike_mean_drifting']].describe())\n",
    "\n",
    "# Boxplot\n",
    "plt.figure(figsize=(10, 6))\n",
    "sns.boxplot(data=merged_spikes[['spike_mean_static', 'spike_mean_drifting']])\n",
    "plt.title('Spike Mean Comparison')\n",
    "plt.ylabel('Spike Mean')\n",
    "plt.show()"
   ]
  },
  {
   "cell_type": "markdown",
   "id": "f4f60bf9",
   "metadata": {
    "collapsed": false
   },
   "source": [
    "### Hypothesis testing \n",
    "\n",
    "H0: there is no difference in mean number of spikes between drifting and static gratings."
   ]
  },
  {
   "cell_type": "code",
   "execution_count": 40,
   "id": "ee955060",
   "metadata": {
    "collapsed": false
   },
   "outputs": [
    {
     "name": "stdout",
     "output_type": "stream",
     "text": [
      "Shapiro-Wilk p-value: 0.0000\n",
      "Differences are NOT normally distributed\n"
     ]
    }
   ],
   "source": [
    "# Shapiro-Wilk test for normality\n",
    "\n",
    "merged_spikes['diff'] = merged_spikes['spike_mean_drifting'] - merged_spikes['spike_mean_static']\n",
    "\n",
    "shapiro_stat, shapiro_p = stats.shapiro(merged_spikes['diff'])\n",
    "print(f\"Shapiro-Wilk p-value: {shapiro_p:.4f}\")\n",
    "\n",
    "# we select alpha as 0.05\n",
    "alpha = 0.05\n",
    "if shapiro_p > alpha:\n",
    "    print(\"Differences are normally distributed (fail to reject H0)\")\n",
    "else:\n",
    "    print(\"Differences are NOT normally distributed\")"
   ]
  },
  {
   "cell_type": "markdown",
   "id": "5cf00ad4",
   "metadata": {
    "collapsed": false
   },
   "source": [
    "Given the differences are not normally distributed we should consider a non parametric test like Wilcoxon signed-rank test to test our null hypothesis."
   ]
  },
  {
   "cell_type": "code",
   "execution_count": 41,
   "id": "7c5da7f8",
   "metadata": {
    "collapsed": false
   },
   "outputs": [
    {
     "name": "stdout",
     "output_type": "stream",
     "text": [
      "Paired t-test p-value: 0.0000\n",
      "Wilcoxon p-value: 0.0000\n"
     ]
    }
   ],
   "source": [
    "# Paired t-test (parametric)\n",
    "t_stat, t_p = stats.ttest_rel(merged_spikes['spike_mean_static'], merged_spikes['spike_mean_drifting'])\n",
    "print(f\"Paired t-test p-value: {t_p:.4f}\")\n",
    "\n",
    "# Wilcoxon signed-rank test (non-parametric)\n",
    "wilcoxon_stat, wilcoxon_p = stats.wilcoxon(merged_spikes['spike_mean_static'], merged_spikes['spike_mean_drifting'])\n",
    "print(f\"Wilcoxon p-value: {wilcoxon_p:.4f}\")"
   ]
  },
  {
   "cell_type": "markdown",
   "id": "ca47b118",
   "metadata": {
    "collapsed": false
   },
   "source": [
    "We conclude that we can reject H0. There is evidence to suggest that the spike mean is different between static and drifting gratings. This result was expected given the results of the boxplots shown above which demonstrates spike mean is significantly higher in general for units when presented with drifting gratings."
   ]
  },
  {
   "cell_type": "code",
   "execution_count": 42,
   "id": "e42343ff",
   "metadata": {
    "collapsed": false
   },
   "outputs": [
    {
     "name": "stdout",
     "output_type": "stream",
     "text": [
      "Classification Accuracy: 1.000 ± 0.000\n"
     ]
    }
   ],
   "source": [
    "from sklearn.ensemble import RandomForestClassifier\n",
    "from sklearn.model_selection import cross_val_score\n",
    "\n",
    "X = merged_spikes[['spike_mean_drifting', 'spike_mean_static']]\n",
    "y = np.where(merged_spikes['spike_mean_drifting'] > merged_spikes['spike_mean_static'], 1, 0)  # Binary label\n",
    "\n",
    "clf = RandomForestClassifier()\n",
    "scores = cross_val_score(clf, X, y, cv=5)\n",
    "print(f\"Classification Accuracy: {np.mean(scores):.3f} ± {np.std(scores):.3f}\")"
   ]
  },
  {
   "cell_type": "markdown",
   "id": "67a91aaf",
   "metadata": {
    "collapsed": false
   },
   "source": [
    "We see that we can easily build a simply classifier to effectively decode the type of stimulus (static vs drifting) simply from the spike_mean (spike count per presentation)."
   ]
  },
  {
   "cell_type": "markdown",
   "id": "d046730f",
   "metadata": {
    "collapsed": false
   },
   "source": [
    "No we do the same investigation with the spike coefficient of variation (CV=std/mean) to see investigate the difference in variability between static and drifting gratings."
   ]
  },
  {
   "cell_type": "code",
   "execution_count": 47,
   "id": "61d81659",
   "metadata": {
    "collapsed": false
   },
   "outputs": [
    {
     "name": "stdout",
     "output_type": "stream",
     "text": [
      "       spike_CV_static  spike_CV_drifting\n",
      "count        60.000000          60.000000\n",
      "mean          1.505387           0.840494\n",
      "std           1.087011           0.421895\n",
      "min           0.333912           0.306192\n",
      "25%           0.686148           0.499605\n",
      "50%           1.066187           0.748730\n",
      "75%           1.934422           1.031799\n",
      "max           4.917109           2.025295\n"
     ]
    },
    {
     "data": {
      "image/png": "[encoded data removed]",
      "text/plain": [
       "<Figure size 1000x600 with 1 Axes>"
      ]
     },
     "metadata": {},
     "output_type": "display_data"
    }
   ],
   "source": [
    "merged_spikes_var = merged_spikes.copy()\n",
    "\n",
    "# Calculate the coefficient of variation (CV) for static and drifting conditions\n",
    "merged_spikes_var['spike_CV_static'] = merged_spikes_var['spike_std_static'] / merged_spikes_var['spike_mean_static']\n",
    "merged_spikes_var['spike_CV_drifting'] = merged_spikes_var['spike_std_drifting'] / merged_spikes_var['spike_mean_drifting']\n",
    "\n",
    "# Summary statistics\n",
    "print(merged_spikes_var[['spike_CV_static', 'spike_CV_drifting']].describe())\n",
    "\n",
    "# Boxplot\n",
    "plt.figure(figsize=(10, 6))\n",
    "sns.boxplot(data=merged_spikes_var[['spike_CV_static', 'spike_CV_drifting']])\n",
    "plt.title('Spike CV Comparison')\n",
    "plt.ylabel('Spike CV')\n",
    "plt.show()\n"
   ]
  },
  {
   "cell_type": "markdown",
   "id": "6472be16",
   "metadata": {
    "collapsed": false
   },
   "source": [
    "We see that CV is if anything higher for static gratings suggesting a higher variability in static gratings. We again verify if the pairwise differences are normally distributed.\n",
    "\n",
    "H0: There is no difference between the CV of static and drifting spikes for overlapping units"
   ]
  },
  {
   "cell_type": "code",
   "execution_count": 48,
   "id": "8e88d760",
   "metadata": {
    "collapsed": false
   },
   "outputs": [
    {
     "name": "stdout",
     "output_type": "stream",
     "text": [
      "Shapiro-Wilk p-value: 0.0000\n",
      "Differences in CV are NOT normally distributed (reject H0)\n"
     ]
    }
   ],
   "source": [
    "# Shapiro-Wilk test for normality\n",
    "\n",
    "merged_spikes_var['diff_CV'] = merged_spikes_var['spike_CV_static'] - merged_spikes_var['spike_CV_drifting']\n",
    "\n",
    "shapiro_stat, shapiro_p = stats.shapiro(merged_spikes_var['diff_CV'])\n",
    "print(f\"Shapiro-Wilk p-value: {shapiro_p:.4f}\")\n",
    "\n",
    "# we select alpha as 0.05\n",
    "alpha = 0.05\n",
    "if shapiro_p > alpha:\n",
    "    print(\"Differences in CV are normally distributed (fail to reject H0)\")\n",
    "else:\n",
    "    print(\"Differences in CV are NOT normally distributed (reject H0)\")"
   ]
  },
  {
   "cell_type": "code",
   "execution_count": 49,
   "id": "24d252b7",
   "metadata": {
    "collapsed": false
   },
   "outputs": [
    {
     "name": "stdout",
     "output_type": "stream",
     "text": [
      "Paired t-test p-value: 0.0000\n",
      "Wilcoxon p-value: 0.0000\n"
     ]
    }
   ],
   "source": [
    "# Paired t-test (parametric)\n",
    "t_stat, t_p = stats.ttest_rel(merged_spikes_var['spike_CV_static'], merged_spikes_var['spike_CV_drifting'])\n",
    "print(f\"Paired t-test p-value: {t_p:.4f}\")\n",
    "\n",
    "# Wilcoxon signed-rank test (non-parametric)\n",
    "wilcoxon_stat, wilcoxon_p = stats.wilcoxon(merged_spikes_var['spike_CV_static'], merged_spikes_var['spike_CV_drifting'])\n",
    "print(f\"Wilcoxon p-value: {wilcoxon_p:.4f}\")"
   ]
  },
  {
   "cell_type": "code",
   "execution_count": 50,
   "id": "783e1d05",
   "metadata": {
    "collapsed": false
   },
   "outputs": [
    {
     "name": "stdout",
     "output_type": "stream",
     "text": [
      "Classification Accuracy: 0.967 ± 0.041\n"
     ]
    }
   ],
   "source": [
    "X = merged_spikes_var[['spike_CV_static', 'spike_CV_drifting']]\n",
    "y = np.where(merged_spikes_var['spike_CV_static'] > merged_spikes_var['spike_CV_drifting'], 1, 0)  # Binary label\n",
    "\n",
    "clf = RandomForestClassifier()\n",
    "scores = cross_val_score(clf, X, y, cv=5)\n",
    "print(f\"Classification Accuracy: {np.mean(scores):.3f} ± {np.std(scores):.3f}\")\n",
    "\n",
    "del merged_spikes_var #Delete this to free up space"
   ]
  },
  {
   "cell_type": "markdown",
   "id": "a665e9ab",
   "metadata": {
    "collapsed": false
   },
   "source": [
    "We conclude that in fact the Coefficient of Variation (CV) is in fact higher for static gratings than drifting gratings. This difference is also statistically significant. CV can also be used to decode the stimulus type though not quite as effectively."
   ]
  }
 ],
 "metadata": {
  "kernelspec": {
   "argv": [
    "/home/thuna/temp/neuroscience-project/MMN-Group-Project/venv/bin/python",
    "-Xfrozen_modules=off",
    "-m",
    "ipykernel_launcher",
    "-f",
    "{connection_file}"
   ],
   "display_name": "venv",
   "env": null,
   "interrupt_mode": "signal",
   "language": "python",
   "metadata": {
    "debugger": true
   },
   "name": "venv"
  },
  "language_info": {
   "codemirror_mode": {
    "name": "ipython",
    "version": 3
   },
   "file_extension": ".py",
   "mimetype": "text/x-python",
   "name": "python",
   "nbconvert_exporter": "python",
   "pygments_lexer": "ipython3",
   "version": "3.11.11"
  },
  "name": "02_Hypothesis_Testing.ipynb"
 },
 "nbformat": 4,
 "nbformat_minor": 5
}
