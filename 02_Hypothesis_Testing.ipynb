{
 "cells": [
  {
   "cell_type": "markdown",
   "id": "53357f9c",
   "metadata": {},
   "source": [
    "# Examining the difference in spike counts between drifting and static gratings"
   ]
  },
  {
   "cell_type": "code",
   "execution_count": 4,
   "id": "0a0ef1a7",
   "metadata": {},
   "outputs": [
    {
     "name": "stderr",
     "output_type": "stream",
     "text": [
      "c:\\Users\\georg\\anaconda3\\Anaconda1\\envs\\neuroscience_project\\Lib\\site-packages\\tqdm\\auto.py:21: TqdmWarning: IProgress not found. Please update jupyter and ipywidgets. See https://ipywidgets.readthedocs.io/en/stable/user_install.html\n",
      "  from .autonotebook import tqdm as notebook_tqdm\n"
     ]
    }
   ],
   "source": [
    "import os\n",
    "import numpy as np\n",
    "import pandas as pd\n",
    "import matplotlib.pyplot as plt\n",
    "import matplotlib\n",
    "from allensdk.brain_observatory.ecephys.ecephys_project_cache import EcephysProjectCache"
   ]
  },
  {
   "cell_type": "code",
   "execution_count": 5,
   "id": "9ae891e2",
   "metadata": {},
   "outputs": [],
   "source": [
    "data_dir = \"./allendata\"\n",
    "\n",
    "manifest_path = os.path.join(data_dir, \"manifest.json\")\n",
    "cache = EcephysProjectCache.from_warehouse(manifest=manifest_path)\n",
    "sessions = cache.get_session_table()"
   ]
  },
  {
   "cell_type": "code",
   "execution_count": 6,
   "id": "6c6f8a95",
   "metadata": {},
   "outputs": [
    {
     "name": "stderr",
     "output_type": "stream",
     "text": [
      "c:\\Users\\georg\\anaconda3\\Anaconda1\\envs\\neuroscience_project\\Lib\\site-packages\\hdmf\\spec\\namespace.py:535: UserWarning: Ignoring cached namespace 'hdmf-common' version 1.1.3 because version 1.8.0 is already loaded.\n",
      "  warn(\"Ignoring cached namespace '%s' version %s because version %s is already loaded.\"\n",
      "c:\\Users\\georg\\anaconda3\\Anaconda1\\envs\\neuroscience_project\\Lib\\site-packages\\hdmf\\spec\\namespace.py:535: UserWarning: Ignoring cached namespace 'core' version 2.2.2 because version 2.7.0 is already loaded.\n",
      "  warn(\"Ignoring cached namespace '%s' version %s because version %s is already loaded.\"\n"
     ]
    }
   ],
   "source": [
    "id = 750332458\n",
    "session = cache.get_session_data(id)"
   ]
  },
  {
   "cell_type": "markdown",
   "id": "e3f01b41",
   "metadata": {},
   "source": [
    "### Getting the table for static and drifting"
   ]
  },
  {
   "cell_type": "code",
   "execution_count": 4,
   "id": "8d5b6e22",
   "metadata": {},
   "outputs": [
    {
     "data": {
      "text/html": [
       "<div>\n",
       "<style scoped>\n",
       "    .dataframe tbody tr th:only-of-type {\n",
       "        vertical-align: middle;\n",
       "    }\n",
       "\n",
       "    .dataframe tbody tr th {\n",
       "        vertical-align: top;\n",
       "    }\n",
       "\n",
       "    .dataframe thead th {\n",
       "        text-align: right;\n",
       "    }\n",
       "</style>\n",
       "<table border=\"1\" class=\"dataframe\">\n",
       "  <thead>\n",
       "    <tr style=\"text-align: right;\">\n",
       "      <th></th>\n",
       "      <th>stimulus_block</th>\n",
       "      <th>start_time</th>\n",
       "      <th>stop_time</th>\n",
       "      <th>size</th>\n",
       "      <th>phase</th>\n",
       "      <th>stimulus_name</th>\n",
       "      <th>contrast</th>\n",
       "      <th>orientation</th>\n",
       "      <th>spatial_frequency</th>\n",
       "      <th>duration</th>\n",
       "      <th>stimulus_condition_id</th>\n",
       "    </tr>\n",
       "    <tr>\n",
       "      <th>stimulus_presentation_id</th>\n",
       "      <th></th>\n",
       "      <th></th>\n",
       "      <th></th>\n",
       "      <th></th>\n",
       "      <th></th>\n",
       "      <th></th>\n",
       "      <th></th>\n",
       "      <th></th>\n",
       "      <th></th>\n",
       "      <th></th>\n",
       "      <th></th>\n",
       "    </tr>\n",
       "  </thead>\n",
       "  <tbody>\n",
       "    <tr>\n",
       "      <th>49434</th>\n",
       "      <td>8.0</td>\n",
       "      <td>5398.833208</td>\n",
       "      <td>5399.083416</td>\n",
       "      <td>[250.0, 250.0]</td>\n",
       "      <td>0.25</td>\n",
       "      <td>static_gratings</td>\n",
       "      <td>0.8</td>\n",
       "      <td>0.0</td>\n",
       "      <td>0.04</td>\n",
       "      <td>0.250209</td>\n",
       "      <td>4787</td>\n",
       "    </tr>\n",
       "    <tr>\n",
       "      <th>49435</th>\n",
       "      <td>8.0</td>\n",
       "      <td>5399.083416</td>\n",
       "      <td>5399.333625</td>\n",
       "      <td>[250.0, 250.0]</td>\n",
       "      <td>0.0</td>\n",
       "      <td>static_gratings</td>\n",
       "      <td>0.8</td>\n",
       "      <td>0.0</td>\n",
       "      <td>0.32</td>\n",
       "      <td>0.250209</td>\n",
       "      <td>4788</td>\n",
       "    </tr>\n",
       "    <tr>\n",
       "      <th>49436</th>\n",
       "      <td>8.0</td>\n",
       "      <td>5399.333625</td>\n",
       "      <td>5399.583834</td>\n",
       "      <td>[250.0, 250.0]</td>\n",
       "      <td>0.0</td>\n",
       "      <td>static_gratings</td>\n",
       "      <td>0.8</td>\n",
       "      <td>30.0</td>\n",
       "      <td>0.04</td>\n",
       "      <td>0.250209</td>\n",
       "      <td>4789</td>\n",
       "    </tr>\n",
       "    <tr>\n",
       "      <th>49437</th>\n",
       "      <td>8.0</td>\n",
       "      <td>5399.583834</td>\n",
       "      <td>5399.834042</td>\n",
       "      <td>[250.0, 250.0]</td>\n",
       "      <td>0.75</td>\n",
       "      <td>static_gratings</td>\n",
       "      <td>0.8</td>\n",
       "      <td>90.0</td>\n",
       "      <td>0.08</td>\n",
       "      <td>0.250209</td>\n",
       "      <td>4790</td>\n",
       "    </tr>\n",
       "    <tr>\n",
       "      <th>49438</th>\n",
       "      <td>8.0</td>\n",
       "      <td>5399.834042</td>\n",
       "      <td>5400.084249</td>\n",
       "      <td>[250.0, 250.0]</td>\n",
       "      <td>0.25</td>\n",
       "      <td>static_gratings</td>\n",
       "      <td>0.8</td>\n",
       "      <td>60.0</td>\n",
       "      <td>0.08</td>\n",
       "      <td>0.250206</td>\n",
       "      <td>4791</td>\n",
       "    </tr>\n",
       "  </tbody>\n",
       "</table>\n",
       "</div>"
      ],
      "text/plain": [
       "                         stimulus_block   start_time    stop_time  \\\n",
       "stimulus_presentation_id                                            \n",
       "49434                               8.0  5398.833208  5399.083416   \n",
       "49435                               8.0  5399.083416  5399.333625   \n",
       "49436                               8.0  5399.333625  5399.583834   \n",
       "49437                               8.0  5399.583834  5399.834042   \n",
       "49438                               8.0  5399.834042  5400.084249   \n",
       "\n",
       "                                    size phase    stimulus_name contrast  \\\n",
       "stimulus_presentation_id                                                   \n",
       "49434                     [250.0, 250.0]  0.25  static_gratings      0.8   \n",
       "49435                     [250.0, 250.0]   0.0  static_gratings      0.8   \n",
       "49436                     [250.0, 250.0]   0.0  static_gratings      0.8   \n",
       "49437                     [250.0, 250.0]  0.75  static_gratings      0.8   \n",
       "49438                     [250.0, 250.0]  0.25  static_gratings      0.8   \n",
       "\n",
       "                         orientation spatial_frequency  duration  \\\n",
       "stimulus_presentation_id                                           \n",
       "49434                            0.0              0.04  0.250209   \n",
       "49435                            0.0              0.32  0.250209   \n",
       "49436                           30.0              0.04  0.250209   \n",
       "49437                           90.0              0.08  0.250209   \n",
       "49438                           60.0              0.08  0.250206   \n",
       "\n",
       "                          stimulus_condition_id  \n",
       "stimulus_presentation_id                         \n",
       "49434                                      4787  \n",
       "49435                                      4788  \n",
       "49436                                      4789  \n",
       "49437                                      4790  \n",
       "49438                                      4791  "
      ]
     },
     "execution_count": 4,
     "metadata": {},
     "output_type": "execute_result"
    }
   ],
   "source": [
    "table_static = session.get_stimulus_table(\"static_gratings\")\n",
    "\n",
    "table_static.head()"
   ]
  },
  {
   "cell_type": "code",
   "execution_count": 5,
   "id": "66c4ddfc",
   "metadata": {},
   "outputs": [
    {
     "data": {
      "text/html": [
       "<div>\n",
       "<style scoped>\n",
       "    .dataframe tbody tr th:only-of-type {\n",
       "        vertical-align: middle;\n",
       "    }\n",
       "\n",
       "    .dataframe tbody tr th {\n",
       "        vertical-align: top;\n",
       "    }\n",
       "\n",
       "    .dataframe thead th {\n",
       "        text-align: right;\n",
       "    }\n",
       "</style>\n",
       "<table border=\"1\" class=\"dataframe\">\n",
       "  <thead>\n",
       "    <tr style=\"text-align: right;\">\n",
       "      <th></th>\n",
       "      <th>stimulus_block</th>\n",
       "      <th>start_time</th>\n",
       "      <th>stop_time</th>\n",
       "      <th>size</th>\n",
       "      <th>phase</th>\n",
       "      <th>stimulus_name</th>\n",
       "      <th>temporal_frequency</th>\n",
       "      <th>contrast</th>\n",
       "      <th>orientation</th>\n",
       "      <th>spatial_frequency</th>\n",
       "      <th>duration</th>\n",
       "      <th>stimulus_condition_id</th>\n",
       "    </tr>\n",
       "    <tr>\n",
       "      <th>stimulus_presentation_id</th>\n",
       "      <th></th>\n",
       "      <th></th>\n",
       "      <th></th>\n",
       "      <th></th>\n",
       "      <th></th>\n",
       "      <th></th>\n",
       "      <th></th>\n",
       "      <th></th>\n",
       "      <th></th>\n",
       "      <th></th>\n",
       "      <th></th>\n",
       "      <th></th>\n",
       "    </tr>\n",
       "  </thead>\n",
       "  <tbody>\n",
       "    <tr>\n",
       "      <th>3798</th>\n",
       "      <td>2.0</td>\n",
       "      <td>1585.647748</td>\n",
       "      <td>1587.649398</td>\n",
       "      <td>[250.0, 250.0]</td>\n",
       "      <td>[21235.93333333, 21235.93333333]</td>\n",
       "      <td>drifting_gratings</td>\n",
       "      <td>4.0</td>\n",
       "      <td>0.8</td>\n",
       "      <td>180.0</td>\n",
       "      <td>0.04</td>\n",
       "      <td>2.00165</td>\n",
       "      <td>246</td>\n",
       "    </tr>\n",
       "    <tr>\n",
       "      <th>3799</th>\n",
       "      <td>2.0</td>\n",
       "      <td>1588.650242</td>\n",
       "      <td>1590.651902</td>\n",
       "      <td>[250.0, 250.0]</td>\n",
       "      <td>[21235.93333333, 21235.93333333]</td>\n",
       "      <td>drifting_gratings</td>\n",
       "      <td>4.0</td>\n",
       "      <td>0.8</td>\n",
       "      <td>225.0</td>\n",
       "      <td>0.04</td>\n",
       "      <td>2.00166</td>\n",
       "      <td>247</td>\n",
       "    </tr>\n",
       "    <tr>\n",
       "      <th>3800</th>\n",
       "      <td>2.0</td>\n",
       "      <td>1591.652728</td>\n",
       "      <td>1593.654418</td>\n",
       "      <td>[250.0, 250.0]</td>\n",
       "      <td>[21235.93333333, 21235.93333333]</td>\n",
       "      <td>drifting_gratings</td>\n",
       "      <td>2.0</td>\n",
       "      <td>0.8</td>\n",
       "      <td>135.0</td>\n",
       "      <td>0.04</td>\n",
       "      <td>2.00169</td>\n",
       "      <td>248</td>\n",
       "    </tr>\n",
       "    <tr>\n",
       "      <th>3801</th>\n",
       "      <td>2.0</td>\n",
       "      <td>1594.655252</td>\n",
       "      <td>1596.656912</td>\n",
       "      <td>[250.0, 250.0]</td>\n",
       "      <td>[21235.93333333, 21235.93333333]</td>\n",
       "      <td>drifting_gratings</td>\n",
       "      <td>2.0</td>\n",
       "      <td>0.8</td>\n",
       "      <td>0.0</td>\n",
       "      <td>0.04</td>\n",
       "      <td>2.00166</td>\n",
       "      <td>249</td>\n",
       "    </tr>\n",
       "    <tr>\n",
       "      <th>3802</th>\n",
       "      <td>2.0</td>\n",
       "      <td>1597.657758</td>\n",
       "      <td>1599.659418</td>\n",
       "      <td>[250.0, 250.0]</td>\n",
       "      <td>[21235.93333333, 21235.93333333]</td>\n",
       "      <td>drifting_gratings</td>\n",
       "      <td>15.0</td>\n",
       "      <td>0.8</td>\n",
       "      <td>315.0</td>\n",
       "      <td>0.04</td>\n",
       "      <td>2.00166</td>\n",
       "      <td>250</td>\n",
       "    </tr>\n",
       "  </tbody>\n",
       "</table>\n",
       "</div>"
      ],
      "text/plain": [
       "                         stimulus_block   start_time    stop_time  \\\n",
       "stimulus_presentation_id                                            \n",
       "3798                                2.0  1585.647748  1587.649398   \n",
       "3799                                2.0  1588.650242  1590.651902   \n",
       "3800                                2.0  1591.652728  1593.654418   \n",
       "3801                                2.0  1594.655252  1596.656912   \n",
       "3802                                2.0  1597.657758  1599.659418   \n",
       "\n",
       "                                    size                             phase  \\\n",
       "stimulus_presentation_id                                                     \n",
       "3798                      [250.0, 250.0]  [21235.93333333, 21235.93333333]   \n",
       "3799                      [250.0, 250.0]  [21235.93333333, 21235.93333333]   \n",
       "3800                      [250.0, 250.0]  [21235.93333333, 21235.93333333]   \n",
       "3801                      [250.0, 250.0]  [21235.93333333, 21235.93333333]   \n",
       "3802                      [250.0, 250.0]  [21235.93333333, 21235.93333333]   \n",
       "\n",
       "                              stimulus_name temporal_frequency contrast  \\\n",
       "stimulus_presentation_id                                                  \n",
       "3798                      drifting_gratings                4.0      0.8   \n",
       "3799                      drifting_gratings                4.0      0.8   \n",
       "3800                      drifting_gratings                2.0      0.8   \n",
       "3801                      drifting_gratings                2.0      0.8   \n",
       "3802                      drifting_gratings               15.0      0.8   \n",
       "\n",
       "                         orientation spatial_frequency  duration  \\\n",
       "stimulus_presentation_id                                           \n",
       "3798                           180.0              0.04   2.00165   \n",
       "3799                           225.0              0.04   2.00166   \n",
       "3800                           135.0              0.04   2.00169   \n",
       "3801                             0.0              0.04   2.00166   \n",
       "3802                           315.0              0.04   2.00166   \n",
       "\n",
       "                          stimulus_condition_id  \n",
       "stimulus_presentation_id                         \n",
       "3798                                        246  \n",
       "3799                                        247  \n",
       "3800                                        248  \n",
       "3801                                        249  \n",
       "3802                                        250  "
      ]
     },
     "execution_count": 5,
     "metadata": {},
     "output_type": "execute_result"
    }
   ],
   "source": [
    "table_drifting = session.get_stimulus_table(\"drifting_gratings\")\n",
    "\n",
    "table_drifting.head()"
   ]
  },
  {
   "cell_type": "markdown",
   "id": "2e9774ff",
   "metadata": {},
   "source": [
    "### Desigining a spike count function"
   ]
  },
  {
   "cell_type": "markdown",
   "id": "522550a1",
   "metadata": {},
   "source": [
    "the function"
   ]
  },
  {
   "cell_type": "code",
   "execution_count": 6,
   "id": "d5411cac",
   "metadata": {},
   "outputs": [],
   "source": [
    "def get_spike(session, stimuli, ecephys_structure_acronym):\n",
    "\n",
    "    table = session.get_stimulus_table(stimuli)\n",
    "\n",
    "\n",
    "    stimulus_presentation_ids = table.index.values\n",
    "    unit_ids = session.units[session.units[\"ecephys_structure_acronym\"] == ecephys_structure_acronym].index.values\n",
    "\n",
    "    spike_counts = session.conditionwise_spike_statistics(\n",
    "        stimulus_presentation_ids=stimulus_presentation_ids,\n",
    "        unit_ids =unit_ids,\n",
    "    )\n",
    " \n",
    "    return spike_counts"
   ]
  },
  {
   "cell_type": "code",
   "execution_count": 7,
   "id": "2996d639",
   "metadata": {},
   "outputs": [
    {
     "ename": "KeyboardInterrupt",
     "evalue": "",
     "output_type": "error",
     "traceback": [
      "\u001b[1;31m---------------------------------------------------------------------------\u001b[0m",
      "\u001b[1;31mKeyboardInterrupt\u001b[0m                         Traceback (most recent call last)",
      "Cell \u001b[1;32mIn[7], line 1\u001b[0m\n\u001b[1;32m----> 1\u001b[0m static_spike_counts \u001b[38;5;241m=\u001b[39m \u001b[43mget_spike\u001b[49m\u001b[43m(\u001b[49m\u001b[43msession\u001b[49m\u001b[43m,\u001b[49m\u001b[43m \u001b[49m\u001b[43mstimuli\u001b[49m\u001b[43m \u001b[49m\u001b[38;5;241;43m=\u001b[39;49m\u001b[43m \u001b[49m\u001b[38;5;124;43m\"\u001b[39;49m\u001b[38;5;124;43mstatic_gratings\u001b[39;49m\u001b[38;5;124;43m\"\u001b[39;49m\u001b[43m,\u001b[49m\u001b[43m \u001b[49m\u001b[43mecephys_structure_acronym\u001b[49m\u001b[38;5;241;43m=\u001b[39;49m\u001b[38;5;124;43m\"\u001b[39;49m\u001b[38;5;124;43mVISam\u001b[39;49m\u001b[38;5;124;43m\"\u001b[39;49m\u001b[43m)\u001b[49m\n\u001b[0;32m      3\u001b[0m static_spike_counts\n",
      "Cell \u001b[1;32mIn[6], line 9\u001b[0m, in \u001b[0;36mget_spike\u001b[1;34m(session, stimuli, ecephys_structure_acronym)\u001b[0m\n\u001b[0;32m      6\u001b[0m stimulus_presentation_ids \u001b[38;5;241m=\u001b[39m table\u001b[38;5;241m.\u001b[39mindex\u001b[38;5;241m.\u001b[39mvalues\n\u001b[0;32m      7\u001b[0m unit_ids \u001b[38;5;241m=\u001b[39m session\u001b[38;5;241m.\u001b[39munits[session\u001b[38;5;241m.\u001b[39munits[\u001b[38;5;124m\"\u001b[39m\u001b[38;5;124mecephys_structure_acronym\u001b[39m\u001b[38;5;124m\"\u001b[39m] \u001b[38;5;241m==\u001b[39m ecephys_structure_acronym]\u001b[38;5;241m.\u001b[39mindex\u001b[38;5;241m.\u001b[39mvalues\n\u001b[1;32m----> 9\u001b[0m spike_counts \u001b[38;5;241m=\u001b[39m \u001b[43msession\u001b[49m\u001b[38;5;241;43m.\u001b[39;49m\u001b[43mconditionwise_spike_statistics\u001b[49m\u001b[43m(\u001b[49m\n\u001b[0;32m     10\u001b[0m \u001b[43m    \u001b[49m\u001b[43mstimulus_presentation_ids\u001b[49m\u001b[38;5;241;43m=\u001b[39;49m\u001b[43mstimulus_presentation_ids\u001b[49m\u001b[43m,\u001b[49m\n\u001b[0;32m     11\u001b[0m \u001b[43m    \u001b[49m\u001b[43munit_ids\u001b[49m\u001b[43m \u001b[49m\u001b[38;5;241;43m=\u001b[39;49m\u001b[43munit_ids\u001b[49m\u001b[43m,\u001b[49m\n\u001b[0;32m     12\u001b[0m \u001b[43m\u001b[49m\u001b[43m)\u001b[49m\n\u001b[0;32m     14\u001b[0m \u001b[38;5;28;01mreturn\u001b[39;00m spike_counts\n",
      "File \u001b[1;32mc:\\Users\\georg\\anaconda3\\Anaconda1\\envs\\neuroscience_project\\Lib\\site-packages\\allensdk\\brain_observatory\\ecephys\\ecephys_session.py:946\u001b[0m, in \u001b[0;36mEcephysSession.conditionwise_spike_statistics\u001b[1;34m(self, stimulus_presentation_ids, unit_ids, use_rates)\u001b[0m\n\u001b[0;32m    942\u001b[0m spike_counts \u001b[38;5;241m=\u001b[39m spikes\u001b[38;5;241m.\u001b[39mcopy()\n\u001b[0;32m    943\u001b[0m spike_counts[\u001b[38;5;124m\"\u001b[39m\u001b[38;5;124mspike_count\u001b[39m\u001b[38;5;124m\"\u001b[39m] \u001b[38;5;241m=\u001b[39m np\u001b[38;5;241m.\u001b[39mzeros(spike_counts\u001b[38;5;241m.\u001b[39mshape[\u001b[38;5;241m0\u001b[39m])\n\u001b[0;32m    944\u001b[0m spike_counts \u001b[38;5;241m=\u001b[39m \\\n\u001b[0;32m    945\u001b[0m     \u001b[43mspike_counts\u001b[49m\u001b[38;5;241;43m.\u001b[39;49m\u001b[43mgroupby\u001b[49m\u001b[43m(\u001b[49m\u001b[43m[\u001b[49m\u001b[38;5;124;43m\"\u001b[39;49m\u001b[38;5;124;43mstimulus_presentation_id\u001b[39;49m\u001b[38;5;124;43m\"\u001b[39;49m\u001b[43m,\u001b[49m\n\u001b[1;32m--> 946\u001b[0m \u001b[43m                          \u001b[49m\u001b[38;5;124;43m\"\u001b[39;49m\u001b[38;5;124;43munit_id\u001b[39;49m\u001b[38;5;124;43m\"\u001b[39;49m\u001b[43m]\u001b[49m\u001b[43m)\u001b[49m\u001b[38;5;241;43m.\u001b[39;49m\u001b[43mcount\u001b[49m\u001b[43m(\u001b[49m\u001b[43m)\u001b[49m\n\u001b[0;32m    948\u001b[0m \u001b[38;5;66;03m# If not explicity stated get unit ids from spikes table.\u001b[39;00m\n\u001b[0;32m    949\u001b[0m unit_ids \u001b[38;5;241m=\u001b[39m unit_ids \u001b[38;5;28;01mif\u001b[39;00m unit_ids \u001b[38;5;129;01mis\u001b[39;00m \u001b[38;5;129;01mnot\u001b[39;00m \u001b[38;5;28;01mNone\u001b[39;00m \\\n\u001b[0;32m    950\u001b[0m     \u001b[38;5;28;01melse\u001b[39;00m spikes[\u001b[38;5;124m'\u001b[39m\u001b[38;5;124munit_id\u001b[39m\u001b[38;5;124m'\u001b[39m]\u001b[38;5;241m.\u001b[39munique()\n",
      "File \u001b[1;32mc:\\Users\\georg\\anaconda3\\Anaconda1\\envs\\neuroscience_project\\Lib\\site-packages\\pandas\\core\\groupby\\groupby.py:2070\u001b[0m, in \u001b[0;36mGroupBy.count\u001b[1;34m(self)\u001b[0m\n\u001b[0;32m   2061\u001b[0m \u001b[38;5;250m\u001b[39m\u001b[38;5;124;03m\"\"\"\u001b[39;00m\n\u001b[0;32m   2062\u001b[0m \u001b[38;5;124;03mCompute count of group, excluding missing values.\u001b[39;00m\n\u001b[0;32m   2063\u001b[0m \n\u001b[1;32m   (...)\u001b[0m\n\u001b[0;32m   2067\u001b[0m \u001b[38;5;124;03m    Count of values within each group.\u001b[39;00m\n\u001b[0;32m   2068\u001b[0m \u001b[38;5;124;03m\"\"\"\u001b[39;00m\n\u001b[0;32m   2069\u001b[0m data \u001b[38;5;241m=\u001b[39m \u001b[38;5;28mself\u001b[39m\u001b[38;5;241m.\u001b[39m_get_data_to_aggregate()\n\u001b[1;32m-> 2070\u001b[0m ids, _, ngroups \u001b[38;5;241m=\u001b[39m \u001b[38;5;28;43mself\u001b[39;49m\u001b[38;5;241;43m.\u001b[39;49m\u001b[43mgrouper\u001b[49m\u001b[38;5;241;43m.\u001b[39;49m\u001b[43mgroup_info\u001b[49m\n\u001b[0;32m   2071\u001b[0m mask \u001b[38;5;241m=\u001b[39m ids \u001b[38;5;241m!=\u001b[39m \u001b[38;5;241m-\u001b[39m\u001b[38;5;241m1\u001b[39m\n\u001b[0;32m   2073\u001b[0m is_series \u001b[38;5;241m=\u001b[39m data\u001b[38;5;241m.\u001b[39mndim \u001b[38;5;241m==\u001b[39m \u001b[38;5;241m1\u001b[39m\n",
      "File \u001b[1;32mc:\\Users\\georg\\anaconda3\\Anaconda1\\envs\\neuroscience_project\\Lib\\site-packages\\pandas\\_libs\\properties.pyx:36\u001b[0m, in \u001b[0;36mpandas._libs.properties.CachedProperty.__get__\u001b[1;34m()\u001b[0m\n",
      "File \u001b[1;32mc:\\Users\\georg\\anaconda3\\Anaconda1\\envs\\neuroscience_project\\Lib\\site-packages\\pandas\\core\\groupby\\ops.py:946\u001b[0m, in \u001b[0;36mBaseGrouper.group_info\u001b[1;34m(self)\u001b[0m\n\u001b[0;32m    944\u001b[0m \u001b[38;5;129m@cache_readonly\u001b[39m\n\u001b[0;32m    945\u001b[0m \u001b[38;5;28;01mdef\u001b[39;00m\u001b[38;5;250m \u001b[39m\u001b[38;5;21mgroup_info\u001b[39m(\u001b[38;5;28mself\u001b[39m) \u001b[38;5;241m-\u001b[39m\u001b[38;5;241m>\u001b[39m \u001b[38;5;28mtuple\u001b[39m[npt\u001b[38;5;241m.\u001b[39mNDArray[np\u001b[38;5;241m.\u001b[39mintp], npt\u001b[38;5;241m.\u001b[39mNDArray[np\u001b[38;5;241m.\u001b[39mintp], \u001b[38;5;28mint\u001b[39m]:\n\u001b[1;32m--> 946\u001b[0m     comp_ids, obs_group_ids \u001b[38;5;241m=\u001b[39m \u001b[38;5;28;43mself\u001b[39;49m\u001b[38;5;241;43m.\u001b[39;49m\u001b[43m_get_compressed_codes\u001b[49m\u001b[43m(\u001b[49m\u001b[43m)\u001b[49m\n\u001b[0;32m    948\u001b[0m     ngroups \u001b[38;5;241m=\u001b[39m \u001b[38;5;28mlen\u001b[39m(obs_group_ids)\n\u001b[0;32m    949\u001b[0m     comp_ids \u001b[38;5;241m=\u001b[39m ensure_platform_int(comp_ids)\n",
      "File \u001b[1;32mc:\\Users\\georg\\anaconda3\\Anaconda1\\envs\\neuroscience_project\\Lib\\site-packages\\pandas\\core\\groupby\\ops.py:972\u001b[0m, in \u001b[0;36mBaseGrouper._get_compressed_codes\u001b[1;34m(self)\u001b[0m\n\u001b[0;32m    966\u001b[0m \u001b[38;5;129m@final\u001b[39m\n\u001b[0;32m    967\u001b[0m \u001b[38;5;28;01mdef\u001b[39;00m\u001b[38;5;250m \u001b[39m\u001b[38;5;21m_get_compressed_codes\u001b[39m(\n\u001b[0;32m    968\u001b[0m     \u001b[38;5;28mself\u001b[39m,\n\u001b[0;32m    969\u001b[0m ) \u001b[38;5;241m-\u001b[39m\u001b[38;5;241m>\u001b[39m \u001b[38;5;28mtuple\u001b[39m[npt\u001b[38;5;241m.\u001b[39mNDArray[np\u001b[38;5;241m.\u001b[39msignedinteger], npt\u001b[38;5;241m.\u001b[39mNDArray[np\u001b[38;5;241m.\u001b[39mintp]]:\n\u001b[0;32m    970\u001b[0m     \u001b[38;5;66;03m# The first returned ndarray may have any signed integer dtype\u001b[39;00m\n\u001b[0;32m    971\u001b[0m     \u001b[38;5;28;01mif\u001b[39;00m \u001b[38;5;28mlen\u001b[39m(\u001b[38;5;28mself\u001b[39m\u001b[38;5;241m.\u001b[39mgroupings) \u001b[38;5;241m>\u001b[39m \u001b[38;5;241m1\u001b[39m:\n\u001b[1;32m--> 972\u001b[0m         group_index \u001b[38;5;241m=\u001b[39m get_group_index(\u001b[38;5;28;43mself\u001b[39;49m\u001b[38;5;241;43m.\u001b[39;49m\u001b[43mcodes\u001b[49m, \u001b[38;5;28mself\u001b[39m\u001b[38;5;241m.\u001b[39mshape, sort\u001b[38;5;241m=\u001b[39m\u001b[38;5;28;01mTrue\u001b[39;00m, xnull\u001b[38;5;241m=\u001b[39m\u001b[38;5;28;01mTrue\u001b[39;00m)\n\u001b[0;32m    973\u001b[0m         \u001b[38;5;28;01mreturn\u001b[39;00m compress_group_index(group_index, sort\u001b[38;5;241m=\u001b[39m\u001b[38;5;28mself\u001b[39m\u001b[38;5;241m.\u001b[39m_sort)\n\u001b[0;32m    974\u001b[0m         \u001b[38;5;66;03m# FIXME: compress_group_index's second return value is int64, not intp\u001b[39;00m\n",
      "File \u001b[1;32mc:\\Users\\georg\\anaconda3\\Anaconda1\\envs\\neuroscience_project\\Lib\\site-packages\\pandas\\core\\groupby\\ops.py:897\u001b[0m, in \u001b[0;36mBaseGrouper.codes\u001b[1;34m(self)\u001b[0m\n\u001b[0;32m    894\u001b[0m \u001b[38;5;129m@final\u001b[39m\n\u001b[0;32m    895\u001b[0m \u001b[38;5;129m@property\u001b[39m\n\u001b[0;32m    896\u001b[0m \u001b[38;5;28;01mdef\u001b[39;00m\u001b[38;5;250m \u001b[39m\u001b[38;5;21mcodes\u001b[39m(\u001b[38;5;28mself\u001b[39m) \u001b[38;5;241m-\u001b[39m\u001b[38;5;241m>\u001b[39m \u001b[38;5;28mlist\u001b[39m[npt\u001b[38;5;241m.\u001b[39mNDArray[np\u001b[38;5;241m.\u001b[39msignedinteger]]:\n\u001b[1;32m--> 897\u001b[0m     \u001b[38;5;28;01mreturn\u001b[39;00m \u001b[43m[\u001b[49m\u001b[43mping\u001b[49m\u001b[38;5;241;43m.\u001b[39;49m\u001b[43mcodes\u001b[49m\u001b[43m \u001b[49m\u001b[38;5;28;43;01mfor\u001b[39;49;00m\u001b[43m \u001b[49m\u001b[43mping\u001b[49m\u001b[43m \u001b[49m\u001b[38;5;129;43;01min\u001b[39;49;00m\u001b[43m \u001b[49m\u001b[38;5;28;43mself\u001b[39;49m\u001b[38;5;241;43m.\u001b[39;49m\u001b[43mgroupings\u001b[49m\u001b[43m]\u001b[49m\n",
      "File \u001b[1;32mc:\\Users\\georg\\anaconda3\\Anaconda1\\envs\\neuroscience_project\\Lib\\site-packages\\pandas\\core\\groupby\\ops.py:897\u001b[0m, in \u001b[0;36m<listcomp>\u001b[1;34m(.0)\u001b[0m\n\u001b[0;32m    894\u001b[0m \u001b[38;5;129m@final\u001b[39m\n\u001b[0;32m    895\u001b[0m \u001b[38;5;129m@property\u001b[39m\n\u001b[0;32m    896\u001b[0m \u001b[38;5;28;01mdef\u001b[39;00m\u001b[38;5;250m \u001b[39m\u001b[38;5;21mcodes\u001b[39m(\u001b[38;5;28mself\u001b[39m) \u001b[38;5;241m-\u001b[39m\u001b[38;5;241m>\u001b[39m \u001b[38;5;28mlist\u001b[39m[npt\u001b[38;5;241m.\u001b[39mNDArray[np\u001b[38;5;241m.\u001b[39msignedinteger]]:\n\u001b[1;32m--> 897\u001b[0m     \u001b[38;5;28;01mreturn\u001b[39;00m [\u001b[43mping\u001b[49m\u001b[38;5;241;43m.\u001b[39;49m\u001b[43mcodes\u001b[49m \u001b[38;5;28;01mfor\u001b[39;00m ping \u001b[38;5;129;01min\u001b[39;00m \u001b[38;5;28mself\u001b[39m\u001b[38;5;241m.\u001b[39mgroupings]\n",
      "File \u001b[1;32mc:\\Users\\georg\\anaconda3\\Anaconda1\\envs\\neuroscience_project\\Lib\\site-packages\\pandas\\core\\groupby\\grouper.py:621\u001b[0m, in \u001b[0;36mGrouping.codes\u001b[1;34m(self)\u001b[0m\n\u001b[0;32m    617\u001b[0m \u001b[38;5;28;01mif\u001b[39;00m \u001b[38;5;28mself\u001b[39m\u001b[38;5;241m.\u001b[39m_codes \u001b[38;5;129;01mis\u001b[39;00m \u001b[38;5;129;01mnot\u001b[39;00m \u001b[38;5;28;01mNone\u001b[39;00m:\n\u001b[0;32m    618\u001b[0m     \u001b[38;5;66;03m# _codes is set in __init__ for MultiIndex cases\u001b[39;00m\n\u001b[0;32m    619\u001b[0m     \u001b[38;5;28;01mreturn\u001b[39;00m \u001b[38;5;28mself\u001b[39m\u001b[38;5;241m.\u001b[39m_codes\n\u001b[1;32m--> 621\u001b[0m \u001b[38;5;28;01mreturn\u001b[39;00m \u001b[38;5;28;43mself\u001b[39;49m\u001b[38;5;241;43m.\u001b[39;49m\u001b[43m_codes_and_uniques\u001b[49m[\u001b[38;5;241m0\u001b[39m]\n",
      "File \u001b[1;32mc:\\Users\\georg\\anaconda3\\Anaconda1\\envs\\neuroscience_project\\Lib\\site-packages\\pandas\\_libs\\properties.pyx:36\u001b[0m, in \u001b[0;36mpandas._libs.properties.CachedProperty.__get__\u001b[1;34m()\u001b[0m\n",
      "File \u001b[1;32mc:\\Users\\georg\\anaconda3\\Anaconda1\\envs\\neuroscience_project\\Lib\\site-packages\\pandas\\core\\groupby\\grouper.py:692\u001b[0m, in \u001b[0;36mGrouping._codes_and_uniques\u001b[1;34m(self)\u001b[0m\n\u001b[0;32m    685\u001b[0m     uniques \u001b[38;5;241m=\u001b[39m (\n\u001b[0;32m    686\u001b[0m         \u001b[38;5;28mself\u001b[39m\u001b[38;5;241m.\u001b[39mgrouping_vector\u001b[38;5;241m.\u001b[39mresult_index\u001b[38;5;241m.\u001b[39m_values  \u001b[38;5;66;03m# type: ignore[assignment]\u001b[39;00m\n\u001b[0;32m    687\u001b[0m     )\n\u001b[0;32m    688\u001b[0m \u001b[38;5;28;01melse\u001b[39;00m:\n\u001b[0;32m    689\u001b[0m     \u001b[38;5;66;03m# GH35667, replace dropna=False with use_na_sentinel=False\u001b[39;00m\n\u001b[0;32m    690\u001b[0m     \u001b[38;5;66;03m# error: Incompatible types in assignment (expression has type \"Union[\u001b[39;00m\n\u001b[0;32m    691\u001b[0m     \u001b[38;5;66;03m# ndarray[Any, Any], Index]\", variable has type \"Categorical\")\u001b[39;00m\n\u001b[1;32m--> 692\u001b[0m     codes, uniques \u001b[38;5;241m=\u001b[39m \u001b[43malgorithms\u001b[49m\u001b[38;5;241;43m.\u001b[39;49m\u001b[43mfactorize\u001b[49m\u001b[43m(\u001b[49m\u001b[43m  \u001b[49m\u001b[38;5;66;43;03m# type: ignore[assignment]\u001b[39;49;00m\n\u001b[0;32m    693\u001b[0m \u001b[43m        \u001b[49m\u001b[38;5;28;43mself\u001b[39;49m\u001b[38;5;241;43m.\u001b[39;49m\u001b[43mgrouping_vector\u001b[49m\u001b[43m,\u001b[49m\u001b[43m \u001b[49m\u001b[43msort\u001b[49m\u001b[38;5;241;43m=\u001b[39;49m\u001b[38;5;28;43mself\u001b[39;49m\u001b[38;5;241;43m.\u001b[39;49m\u001b[43m_sort\u001b[49m\u001b[43m,\u001b[49m\u001b[43m \u001b[49m\u001b[43muse_na_sentinel\u001b[49m\u001b[38;5;241;43m=\u001b[39;49m\u001b[38;5;28;43mself\u001b[39;49m\u001b[38;5;241;43m.\u001b[39;49m\u001b[43m_dropna\u001b[49m\n\u001b[0;32m    694\u001b[0m \u001b[43m    \u001b[49m\u001b[43m)\u001b[49m\n\u001b[0;32m    695\u001b[0m \u001b[38;5;28;01mreturn\u001b[39;00m codes, uniques\n",
      "File \u001b[1;32mc:\\Users\\georg\\anaconda3\\Anaconda1\\envs\\neuroscience_project\\Lib\\site-packages\\pandas\\core\\algorithms.py:822\u001b[0m, in \u001b[0;36mfactorize\u001b[1;34m(values, sort, na_sentinel, use_na_sentinel, size_hint)\u001b[0m\n\u001b[0;32m    819\u001b[0m             \u001b[38;5;66;03m# Don't modify (potentially user-provided) array\u001b[39;00m\n\u001b[0;32m    820\u001b[0m             values \u001b[38;5;241m=\u001b[39m np\u001b[38;5;241m.\u001b[39mwhere(null_mask, na_value, values)\n\u001b[1;32m--> 822\u001b[0m     codes, uniques \u001b[38;5;241m=\u001b[39m \u001b[43mfactorize_array\u001b[49m\u001b[43m(\u001b[49m\n\u001b[0;32m    823\u001b[0m \u001b[43m        \u001b[49m\u001b[43mvalues\u001b[49m\u001b[43m,\u001b[49m\n\u001b[0;32m    824\u001b[0m \u001b[43m        \u001b[49m\u001b[43mna_sentinel\u001b[49m\u001b[38;5;241;43m=\u001b[39;49m\u001b[43mna_sentinel_arg\u001b[49m\u001b[43m,\u001b[49m\n\u001b[0;32m    825\u001b[0m \u001b[43m        \u001b[49m\u001b[43msize_hint\u001b[49m\u001b[38;5;241;43m=\u001b[39;49m\u001b[43msize_hint\u001b[49m\u001b[43m,\u001b[49m\n\u001b[0;32m    826\u001b[0m \u001b[43m    \u001b[49m\u001b[43m)\u001b[49m\n\u001b[0;32m    828\u001b[0m \u001b[38;5;28;01mif\u001b[39;00m sort \u001b[38;5;129;01mand\u001b[39;00m \u001b[38;5;28mlen\u001b[39m(uniques) \u001b[38;5;241m>\u001b[39m \u001b[38;5;241m0\u001b[39m:\n\u001b[0;32m    829\u001b[0m     \u001b[38;5;28;01mif\u001b[39;00m na_sentinel \u001b[38;5;129;01mis\u001b[39;00m \u001b[38;5;28;01mNone\u001b[39;00m:\n\u001b[0;32m    830\u001b[0m         \u001b[38;5;66;03m# TODO: Can remove when na_sentinel=na_sentinel as in TODO above\u001b[39;00m\n",
      "File \u001b[1;32mc:\\Users\\georg\\anaconda3\\Anaconda1\\envs\\neuroscience_project\\Lib\\site-packages\\pandas\\core\\algorithms.py:578\u001b[0m, in \u001b[0;36mfactorize_array\u001b[1;34m(values, na_sentinel, size_hint, na_value, mask)\u001b[0m\n\u001b[0;32m    575\u001b[0m hash_klass, values \u001b[38;5;241m=\u001b[39m _get_hashtable_algo(values)\n\u001b[0;32m    577\u001b[0m table \u001b[38;5;241m=\u001b[39m hash_klass(size_hint \u001b[38;5;129;01mor\u001b[39;00m \u001b[38;5;28mlen\u001b[39m(values))\n\u001b[1;32m--> 578\u001b[0m uniques, codes \u001b[38;5;241m=\u001b[39m \u001b[43mtable\u001b[49m\u001b[38;5;241;43m.\u001b[39;49m\u001b[43mfactorize\u001b[49m\u001b[43m(\u001b[49m\n\u001b[0;32m    579\u001b[0m \u001b[43m    \u001b[49m\u001b[43mvalues\u001b[49m\u001b[43m,\u001b[49m\n\u001b[0;32m    580\u001b[0m \u001b[43m    \u001b[49m\u001b[43mna_sentinel\u001b[49m\u001b[38;5;241;43m=\u001b[39;49m\u001b[43mna_sentinel\u001b[49m\u001b[43m,\u001b[49m\n\u001b[0;32m    581\u001b[0m \u001b[43m    \u001b[49m\u001b[43mna_value\u001b[49m\u001b[38;5;241;43m=\u001b[39;49m\u001b[43mna_value\u001b[49m\u001b[43m,\u001b[49m\n\u001b[0;32m    582\u001b[0m \u001b[43m    \u001b[49m\u001b[43mmask\u001b[49m\u001b[38;5;241;43m=\u001b[39;49m\u001b[43mmask\u001b[49m\u001b[43m,\u001b[49m\n\u001b[0;32m    583\u001b[0m \u001b[43m    \u001b[49m\u001b[43mignore_na\u001b[49m\u001b[38;5;241;43m=\u001b[39;49m\u001b[43mignore_na\u001b[49m\u001b[43m,\u001b[49m\n\u001b[0;32m    584\u001b[0m \u001b[43m\u001b[49m\u001b[43m)\u001b[49m\n\u001b[0;32m    586\u001b[0m \u001b[38;5;66;03m# re-cast e.g. i8->dt64/td64, uint8->bool\u001b[39;00m\n\u001b[0;32m    587\u001b[0m uniques \u001b[38;5;241m=\u001b[39m _reconstruct_data(uniques, original\u001b[38;5;241m.\u001b[39mdtype, original)\n",
      "\u001b[1;31mKeyboardInterrupt\u001b[0m: "
     ]
    }
   ],
   "source": [
    "static_spike_counts = get_spike(session, stimuli = \"static_gratings\", ecephys_structure_acronym=\"VISam\")\n",
    "\n",
    "static_spike_counts\n",
    "\n"
   ]
  },
  {
   "cell_type": "code",
   "execution_count": null,
   "id": "51ab32e0",
   "metadata": {},
   "outputs": [
    {
     "data": {
      "text/html": [
       "<div>\n",
       "<style scoped>\n",
       "    .dataframe tbody tr th:only-of-type {\n",
       "        vertical-align: middle;\n",
       "    }\n",
       "\n",
       "    .dataframe tbody tr th {\n",
       "        vertical-align: top;\n",
       "    }\n",
       "\n",
       "    .dataframe thead th {\n",
       "        text-align: right;\n",
       "    }\n",
       "</style>\n",
       "<table border=\"1\" class=\"dataframe\">\n",
       "  <thead>\n",
       "    <tr style=\"text-align: right;\">\n",
       "      <th></th>\n",
       "      <th></th>\n",
       "      <th>spike_count</th>\n",
       "      <th>stimulus_presentation_count</th>\n",
       "      <th>spike_mean</th>\n",
       "      <th>spike_std</th>\n",
       "      <th>spike_sem</th>\n",
       "    </tr>\n",
       "    <tr>\n",
       "      <th>unit_id</th>\n",
       "      <th>stimulus_condition_id</th>\n",
       "      <th></th>\n",
       "      <th></th>\n",
       "      <th></th>\n",
       "      <th></th>\n",
       "      <th></th>\n",
       "    </tr>\n",
       "  </thead>\n",
       "  <tbody>\n",
       "    <tr>\n",
       "      <th>951819523</th>\n",
       "      <th>246</th>\n",
       "      <td>147</td>\n",
       "      <td>15</td>\n",
       "      <td>9.800000</td>\n",
       "      <td>9.412757</td>\n",
       "      <td>2.430363</td>\n",
       "    </tr>\n",
       "    <tr>\n",
       "      <th>951819532</th>\n",
       "      <th>246</th>\n",
       "      <td>202</td>\n",
       "      <td>15</td>\n",
       "      <td>13.466667</td>\n",
       "      <td>18.212502</td>\n",
       "      <td>4.702448</td>\n",
       "    </tr>\n",
       "    <tr>\n",
       "      <th>951819541</th>\n",
       "      <th>246</th>\n",
       "      <td>129</td>\n",
       "      <td>15</td>\n",
       "      <td>8.600000</td>\n",
       "      <td>5.315745</td>\n",
       "      <td>1.372519</td>\n",
       "    </tr>\n",
       "    <tr>\n",
       "      <th>951819550</th>\n",
       "      <th>246</th>\n",
       "      <td>50</td>\n",
       "      <td>15</td>\n",
       "      <td>3.333333</td>\n",
       "      <td>5.246314</td>\n",
       "      <td>1.354592</td>\n",
       "    </tr>\n",
       "    <tr>\n",
       "      <th>951819732</th>\n",
       "      <th>246</th>\n",
       "      <td>793</td>\n",
       "      <td>15</td>\n",
       "      <td>52.866667</td>\n",
       "      <td>30.258096</td>\n",
       "      <td>7.812607</td>\n",
       "    </tr>\n",
       "    <tr>\n",
       "      <th>...</th>\n",
       "      <th>...</th>\n",
       "      <td>...</td>\n",
       "      <td>...</td>\n",
       "      <td>...</td>\n",
       "      <td>...</td>\n",
       "      <td>...</td>\n",
       "    </tr>\n",
       "    <tr>\n",
       "      <th>951820825</th>\n",
       "      <th>286</th>\n",
       "      <td>44</td>\n",
       "      <td>15</td>\n",
       "      <td>2.933333</td>\n",
       "      <td>6.485882</td>\n",
       "      <td>1.674648</td>\n",
       "    </tr>\n",
       "    <tr>\n",
       "      <th>951820832</th>\n",
       "      <th>286</th>\n",
       "      <td>3</td>\n",
       "      <td>15</td>\n",
       "      <td>0.200000</td>\n",
       "      <td>0.414039</td>\n",
       "      <td>0.106904</td>\n",
       "    </tr>\n",
       "    <tr>\n",
       "      <th>951820847</th>\n",
       "      <th>286</th>\n",
       "      <td>16</td>\n",
       "      <td>15</td>\n",
       "      <td>1.066667</td>\n",
       "      <td>1.334523</td>\n",
       "      <td>0.344572</td>\n",
       "    </tr>\n",
       "    <tr>\n",
       "      <th>951820868</th>\n",
       "      <th>286</th>\n",
       "      <td>40</td>\n",
       "      <td>15</td>\n",
       "      <td>2.666667</td>\n",
       "      <td>4.047339</td>\n",
       "      <td>1.045018</td>\n",
       "    </tr>\n",
       "    <tr>\n",
       "      <th>951820989</th>\n",
       "      <th>286</th>\n",
       "      <td>29</td>\n",
       "      <td>15</td>\n",
       "      <td>1.933333</td>\n",
       "      <td>1.334523</td>\n",
       "      <td>0.344572</td>\n",
       "    </tr>\n",
       "  </tbody>\n",
       "</table>\n",
       "<p>2460 rows × 5 columns</p>\n",
       "</div>"
      ],
      "text/plain": [
       "                                 spike_count  stimulus_presentation_count  \\\n",
       "unit_id   stimulus_condition_id                                             \n",
       "951819523 246                            147                           15   \n",
       "951819532 246                            202                           15   \n",
       "951819541 246                            129                           15   \n",
       "951819550 246                             50                           15   \n",
       "951819732 246                            793                           15   \n",
       "...                                      ...                          ...   \n",
       "951820825 286                             44                           15   \n",
       "951820832 286                              3                           15   \n",
       "951820847 286                             16                           15   \n",
       "951820868 286                             40                           15   \n",
       "951820989 286                             29                           15   \n",
       "\n",
       "                                 spike_mean  spike_std  spike_sem  \n",
       "unit_id   stimulus_condition_id                                    \n",
       "951819523 246                      9.800000   9.412757   2.430363  \n",
       "951819532 246                     13.466667  18.212502   4.702448  \n",
       "951819541 246                      8.600000   5.315745   1.372519  \n",
       "951819550 246                      3.333333   5.246314   1.354592  \n",
       "951819732 246                     52.866667  30.258096   7.812607  \n",
       "...                                     ...        ...        ...  \n",
       "951820825 286                      2.933333   6.485882   1.674648  \n",
       "951820832 286                      0.200000   0.414039   0.106904  \n",
       "951820847 286                      1.066667   1.334523   0.344572  \n",
       "951820868 286                      2.666667   4.047339   1.045018  \n",
       "951820989 286                      1.933333   1.334523   0.344572  \n",
       "\n",
       "[2460 rows x 5 columns]"
      ]
     },
     "execution_count": 8,
     "metadata": {},
     "output_type": "execute_result"
    }
   ],
   "source": [
    "drifting_spike_counts = get_spike(session, stimuli = \"drifting_gratings\", ecephys_structure_acronym=\"VISam\")\n",
    "\n",
    "drifting_spike_counts"
   ]
  },
  {
   "cell_type": "markdown",
   "id": "d27c3b11",
   "metadata": {},
   "source": [
    "Immediately we notice that there are approx. 3x as many units identified for static gratings than drifting gratings. \n",
    "\n",
    "(??? How is it that for a session we only have around 60 units in VISam but then there are )"
   ]
  },
  {
   "cell_type": "markdown",
   "id": "8842899a",
   "metadata": {},
   "source": [
    "### Analyzing the spike means to see how much units get activated when encountering single stimulus"
   ]
  },
  {
   "cell_type": "code",
   "execution_count": 2,
   "id": "b3ee6feb",
   "metadata": {},
   "outputs": [],
   "source": [
    "import pandas as pd\n",
    "import matplotlib.pyplot as plt\n",
    "import seaborn as sns\n",
    "from scipy import stats"
   ]
  },
  {
   "cell_type": "code",
   "execution_count": null,
   "id": "44059084",
   "metadata": {},
   "outputs": [
    {
     "data": {
      "text/html": [
       "<div>\n",
       "<style scoped>\n",
       "    .dataframe tbody tr th:only-of-type {\n",
       "        vertical-align: middle;\n",
       "    }\n",
       "\n",
       "    .dataframe tbody tr th {\n",
       "        vertical-align: top;\n",
       "    }\n",
       "\n",
       "    .dataframe thead th {\n",
       "        text-align: right;\n",
       "    }\n",
       "</style>\n",
       "<table border=\"1\" class=\"dataframe\">\n",
       "  <thead>\n",
       "    <tr style=\"text-align: right;\">\n",
       "      <th></th>\n",
       "      <th>spike_count</th>\n",
       "      <th>stimulus_presentation_count</th>\n",
       "      <th>spike_mean</th>\n",
       "      <th>spike_std</th>\n",
       "      <th>spike_sem</th>\n",
       "    </tr>\n",
       "    <tr>\n",
       "      <th>unit_id</th>\n",
       "      <th></th>\n",
       "      <th></th>\n",
       "      <th></th>\n",
       "      <th></th>\n",
       "      <th></th>\n",
       "    </tr>\n",
       "  </thead>\n",
       "  <tbody>\n",
       "    <tr>\n",
       "      <th>951819523</th>\n",
       "      <td>21</td>\n",
       "      <td>49</td>\n",
       "      <td>0.428571</td>\n",
       "      <td>1.040833</td>\n",
       "      <td>0.148690</td>\n",
       "    </tr>\n",
       "    <tr>\n",
       "      <th>951819532</th>\n",
       "      <td>35</td>\n",
       "      <td>49</td>\n",
       "      <td>0.714286</td>\n",
       "      <td>0.707107</td>\n",
       "      <td>0.101015</td>\n",
       "    </tr>\n",
       "    <tr>\n",
       "      <th>951819541</th>\n",
       "      <td>86</td>\n",
       "      <td>49</td>\n",
       "      <td>1.755102</td>\n",
       "      <td>1.774009</td>\n",
       "      <td>0.253430</td>\n",
       "    </tr>\n",
       "    <tr>\n",
       "      <th>951819550</th>\n",
       "      <td>41</td>\n",
       "      <td>49</td>\n",
       "      <td>0.836735</td>\n",
       "      <td>1.650088</td>\n",
       "      <td>0.235727</td>\n",
       "    </tr>\n",
       "    <tr>\n",
       "      <th>951819732</th>\n",
       "      <td>233</td>\n",
       "      <td>49</td>\n",
       "      <td>4.755102</td>\n",
       "      <td>2.250283</td>\n",
       "      <td>0.321469</td>\n",
       "    </tr>\n",
       "    <tr>\n",
       "      <th>...</th>\n",
       "      <td>...</td>\n",
       "      <td>...</td>\n",
       "      <td>...</td>\n",
       "      <td>...</td>\n",
       "      <td>...</td>\n",
       "    </tr>\n",
       "    <tr>\n",
       "      <th>951820825</th>\n",
       "      <td>4</td>\n",
       "      <td>48</td>\n",
       "      <td>0.083333</td>\n",
       "      <td>0.347228</td>\n",
       "      <td>0.050118</td>\n",
       "    </tr>\n",
       "    <tr>\n",
       "      <th>951820832</th>\n",
       "      <td>2</td>\n",
       "      <td>48</td>\n",
       "      <td>0.041667</td>\n",
       "      <td>0.201941</td>\n",
       "      <td>0.029148</td>\n",
       "    </tr>\n",
       "    <tr>\n",
       "      <th>951820847</th>\n",
       "      <td>11</td>\n",
       "      <td>48</td>\n",
       "      <td>0.229167</td>\n",
       "      <td>0.592132</td>\n",
       "      <td>0.085467</td>\n",
       "    </tr>\n",
       "    <tr>\n",
       "      <th>951820868</th>\n",
       "      <td>10</td>\n",
       "      <td>48</td>\n",
       "      <td>0.208333</td>\n",
       "      <td>0.581939</td>\n",
       "      <td>0.083996</td>\n",
       "    </tr>\n",
       "    <tr>\n",
       "      <th>951820989</th>\n",
       "      <td>8</td>\n",
       "      <td>48</td>\n",
       "      <td>0.166667</td>\n",
       "      <td>0.429415</td>\n",
       "      <td>0.061981</td>\n",
       "    </tr>\n",
       "  </tbody>\n",
       "</table>\n",
       "<p>7260 rows × 5 columns</p>\n",
       "</div>"
      ],
      "text/plain": [
       "           spike_count  stimulus_presentation_count  spike_mean  spike_std  \\\n",
       "unit_id                                                                      \n",
       "951819523           21                           49    0.428571   1.040833   \n",
       "951819532           35                           49    0.714286   0.707107   \n",
       "951819541           86                           49    1.755102   1.774009   \n",
       "951819550           41                           49    0.836735   1.650088   \n",
       "951819732          233                           49    4.755102   2.250283   \n",
       "...                ...                          ...         ...        ...   \n",
       "951820825            4                           48    0.083333   0.347228   \n",
       "951820832            2                           48    0.041667   0.201941   \n",
       "951820847           11                           48    0.229167   0.592132   \n",
       "951820868           10                           48    0.208333   0.581939   \n",
       "951820989            8                           48    0.166667   0.429415   \n",
       "\n",
       "           spike_sem  \n",
       "unit_id               \n",
       "951819523   0.148690  \n",
       "951819532   0.101015  \n",
       "951819541   0.253430  \n",
       "951819550   0.235727  \n",
       "951819732   0.321469  \n",
       "...              ...  \n",
       "951820825   0.050118  \n",
       "951820832   0.029148  \n",
       "951820847   0.085467  \n",
       "951820868   0.083996  \n",
       "951820989   0.061981  \n",
       "\n",
       "[7260 rows x 5 columns]"
      ]
     },
     "execution_count": 10,
     "metadata": {},
     "output_type": "execute_result"
    }
   ],
   "source": [
    "drifting_spike_counts_unind = drifting_spike_counts.reset_index(level='stimulus_condition_id', drop=True)\n",
    "static_spike_counts_unind= static_spike_counts.reset_index(level='stimulus_condition_id', drop=True)\n",
    "\n",
    "static_spike_counts_unind"
   ]
  },
  {
   "cell_type": "markdown",
   "id": "29818742",
   "metadata": {},
   "source": [
    "Begin by looking at overlapping units activated by both static and drifting gratings stimuli."
   ]
  },
  {
   "cell_type": "code",
   "execution_count": null,
   "id": "e3341c6f",
   "metadata": {},
   "outputs": [
    {
     "name": "stdout",
     "output_type": "stream",
     "text": [
      "Overlapping unit_ids: 60\n",
      "(60, 5)\n"
     ]
    },
    {
     "data": {
      "text/html": [
       "<div>\n",
       "<style scoped>\n",
       "    .dataframe tbody tr th:only-of-type {\n",
       "        vertical-align: middle;\n",
       "    }\n",
       "\n",
       "    .dataframe tbody tr th {\n",
       "        vertical-align: top;\n",
       "    }\n",
       "\n",
       "    .dataframe thead th {\n",
       "        text-align: right;\n",
       "    }\n",
       "</style>\n",
       "<table border=\"1\" class=\"dataframe\">\n",
       "  <thead>\n",
       "    <tr style=\"text-align: right;\">\n",
       "      <th></th>\n",
       "      <th>spike_count</th>\n",
       "      <th>stimulus_presentation_count</th>\n",
       "      <th>spike_mean</th>\n",
       "      <th>spike_std</th>\n",
       "      <th>spike_sem</th>\n",
       "    </tr>\n",
       "    <tr>\n",
       "      <th>unit_id</th>\n",
       "      <th></th>\n",
       "      <th></th>\n",
       "      <th></th>\n",
       "      <th></th>\n",
       "      <th></th>\n",
       "    </tr>\n",
       "  </thead>\n",
       "  <tbody>\n",
       "    <tr>\n",
       "      <th>951819523</th>\n",
       "      <td>160.365854</td>\n",
       "      <td>15.365854</td>\n",
       "      <td>10.681301</td>\n",
       "      <td>8.534982</td>\n",
       "      <td>2.200874</td>\n",
       "    </tr>\n",
       "    <tr>\n",
       "      <th>951819532</th>\n",
       "      <td>382.902439</td>\n",
       "      <td>15.365854</td>\n",
       "      <td>25.269919</td>\n",
       "      <td>14.390455</td>\n",
       "      <td>3.699846</td>\n",
       "    </tr>\n",
       "    <tr>\n",
       "      <th>951819541</th>\n",
       "      <td>218.365854</td>\n",
       "      <td>15.365854</td>\n",
       "      <td>14.479675</td>\n",
       "      <td>11.890855</td>\n",
       "      <td>3.062789</td>\n",
       "    </tr>\n",
       "    <tr>\n",
       "      <th>951819550</th>\n",
       "      <td>125.682927</td>\n",
       "      <td>15.365854</td>\n",
       "      <td>8.238211</td>\n",
       "      <td>7.069394</td>\n",
       "      <td>1.814801</td>\n",
       "    </tr>\n",
       "    <tr>\n",
       "      <th>951819732</th>\n",
       "      <td>400.682927</td>\n",
       "      <td>15.365854</td>\n",
       "      <td>26.700813</td>\n",
       "      <td>15.716924</td>\n",
       "      <td>4.056505</td>\n",
       "    </tr>\n",
       "  </tbody>\n",
       "</table>\n",
       "</div>"
      ],
      "text/plain": [
       "           spike_count  stimulus_presentation_count  spike_mean  spike_std  \\\n",
       "unit_id                                                                      \n",
       "951819523   160.365854                    15.365854   10.681301   8.534982   \n",
       "951819532   382.902439                    15.365854   25.269919  14.390455   \n",
       "951819541   218.365854                    15.365854   14.479675  11.890855   \n",
       "951819550   125.682927                    15.365854    8.238211   7.069394   \n",
       "951819732   400.682927                    15.365854   26.700813  15.716924   \n",
       "\n",
       "           spike_sem  \n",
       "unit_id               \n",
       "951819523   2.200874  \n",
       "951819532   3.699846  \n",
       "951819541   3.062789  \n",
       "951819550   1.814801  \n",
       "951819732   4.056505  "
      ]
     },
     "execution_count": 11,
     "metadata": {},
     "output_type": "execute_result"
    }
   ],
   "source": [
    "n_overlap = len(set(drifting_spike_counts_unind.index) & set(static_spike_counts_unind.index))\n",
    "print(\"Overlapping unit_ids:\", n_overlap)\n",
    "\n",
    "drifting_spike_counts_mean = drifting_spike_counts_unind.groupby(\"unit_id\").mean()\n",
    "static_spike_counts_mean = static_spike_counts_unind.groupby(\"unit_id\").mean()\n",
    "\n",
    "print(drifting_spike_counts_mean.shape)\n",
    "\n",
    "drifting_spike_counts_mean.head()\n",
    "\n"
   ]
  },
  {
   "cell_type": "code",
   "execution_count": null,
   "id": "f5147941",
   "metadata": {},
   "outputs": [
    {
     "data": {
      "text/html": [
       "<div>\n",
       "<style scoped>\n",
       "    .dataframe tbody tr th:only-of-type {\n",
       "        vertical-align: middle;\n",
       "    }\n",
       "\n",
       "    .dataframe tbody tr th {\n",
       "        vertical-align: top;\n",
       "    }\n",
       "\n",
       "    .dataframe thead th {\n",
       "        text-align: right;\n",
       "    }\n",
       "</style>\n",
       "<table border=\"1\" class=\"dataframe\">\n",
       "  <thead>\n",
       "    <tr style=\"text-align: right;\">\n",
       "      <th></th>\n",
       "      <th>spike_count_static</th>\n",
       "      <th>stimulus_presentation_count_static</th>\n",
       "      <th>spike_mean_static</th>\n",
       "      <th>spike_std_static</th>\n",
       "      <th>spike_sem_static</th>\n",
       "      <th>spike_count_drifting</th>\n",
       "      <th>stimulus_presentation_count_drifting</th>\n",
       "      <th>spike_mean_drifting</th>\n",
       "      <th>spike_std_drifting</th>\n",
       "      <th>spike_sem_drifting</th>\n",
       "    </tr>\n",
       "    <tr>\n",
       "      <th>unit_id</th>\n",
       "      <th></th>\n",
       "      <th></th>\n",
       "      <th></th>\n",
       "      <th></th>\n",
       "      <th></th>\n",
       "      <th></th>\n",
       "      <th></th>\n",
       "      <th></th>\n",
       "      <th></th>\n",
       "      <th></th>\n",
       "    </tr>\n",
       "  </thead>\n",
       "  <tbody>\n",
       "    <tr>\n",
       "      <th>951819523</th>\n",
       "      <td>22.793388</td>\n",
       "      <td>49.586777</td>\n",
       "      <td>0.464778</td>\n",
       "      <td>0.845017</td>\n",
       "      <td>0.121123</td>\n",
       "      <td>160.365854</td>\n",
       "      <td>15.365854</td>\n",
       "      <td>10.681301</td>\n",
       "      <td>8.534982</td>\n",
       "      <td>2.200874</td>\n",
       "    </tr>\n",
       "    <tr>\n",
       "      <th>951819532</th>\n",
       "      <td>100.553719</td>\n",
       "      <td>49.586777</td>\n",
       "      <td>2.053190</td>\n",
       "      <td>1.687109</td>\n",
       "      <td>0.241707</td>\n",
       "      <td>382.902439</td>\n",
       "      <td>15.365854</td>\n",
       "      <td>25.269919</td>\n",
       "      <td>14.390455</td>\n",
       "      <td>3.699846</td>\n",
       "    </tr>\n",
       "    <tr>\n",
       "      <th>951819541</th>\n",
       "      <td>97.338843</td>\n",
       "      <td>49.586777</td>\n",
       "      <td>1.979897</td>\n",
       "      <td>1.782085</td>\n",
       "      <td>0.255407</td>\n",
       "      <td>218.365854</td>\n",
       "      <td>15.365854</td>\n",
       "      <td>14.479675</td>\n",
       "      <td>11.890855</td>\n",
       "      <td>3.062789</td>\n",
       "    </tr>\n",
       "    <tr>\n",
       "      <th>951819550</th>\n",
       "      <td>62.041322</td>\n",
       "      <td>49.586777</td>\n",
       "      <td>1.243782</td>\n",
       "      <td>1.685748</td>\n",
       "      <td>0.241079</td>\n",
       "      <td>125.682927</td>\n",
       "      <td>15.365854</td>\n",
       "      <td>8.238211</td>\n",
       "      <td>7.069394</td>\n",
       "      <td>1.814801</td>\n",
       "    </tr>\n",
       "    <tr>\n",
       "      <th>951819732</th>\n",
       "      <td>123.008264</td>\n",
       "      <td>49.586777</td>\n",
       "      <td>2.520199</td>\n",
       "      <td>1.733729</td>\n",
       "      <td>0.248376</td>\n",
       "      <td>400.682927</td>\n",
       "      <td>15.365854</td>\n",
       "      <td>26.700813</td>\n",
       "      <td>15.716924</td>\n",
       "      <td>4.056505</td>\n",
       "    </tr>\n",
       "  </tbody>\n",
       "</table>\n",
       "</div>"
      ],
      "text/plain": [
       "           spike_count_static  stimulus_presentation_count_static  \\\n",
       "unit_id                                                             \n",
       "951819523           22.793388                           49.586777   \n",
       "951819532          100.553719                           49.586777   \n",
       "951819541           97.338843                           49.586777   \n",
       "951819550           62.041322                           49.586777   \n",
       "951819732          123.008264                           49.586777   \n",
       "\n",
       "           spike_mean_static  spike_std_static  spike_sem_static  \\\n",
       "unit_id                                                            \n",
       "951819523           0.464778          0.845017          0.121123   \n",
       "951819532           2.053190          1.687109          0.241707   \n",
       "951819541           1.979897          1.782085          0.255407   \n",
       "951819550           1.243782          1.685748          0.241079   \n",
       "951819732           2.520199          1.733729          0.248376   \n",
       "\n",
       "           spike_count_drifting  stimulus_presentation_count_drifting  \\\n",
       "unit_id                                                                 \n",
       "951819523            160.365854                             15.365854   \n",
       "951819532            382.902439                             15.365854   \n",
       "951819541            218.365854                             15.365854   \n",
       "951819550            125.682927                             15.365854   \n",
       "951819732            400.682927                             15.365854   \n",
       "\n",
       "           spike_mean_drifting  spike_std_drifting  spike_sem_drifting  \n",
       "unit_id                                                                 \n",
       "951819523            10.681301            8.534982            2.200874  \n",
       "951819532            25.269919           14.390455            3.699846  \n",
       "951819541            14.479675           11.890855            3.062789  \n",
       "951819550             8.238211            7.069394            1.814801  \n",
       "951819732            26.700813           15.716924            4.056505  "
      ]
     },
     "execution_count": 12,
     "metadata": {},
     "output_type": "execute_result"
    }
   ],
   "source": [
    "merged_spikes = static_spike_counts_mean.merge(drifting_spike_counts_mean, left_index=True, right_index=True, how=\"inner\", suffixes=('_static', '_drifting'))\n",
    "\n",
    "merged_spikes.head()"
   ]
  },
  {
   "cell_type": "markdown",
   "id": "e429b03b",
   "metadata": {},
   "source": [
    "We check if there is a difference in the mean number of spikes per presentation for these overlapping units."
   ]
  },
  {
   "cell_type": "code",
   "execution_count": null,
   "id": "b47295af",
   "metadata": {},
   "outputs": [
    {
     "name": "stdout",
     "output_type": "stream",
     "text": [
      "       spike_mean_static  spike_mean_drifting\n",
      "count          60.000000            60.000000\n",
      "mean            1.844668            15.917358\n",
      "std             1.876499            16.709206\n",
      "min             0.045735             0.521138\n",
      "25%             0.363631             4.534553\n",
      "50%             1.163493             8.932927\n",
      "75%             2.654046            25.019309\n",
      "max             7.676357            89.430081\n"
     ]
    },
    {
     "data": {
      "image/png": "[encoded data removed]",
      "text/plain": [
       "<Figure size 1000x600 with 1 Axes>"
      ]
     },
     "metadata": {},
     "output_type": "display_data"
    }
   ],
   "source": [
    "# Summary statistics\n",
    "print(merged_spikes[['spike_mean_static', 'spike_mean_drifting']].describe())\n",
    "\n",
    "# Boxplot\n",
    "plt.figure(figsize=(10, 6))\n",
    "sns.boxplot(data=merged_spikes[['spike_mean_static', 'spike_mean_drifting']])\n",
    "plt.title('Spike Mean Comparison')\n",
    "plt.ylabel('Spike Mean')\n",
    "plt.show()\n",
    "\n"
   ]
  },
  {
   "cell_type": "markdown",
   "id": "f4f60bf9",
   "metadata": {},
   "source": [
    "### Hypothesis testing \n",
    "\n",
    "H0: there is no difference in mean number of spikes between drifting and static gratings"
   ]
  },
  {
   "cell_type": "code",
   "execution_count": null,
   "id": "ee955060",
   "metadata": {},
   "outputs": [
    {
     "name": "stdout",
     "output_type": "stream",
     "text": [
      "Shapiro-Wilk p-value: 0.0000\n",
      "Differences are NOT normally distributed (reject H0)\n"
     ]
    }
   ],
   "source": [
    "# Shapiro-Wilk test for normality\n",
    "\n",
    "merged_spikes['diff'] = merged_spikes['spike_mean_drifting'] - merged_spikes['spike_mean_static']\n",
    "\n",
    "shapiro_stat, shapiro_p = stats.shapiro(merged_spikes['diff'])\n",
    "print(f\"Shapiro-Wilk p-value: {shapiro_p:.4f}\")\n",
    "\n",
    "# we select alpha as 0.05\n",
    "alpha = 0.05\n",
    "if shapiro_p > alpha:\n",
    "    print(\"Differences are normally distributed (fail to reject H0)\")\n",
    "else:\n",
    "    print(\"Differences are NOT normally distributed (reject H0)\")"
   ]
  },
  {
   "cell_type": "code",
   "execution_count": null,
   "id": "7c5da7f8",
   "metadata": {},
   "outputs": [
    {
     "name": "stdout",
     "output_type": "stream",
     "text": [
      "Paired t-test p-value: 0.0000\n",
      "Wilcoxon p-value: 0.0000\n"
     ]
    }
   ],
   "source": [
    "# Paired t-test (parametric)\n",
    "t_stat, t_p = stats.ttest_rel(merged_spikes['spike_mean_static'], merged_spikes['spike_mean_drifting'])\n",
    "print(f\"Paired t-test p-value: {t_p:.4f}\")\n",
    "\n",
    "# Wilcoxon signed-rank test (non-parametric)\n",
    "wilcoxon_stat, wilcoxon_p = stats.wilcoxon(merged_spikes['spike_mean_static'], merged_spikes['spike_mean_drifting'])\n",
    "print(f\"Wilcoxon p-value: {wilcoxon_p:.4f}\")"
   ]
  },
  {
   "cell_type": "code",
   "execution_count": null,
   "id": "e42343ff",
   "metadata": {},
   "outputs": [
    {
     "name": "stdout",
     "output_type": "stream",
     "text": [
      "Classification Accuracy: 1.000 ± 0.000\n"
     ]
    }
   ],
   "source": [
    "from sklearn.ensemble import RandomForestClassifier\n",
    "from sklearn.model_selection import cross_val_score\n",
    "\n",
    "X = merged_spikes[['spike_mean_drifting', 'spike_mean_static']]\n",
    "y = np.where(merged_spikes['spike_mean_drifting'] > merged_spikes['spike_mean_static'], 1, 0)  # Binary label\n",
    "\n",
    "clf = RandomForestClassifier()\n",
    "scores = cross_val_score(clf, X, y, cv=5)\n",
    "print(f\"Classification Accuracy: {np.mean(scores):.3f} ± {np.std(scores):.3f}\")"
   ]
  },
  {
   "cell_type": "markdown",
   "id": "d046730f",
   "metadata": {},
   "source": [
    "No we do the same investigation with the spike coefficient of variation (CV=std/mean) to see if the variability is also greater for drifting gratings."
   ]
  },
  {
   "cell_type": "code",
   "execution_count": null,
   "id": "61d81659",
   "metadata": {},
   "outputs": [
    {
     "name": "stdout",
     "output_type": "stream",
     "text": [
      "       spike_CV_static  spike_CV_drifting\n",
      "count        60.000000          60.000000\n",
      "mean          1.505387           0.840494\n",
      "std           1.087011           0.421895\n",
      "min           0.333912           0.306192\n",
      "25%           0.686148           0.499605\n",
      "50%           1.066187           0.748730\n",
      "75%           1.934422           1.031799\n",
      "max           4.917109           2.025295\n"
     ]
    },
    {
     "data": {
      "image/png": "[encoded data removed]",
      "text/plain": [
       "<Figure size 1000x600 with 1 Axes>"
      ]
     },
     "metadata": {},
     "output_type": "display_data"
    }
   ],
   "source": [
    "merged_spikes_var = merged_spikes.copy()\n",
    "\n",
    "# Calculate the coefficient of variation (CV) for static and drifting conditions\n",
    "merged_spikes_var['spike_CV_static'] = merged_spikes_var['spike_std_static'] / merged_spikes_var['spike_mean_static']\n",
    "merged_spikes_var['spike_CV_drifting'] = merged_spikes_var['spike_std_drifting'] / merged_spikes_var['spike_mean_drifting']\n",
    "\n",
    "# Summary statistics\n",
    "print(merged_spikes_var[['spike_CV_static', 'spike_CV_drifting']].describe())\n",
    "\n",
    "# Boxplot\n",
    "plt.figure(figsize=(10, 6))\n",
    "sns.boxplot(data=merged_spikes_var[['spike_CV_static', 'spike_CV_drifting']])\n",
    "plt.title('Spike CV Comparison')\n",
    "plt.ylabel('Spike CV')\n",
    "plt.show()\n"
   ]
  },
  {
   "cell_type": "markdown",
   "id": "6472be16",
   "metadata": {},
   "source": [
    "We see that CV is if anything higher for static gratings suggesting a higher variability in static gratings. We again verify if the pairwise differences are normally distributed.\n",
    "\n",
    "H0: There is no difference between the CV of static and drifting spikes for overlapping units"
   ]
  },
  {
   "cell_type": "code",
   "execution_count": null,
   "id": "8e88d760",
   "metadata": {},
   "outputs": [
    {
     "name": "stdout",
     "output_type": "stream",
     "text": [
      "Shapiro-Wilk p-value: 0.0000\n",
      "Differences in CV are NOT normally distributed (reject H0)\n"
     ]
    }
   ],
   "source": [
    "# Shapiro-Wilk test for normality\n",
    "\n",
    "merged_spikes_var['diff_CV'] = merged_spikes_var['spike_CV_static'] - merged_spikes_var['spike_CV_drifting']\n",
    "\n",
    "shapiro_stat, shapiro_p = stats.shapiro(merged_spikes_var['diff_CV'])\n",
    "print(f\"Shapiro-Wilk p-value: {shapiro_p:.4f}\")\n",
    "\n",
    "# we select alpha as 0.05\n",
    "alpha = 0.05\n",
    "if shapiro_p > alpha:\n",
    "    print(\"Differences in CV are normally distributed (fail to reject H0)\")\n",
    "else:\n",
    "    print(\"Differences in CV are NOT normally distributed (reject H0)\")"
   ]
  },
  {
   "cell_type": "code",
   "execution_count": null,
   "id": "24d252b7",
   "metadata": {},
   "outputs": [
    {
     "name": "stdout",
     "output_type": "stream",
     "text": [
      "Paired t-test p-value: 0.0000\n",
      "Wilcoxon p-value: 0.0000\n"
     ]
    }
   ],
   "source": [
    "# Paired t-test (parametric)\n",
    "t_stat, t_p = stats.ttest_rel(merged_spikes_var['spike_CV_static'], merged_spikes_var['spike_CV_drifting'])\n",
    "print(f\"Paired t-test p-value: {t_p:.4f}\")\n",
    "\n",
    "# Wilcoxon signed-rank test (non-parametric)\n",
    "wilcoxon_stat, wilcoxon_p = stats.wilcoxon(merged_spikes_var['spike_CV_static'], merged_spikes_var['spike_CV_drifting'])\n",
    "print(f\"Wilcoxon p-value: {wilcoxon_p:.4f}\")"
   ]
  },
  {
   "cell_type": "code",
   "execution_count": null,
   "id": "783e1d05",
   "metadata": {},
   "outputs": [
    {
     "name": "stdout",
     "output_type": "stream",
     "text": [
      "Classification Accuracy: 0.967 ± 0.041\n"
     ]
    }
   ],
   "source": [
    "X = merged_spikes_var[['spike_CV_static', 'spike_CV_drifting']]\n",
    "y = np.where(merged_spikes_var['spike_CV_static'] > merged_spikes_var['spike_CV_drifting'], 1, 0)  # Binary label\n",
    "\n",
    "clf = RandomForestClassifier()\n",
    "scores = cross_val_score(clf, X, y, cv=5)\n",
    "print(f\"Classification Accuracy: {np.mean(scores):.3f} ± {np.std(scores):.3f}\")\n",
    "\n",
    "del merged_spikes_var #Delete this to free up space"
   ]
  },
  {
   "cell_type": "markdown",
   "id": "a665e9ab",
   "metadata": {},
   "source": [
    "We conclude that in fact the Coefficient of Variation (CV) is in fact higher for static gratings than drifting gratings. This difference is also statistically significant and can be used to classify the two effectively.\n",
    "\n",
    "So far we have investigated differences in overlapping units, which are only 60 (a huge minority) so we look at all for the sake of completeness.\n",
    "\n",
    "### ???just unique ones???"
   ]
  },
  {
   "cell_type": "code",
   "execution_count": null,
   "id": "ec8b07ea",
   "metadata": {},
   "outputs": [
    {
     "name": "stdout",
     "output_type": "stream",
     "text": [
      "            count       mean        std  min       25%       50%        75%  \\\n",
      "condition                                                                     \n",
      "drifting   2460.0  15.917358  18.519560  0.0  3.533333  8.866667  22.333333   \n",
      "static     7260.0   1.844668   2.113908  0.0  0.285714  1.020621   2.660000   \n",
      "\n",
      "                  max  \n",
      "condition              \n",
      "drifting   136.533333  \n",
      "static      14.877551  \n"
     ]
    },
    {
     "data": {
      "image/png": "[encoded data removed]",
      "text/plain": [
       "<Figure size 1000x600 with 1 Axes>"
      ]
     },
     "metadata": {},
     "output_type": "display_data"
    }
   ],
   "source": [
    "# Directly extract spike_mean values from each dataframe\n",
    "static_means = static_spike_counts['spike_mean']\n",
    "drifting_means = drifting_spike_counts['spike_mean']\n",
    "\n",
    "data = pd.concat([\n",
    "    pd.DataFrame({'spike_mean': static_means, 'condition': 'static'}),\n",
    "    pd.DataFrame({'spike_mean': drifting_means, 'condition': 'drifting'})\n",
    "], ignore_index=True)\n",
    "\n",
    "# Display summary statistics if desired\n",
    "print(data.groupby('condition')['spike_mean'].describe())\n",
    "\n",
    "# Boxplot comparing spike_mean for static vs drifting\n",
    "plt.figure(figsize=(10, 6))\n",
    "sns.boxplot(x='condition', y='spike_mean', data=data)\n",
    "plt.title('Spike Mean Comparison')\n",
    "plt.ylabel('Spike Mean')\n",
    "plt.show()"
   ]
  },
  {
   "cell_type": "code",
   "execution_count": null,
   "id": "cb05479a",
   "metadata": {},
   "outputs": [
    {
     "name": "stdout",
     "output_type": "stream",
     "text": [
      "Mann-Whitney U test statistic: 2337507.0\n",
      "Mann-Whitney U test p-value: 0.0000\n"
     ]
    }
   ],
   "source": [
    "# Perform a two-sided Mann-Whitney U test\n",
    "u_stat, p_val = stats.mannwhitneyu(static_means, drifting_means, alternative=\"two-sided\")\n",
    "print(f\"Mann-Whitney U test statistic: {u_stat}\")\n",
    "print(f\"Mann-Whitney U test p-value: {p_val:.4f}\")"
   ]
  },
  {
   "cell_type": "markdown",
   "id": "8e4f1996",
   "metadata": {},
   "source": [
    "The Mann-Whitney U test (a non-parametric test) reveals that the spike_mean is higher for drifting gratings than static gratings for all stimuli.\n",
    "\n",
    "##Unit features"
   ]
  },
  {
   "cell_type": "code",
   "execution_count": null,
   "id": "ed3a955f",
   "metadata": {},
   "outputs": [],
   "source": [
    "session.units.head()"
   ]
  },
  {
   "cell_type": "code",
   "execution_count": null,
   "id": "78dd829f",
   "metadata": {},
   "outputs": [],
   "source": [
    "session.units.shape"
   ]
  },
  {
   "cell_type": "code",
   "execution_count": null,
   "id": "74fb8a90",
   "metadata": {},
   "outputs": [],
   "source": [
    "session.units.describe()"
   ]
  },
  {
   "cell_type": "code",
   "execution_count": 7,
   "id": "d337fbc0",
   "metadata": {},
   "outputs": [
    {
     "name": "stderr",
     "output_type": "stream",
     "text": [
      "c:\\Users\\georg\\anaconda3\\Anaconda1\\envs\\neuroscience_project\\Lib\\site-packages\\hdmf\\spec\\namespace.py:535: UserWarning: Ignoring cached namespace 'hdmf-common' version 1.1.3 because version 1.8.0 is already loaded.\n",
      "  warn(\"Ignoring cached namespace '%s' version %s because version %s is already loaded.\"\n",
      "c:\\Users\\georg\\anaconda3\\Anaconda1\\envs\\neuroscience_project\\Lib\\site-packages\\hdmf\\spec\\namespace.py:535: UserWarning: Ignoring cached namespace 'core' version 2.2.2 because version 2.7.0 is already loaded.\n",
      "  warn(\"Ignoring cached namespace '%s' version %s because version %s is already loaded.\"\n",
      "c:\\Users\\georg\\anaconda3\\Anaconda1\\envs\\neuroscience_project\\Lib\\site-packages\\hdmf\\spec\\namespace.py:535: UserWarning: Ignoring cached namespace 'hdmf-common' version 1.1.3 because version 1.8.0 is already loaded.\n",
      "  warn(\"Ignoring cached namespace '%s' version %s because version %s is already loaded.\"\n",
      "c:\\Users\\georg\\anaconda3\\Anaconda1\\envs\\neuroscience_project\\Lib\\site-packages\\hdmf\\spec\\namespace.py:535: UserWarning: Ignoring cached namespace 'core' version 2.2.2 because version 2.7.0 is already loaded.\n",
      "  warn(\"Ignoring cached namespace '%s' version %s because version %s is already loaded.\"\n"
     ]
    },
    {
     "data": {
      "image/png": "[encoded data removed]",
      "text/plain": [
       "<Figure size 1000x600 with 1 Axes>"
      ]
     },
     "metadata": {},
     "output_type": "display_data"
    }
   ],
   "source": [
    "import seaborn as sns\n",
    "\n",
    "def plot_3region_boxplot(session, column_name, region1, region2, region3):\n",
    "    \"\"\"\n",
    "    Create a boxplot for a specified unit feature in session.units comparing three brain regions.\n",
    "    \n",
    "    Parameters:\n",
    "    - session: the AllenSDK session object.\n",
    "    - column_name: str, the name of the column in session.units to plot (e.g., 'waveform_PT_ratio').\n",
    "    - region1: str, the first brain region to include (e.g., 'VISp').\n",
    "    - region2: str, the second brain region to include (e.g., 'CA1').\n",
    "    - region3: str, the third brain region to include.\n",
    "    \n",
    "    The function filters session.units to include only units in the specified regions, then plots the boxplot.\n",
    "    \"\"\"\n",
    "    # List of chosen regions\n",
    "    regions = [region1, region2, region3]\n",
    "    \n",
    "    # Filter units for the specified brain regions\n",
    "    units = session.units\n",
    "    filtered_units = units[units['ecephys_structure_acronym'].isin(regions)]\n",
    "    \n",
    "    # Check if the column exists\n",
    "    if column_name not in filtered_units.columns:\n",
    "        raise ValueError(f\"Column '{column_name}' not found in session.units.\")\n",
    "    \n",
    "    # Create a DataFrame for plotting\n",
    "    plot_df = filtered_units[['ecephys_structure_acronym', column_name]].copy()\n",
    "    plot_df = plot_df.rename(columns={'ecephys_structure_acronym': 'Brain Region',\n",
    "                                      column_name: 'Metric'})\n",
    "    \n",
    "    # Create the boxplot\n",
    "    plt.figure(figsize=(10, 6))\n",
    "    sns.boxplot(x='Brain Region', y='Metric', data=plot_df)\n",
    "    plt.title(f'Boxplot of {column_name} for {region1}, {region2}, and {region3}')\n",
    "    plt.ylabel(column_name)\n",
    "    plt.xlabel('Brain Region')\n",
    "    plt.show()\n",
    "\n",
    "plot_3region_boxplot(session, \"waveform_amplitude\", \"VISp\", \"CA1\", \"DG\")"
   ]
  },
  {
   "cell_type": "code",
   "execution_count": 8,
   "id": "312b25af",
   "metadata": {},
   "outputs": [
    {
     "data": {
      "image/png": "[encoded data removed]",
      "text/plain": [
       "<Figure size 1000x600 with 1 Axes>"
      ]
     },
     "metadata": {},
     "output_type": "display_data"
    }
   ],
   "source": [
    "plot_3region_boxplot(session, \"waveform_recovery_slope\", \"VISp\", \"DG\", \"CA1\")"
   ]
  },
  {
   "cell_type": "code",
   "execution_count": 9,
   "id": "674f3e4c",
   "metadata": {},
   "outputs": [
    {
     "data": {
      "image/png": "[encoded data removed]",
      "text/plain": [
       "<Figure size 1000x600 with 1 Axes>"
      ]
     },
     "metadata": {},
     "output_type": "display_data"
    }
   ],
   "source": [
    "plot_3region_boxplot(session, \"firing_rate\", \"VISp\", \"DG\", \"CA1\")"
   ]
  },
  {
   "cell_type": "markdown",
   "id": "67189bc8",
   "metadata": {},
   "source": [
    "We find some promising suggestions of subtle differences in the features between units of different regions. These boxplots seem to suggest slight differences in a variety of different features such as wave_form_amplitude and recovery_slope. Moreover it seems the differences are very minor between 'VISam' and 'VISp' (two regions in the visual cortex). Whereas between 'VISp' and 'CA1', regions in two different cortex's the difference is more pronounced. \n",
    "\n",
    "We test this idea further by investigating with Mann-Whitney test if there is a difference in distribution of features between brain regions. We use this as it does not require normality (non-parametric) and it measures not just the mean but is also sensitive to median and distribution shape.\n",
    "\n",
    "###Hypothesis testing\n",
    "\n",
    "H0: The probability of an observation of a unit being greater (or lower than) a unit in another region is 0.5"
   ]
  },
  {
   "cell_type": "code",
   "execution_count": 10,
   "id": "f9d64dd6",
   "metadata": {},
   "outputs": [
    {
     "name": "stdout",
     "output_type": "stream",
     "text": [
      "                   Feature  U_statistic   p_value  p_value_bonf  Significant\n",
      "0        waveform_PT_ratio        463.0  0.909155      1.000000        False\n",
      "1       waveform_amplitude        329.0  0.069832      0.279329        False\n",
      "2              firing_rate        282.0  0.016002      0.064007        False\n",
      "3  waveform_recovery_slope        629.0  0.047950      0.191798        False\n"
     ]
    }
   ],
   "source": [
    "from scipy import stats\n",
    "from statsmodels.stats.multitest import multipletests\n",
    "\n",
    "def mann_whitney_multiple_features(session, features, region1, region2, alpha=0.05):\n",
    "    \"\"\"\n",
    "    Perform Mann-Whitney U tests for a list of features comparing two brain regions,\n",
    "    and apply Bonferroni correction for multiple comparisons.\n",
    "\n",
    "    Parameters:\n",
    "    - session: the AllenSDK session object.\n",
    "    - features: list of strings, the names of columns in session.units to test.\n",
    "    - region1: str, first brain region (e.g., 'VISp').\n",
    "    - region2: str, second brain region (e.g., 'CA1').\n",
    "    - alpha: significance level for testing (default 0.05).\n",
    "\n",
    "    Returns:\n",
    "    - A DataFrame with feature name, U statistic, raw p-value, and Bonferroni-corrected p-value.\n",
    "    \"\"\"\n",
    "    # Filter units for the two specified regions\n",
    "    units = session.units\n",
    "    filtered_units = units[units['ecephys_structure_acronym'].isin([region1, region2])]\n",
    "    \n",
    "    # List to store test results\n",
    "    results = []\n",
    "    \n",
    "    # Loop over each feature of interest\n",
    "    for feature in features:\n",
    "        if feature not in filtered_units.columns:\n",
    "            print(f\"Warning: Feature '{feature}' not found in session.units. Skipping.\")\n",
    "            continue\n",
    "        \n",
    "        # Get feature values for each region\n",
    "        values_region1 = filtered_units.loc[filtered_units['ecephys_structure_acronym'] == region1, feature]\n",
    "        values_region2 = filtered_units.loc[filtered_units['ecephys_structure_acronym'] == region2, feature]\n",
    "        \n",
    "        # Perform the Mann-Whitney U test (two-sided)\n",
    "        u_stat, p_val = stats.mannwhitneyu(values_region1, values_region2, alternative='two-sided')\n",
    "        \n",
    "        results.append({'Feature': feature,\n",
    "                        'U_statistic': u_stat,\n",
    "                        'p_value': p_val})\n",
    "    \n",
    "    results_df = pd.DataFrame(results)\n",
    "    \n",
    "    # Number of tests (features)\n",
    "    m = len(results_df)\n",
    "    \n",
    "    # Apply Bonferroni correction manually: multiply p-values by number of tests (cap at 1.0)\n",
    "    results_df['p_value_bonf'] = np.minimum(results_df['p_value'] * m, 1.0)\n",
    "    \n",
    "    # Optionally, indicate significance at the provided alpha level\n",
    "    results_df['Significant'] = results_df['p_value_bonf'] < alpha\n",
    "    \n",
    "    return results_df\n",
    "\n",
    "features_to_test = ['waveform_PT_ratio', 'waveform_amplitude', 'firing_rate', 'waveform_recovery_slope']\n",
    "results = mann_whitney_multiple_features(session, features_to_test, 'VISp', 'CA3', alpha=0.05)\n",
    "print(results)"
   ]
  },
  {
   "cell_type": "code",
   "execution_count": 11,
   "id": "5aff35e9",
   "metadata": {},
   "outputs": [
    {
     "name": "stdout",
     "output_type": "stream",
     "text": [
      "                   Feature  U_statistic   p_value  p_value_bonf  Significant\n",
      "0        waveform_PT_ratio        196.0  0.645334      1.000000        False\n",
      "1       waveform_amplitude         70.0  0.001951      0.007804         True\n",
      "2              firing_rate        242.0  0.687259      1.000000        False\n",
      "3  waveform_recovery_slope        402.0  0.000075      0.000302         True\n"
     ]
    }
   ],
   "source": [
    "results = mann_whitney_multiple_features(session, features_to_test, 'VISp', 'DG', alpha=0.05)\n",
    "print(results)"
   ]
  }
 ],
 "metadata": {
  "kernelspec": {
   "display_name": "neuroscience_project",
   "language": "python",
   "name": "python3"
  },
  "language_info": {
   "codemirror_mode": {
    "name": "ipython",
    "version": 3
   },
   "file_extension": ".py",
   "mimetype": "text/x-python",
   "name": "python",
   "nbconvert_exporter": "python",
   "pygments_lexer": "ipython3",
   "version": "3.11.11"
  }
 },
 "nbformat": 4,
 "nbformat_minor": 5
}
