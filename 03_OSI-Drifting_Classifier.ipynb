{
 "cells": [
  {
   "cell_type": "markdown",
   "id": "73d39b91",
   "metadata": {},
   "source": [
    "## Drifting orientation decoding"
   ]
  },
  {
   "cell_type": "code",
   "execution_count": 1,
   "id": "475bf554",
   "metadata": {},
   "outputs": [
    {
     "name": "stderr",
     "output_type": "stream",
     "text": [
      "c:\\Users\\georg\\anaconda3\\Anaconda1\\envs\\neuroscience_project\\Lib\\site-packages\\tqdm\\auto.py:21: TqdmWarning: IProgress not found. Please update jupyter and ipywidgets. See https://ipywidgets.readthedocs.io/en/stable/user_install.html\n",
      "  from .autonotebook import tqdm as notebook_tqdm\n",
      "c:\\Users\\georg\\anaconda3\\Anaconda1\\envs\\neuroscience_project\\Lib\\site-packages\\hdmf\\spec\\namespace.py:535: UserWarning: Ignoring cached namespace 'hdmf-common' version 1.1.3 because version 1.8.0 is already loaded.\n",
      "  warn(\"Ignoring cached namespace '%s' version %s because version %s is already loaded.\"\n",
      "c:\\Users\\georg\\anaconda3\\Anaconda1\\envs\\neuroscience_project\\Lib\\site-packages\\hdmf\\spec\\namespace.py:535: UserWarning: Ignoring cached namespace 'core' version 2.2.2 because version 2.7.0 is already loaded.\n",
      "  warn(\"Ignoring cached namespace '%s' version %s because version %s is already loaded.\"\n",
      "c:\\Users\\georg\\anaconda3\\Anaconda1\\envs\\neuroscience_project\\Lib\\site-packages\\hdmf\\spec\\namespace.py:535: UserWarning: Ignoring cached namespace 'hdmf-common' version 1.1.3 because version 1.8.0 is already loaded.\n",
      "  warn(\"Ignoring cached namespace '%s' version %s because version %s is already loaded.\"\n",
      "c:\\Users\\georg\\anaconda3\\Anaconda1\\envs\\neuroscience_project\\Lib\\site-packages\\hdmf\\spec\\namespace.py:535: UserWarning: Ignoring cached namespace 'core' version 2.2.2 because version 2.7.0 is already loaded.\n",
      "  warn(\"Ignoring cached namespace '%s' version %s because version %s is already loaded.\"\n",
      "c:\\Users\\georg\\anaconda3\\Anaconda1\\envs\\neuroscience_project\\Lib\\site-packages\\hdmf\\spec\\namespace.py:535: UserWarning: Ignoring cached namespace 'hdmf-common' version 1.1.3 because version 1.8.0 is already loaded.\n",
      "  warn(\"Ignoring cached namespace '%s' version %s because version %s is already loaded.\"\n",
      "c:\\Users\\georg\\anaconda3\\Anaconda1\\envs\\neuroscience_project\\Lib\\site-packages\\hdmf\\spec\\namespace.py:535: UserWarning: Ignoring cached namespace 'core' version 2.2.2 because version 2.7.0 is already loaded.\n",
      "  warn(\"Ignoring cached namespace '%s' version %s because version %s is already loaded.\"\n",
      "c:\\Users\\georg\\anaconda3\\Anaconda1\\envs\\neuroscience_project\\Lib\\site-packages\\hdmf\\spec\\namespace.py:535: UserWarning: Ignoring cached namespace 'hdmf-common' version 1.1.3 because version 1.8.0 is already loaded.\n",
      "  warn(\"Ignoring cached namespace '%s' version %s because version %s is already loaded.\"\n",
      "c:\\Users\\georg\\anaconda3\\Anaconda1\\envs\\neuroscience_project\\Lib\\site-packages\\hdmf\\spec\\namespace.py:535: UserWarning: Ignoring cached namespace 'core' version 2.2.2 because version 2.7.0 is already loaded.\n",
      "  warn(\"Ignoring cached namespace '%s' version %s because version %s is already loaded.\"\n",
      "c:\\Users\\georg\\anaconda3\\Anaconda1\\envs\\neuroscience_project\\Lib\\site-packages\\hdmf\\spec\\namespace.py:535: UserWarning: Ignoring cached namespace 'hdmf-common' version 1.1.3 because version 1.8.0 is already loaded.\n",
      "  warn(\"Ignoring cached namespace '%s' version %s because version %s is already loaded.\"\n",
      "c:\\Users\\georg\\anaconda3\\Anaconda1\\envs\\neuroscience_project\\Lib\\site-packages\\hdmf\\spec\\namespace.py:535: UserWarning: Ignoring cached namespace 'core' version 2.2.2 because version 2.7.0 is already loaded.\n",
      "  warn(\"Ignoring cached namespace '%s' version %s because version %s is already loaded.\"\n",
      "c:\\Users\\georg\\anaconda3\\Anaconda1\\envs\\neuroscience_project\\Lib\\site-packages\\hdmf\\spec\\namespace.py:535: UserWarning: Ignoring cached namespace 'hdmf-common' version 1.1.3 because version 1.8.0 is already loaded.\n",
      "  warn(\"Ignoring cached namespace '%s' version %s because version %s is already loaded.\"\n",
      "c:\\Users\\georg\\anaconda3\\Anaconda1\\envs\\neuroscience_project\\Lib\\site-packages\\hdmf\\spec\\namespace.py:535: UserWarning: Ignoring cached namespace 'core' version 2.2.2 because version 2.7.0 is already loaded.\n",
      "  warn(\"Ignoring cached namespace '%s' version %s because version %s is already loaded.\"\n"
     ]
    }
   ],
   "source": [
    "from dataset import *\n",
    "\n",
    "import os\n",
    "import numpy as np\n",
    "import pandas as pd\n",
    "import matplotlib.pyplot as plt\n",
    "import seaborn as sns\n",
    "from scipy.stats import f_oneway\n",
    "from sklearn.model_selection import train_test_split\n",
    "from sklearn.preprocessing import StandardScaler\n",
    "from sklearn.svm import SVC\n",
    "from sklearn.linear_model import LogisticRegression\n",
    "from sklearn.ensemble import RandomForestClassifier\n",
    "from sklearn.metrics import classification_report, confusion_matrix, accuracy_score\n",
    "\n",
    "import warnings\n",
    "warnings.filterwarnings('ignore')"
   ]
  },
  {
   "cell_type": "code",
   "execution_count": 2,
   "id": "adf770cd",
   "metadata": {},
   "outputs": [
    {
     "name": "stdout",
     "output_type": "stream",
     "text": [
      "Found 630 drifting gratings presentations\n",
      "Found 902 units total\n",
      "Spike statistics shape: (36982, 5)\n"
     ]
    }
   ],
   "source": [
    "drifting_presentations = get_stimulus_presentations(stimulus_name=\"drifting_gratings\")\n",
    "print(f\"Found {len(drifting_presentations)} drifting gratings presentations\")\n",
    "\n",
    "units = get_units()\n",
    "print(f\"Found {len(units)} units total\")\n",
    "\n",
    "spike_data = get_conditionwise_spike_statistics(stimulus_name=\"drifting_gratings\")\n",
    "print(f\"Spike statistics shape: {spike_data.shape}\")"
   ]
  },
  {
   "cell_type": "code",
   "execution_count": 3,
   "id": "3d9ebc28",
   "metadata": {},
   "outputs": [
    {
     "name": "stdout",
     "output_type": "stream",
     "text": [
      "Spike data is a MultiIndex pd Dataframe, with the unit_id + stimulus_condition_id as indices and the following columns:\n"
     ]
    },
    {
     "data": {
      "text/plain": [
       "Index(['spike_count', 'stimulus_presentation_count', 'spike_mean', 'spike_std',\n",
       "       'spike_sem'],\n",
       "      dtype='object')"
      ]
     },
     "execution_count": 3,
     "metadata": {},
     "output_type": "execute_result"
    }
   ],
   "source": [
    "print(\"Spike data is a MultiIndex pd Dataframe, with the unit_id + stimulus_condition_id as indices and the following columns:\")\n",
    "spike_data.columns"
   ]
  },
  {
   "cell_type": "code",
   "execution_count": 4,
   "id": "bfb8ba71",
   "metadata": {},
   "outputs": [],
   "source": [
    "# take the unit_id as index\n",
    "spike_data = spike_data.reset_index(\"unit_id\")"
   ]
  },
  {
   "cell_type": "code",
   "execution_count": 5,
   "id": "a9d10545",
   "metadata": {},
   "outputs": [],
   "source": [
    "# map orientation from stimulus presentations to spike data\n",
    "drifting_presentations_unique = drifting_presentations.reset_index().set_index('stimulus_condition_id')\n",
    "orientation_map = drifting_presentations_unique['orientation'].to_dict()"
   ]
  },
  {
   "cell_type": "code",
   "execution_count": 6,
   "id": "6b97dcbe",
   "metadata": {},
   "outputs": [
    {
     "data": {
      "text/html": [
       "<div>\n",
       "<style scoped>\n",
       "    .dataframe tbody tr th:only-of-type {\n",
       "        vertical-align: middle;\n",
       "    }\n",
       "\n",
       "    .dataframe tbody tr th {\n",
       "        vertical-align: top;\n",
       "    }\n",
       "\n",
       "    .dataframe thead th {\n",
       "        text-align: right;\n",
       "    }\n",
       "</style>\n",
       "<table border=\"1\" class=\"dataframe\">\n",
       "  <thead>\n",
       "    <tr style=\"text-align: right;\">\n",
       "      <th></th>\n",
       "      <th>unit_id</th>\n",
       "      <th>spike_count</th>\n",
       "      <th>stimulus_presentation_count</th>\n",
       "      <th>spike_mean</th>\n",
       "      <th>spike_std</th>\n",
       "      <th>spike_sem</th>\n",
       "      <th>orientation</th>\n",
       "    </tr>\n",
       "    <tr>\n",
       "      <th>stimulus_condition_id</th>\n",
       "      <th></th>\n",
       "      <th></th>\n",
       "      <th></th>\n",
       "      <th></th>\n",
       "      <th></th>\n",
       "      <th></th>\n",
       "      <th></th>\n",
       "    </tr>\n",
       "  </thead>\n",
       "  <tbody>\n",
       "    <tr>\n",
       "      <th>246</th>\n",
       "      <td>951805352</td>\n",
       "      <td>110</td>\n",
       "      <td>15</td>\n",
       "      <td>7.333333</td>\n",
       "      <td>5.802298</td>\n",
       "      <td>1.498147</td>\n",
       "      <td>180.0</td>\n",
       "    </tr>\n",
       "    <tr>\n",
       "      <th>246</th>\n",
       "      <td>951805369</td>\n",
       "      <td>104</td>\n",
       "      <td>15</td>\n",
       "      <td>6.933333</td>\n",
       "      <td>4.350151</td>\n",
       "      <td>1.123204</td>\n",
       "      <td>180.0</td>\n",
       "    </tr>\n",
       "    <tr>\n",
       "      <th>246</th>\n",
       "      <td>951805392</td>\n",
       "      <td>159</td>\n",
       "      <td>15</td>\n",
       "      <td>10.600000</td>\n",
       "      <td>8.192331</td>\n",
       "      <td>2.115251</td>\n",
       "      <td>180.0</td>\n",
       "    </tr>\n",
       "    <tr>\n",
       "      <th>246</th>\n",
       "      <td>951805411</td>\n",
       "      <td>103</td>\n",
       "      <td>15</td>\n",
       "      <td>6.866667</td>\n",
       "      <td>8.683866</td>\n",
       "      <td>2.242164</td>\n",
       "      <td>180.0</td>\n",
       "    </tr>\n",
       "    <tr>\n",
       "      <th>246</th>\n",
       "      <td>951805440</td>\n",
       "      <td>94</td>\n",
       "      <td>15</td>\n",
       "      <td>6.266667</td>\n",
       "      <td>5.063407</td>\n",
       "      <td>1.307366</td>\n",
       "      <td>180.0</td>\n",
       "    </tr>\n",
       "  </tbody>\n",
       "</table>\n",
       "</div>"
      ],
      "text/plain": [
       "                         unit_id  spike_count  stimulus_presentation_count  \\\n",
       "stimulus_condition_id                                                        \n",
       "246                    951805352          110                           15   \n",
       "246                    951805369          104                           15   \n",
       "246                    951805392          159                           15   \n",
       "246                    951805411          103                           15   \n",
       "246                    951805440           94                           15   \n",
       "\n",
       "                       spike_mean  spike_std  spike_sem orientation  \n",
       "stimulus_condition_id                                                \n",
       "246                      7.333333   5.802298   1.498147       180.0  \n",
       "246                      6.933333   4.350151   1.123204       180.0  \n",
       "246                     10.600000   8.192331   2.115251       180.0  \n",
       "246                      6.866667   8.683866   2.242164       180.0  \n",
       "246                      6.266667   5.063407   1.307366       180.0  "
      ]
     },
     "execution_count": 6,
     "metadata": {},
     "output_type": "execute_result"
    }
   ],
   "source": [
    "# add orientation to spike data\n",
    "spike_data['orientation'] = spike_data.index.get_level_values('stimulus_condition_id').map(orientation_map)\n",
    "spike_data.head()"
   ]
  },
  {
   "cell_type": "code",
   "execution_count": 7,
   "id": "31a29245",
   "metadata": {},
   "outputs": [
    {
     "name": "stdout",
     "output_type": "stream",
     "text": [
      "Before: [180.0 225.0 135.0 0.0 315.0 90.0 270.0 'null' 45.0]\n",
      "Clean spike data shape: (36080, 7)\n",
      "After: [180. 225. 135.   0. 315.  90. 270.  45.]\n"
     ]
    }
   ],
   "source": [
    "print(\"Before:\", spike_data['orientation'].unique())\n",
    "spike_data['orientation'] = spike_data['orientation'].replace('null', np.nan)\n",
    "\n",
    "spike_data_clean = spike_data.dropna(subset=['orientation'])\n",
    "print(f\"Clean spike data shape: {spike_data_clean.shape}\")\n",
    "print(\"After:\", spike_data_clean['orientation'].unique())"
   ]
  },
  {
   "cell_type": "markdown",
   "id": "87e3a148",
   "metadata": {},
   "source": [
    "Note that we have 8 different orientations available for drifting gratings with a 45 degree difference (instead of 30) making a full circle. As with drifting gratings the direction matters as well."
   ]
  },
  {
   "cell_type": "markdown",
   "id": "72e13f21",
   "metadata": {},
   "source": [
    "## Filtering by Orientation Selectivity Index (OSI)"
   ]
  },
  {
   "cell_type": "markdown",
   "id": "edf2692e",
   "metadata": {},
   "source": [
    "### Calculation\n",
    "For each neuron, compute its tuning curve (mean firing rate across trials for each orientation). Use:\n",
    "\n",
    "OSI= (R_preferred - R_orthogonal)/(R_preferred + R_orthogonal)\n",
    "\n",
    "\n",
    "Justification: Neurons with high OSI (>0.5) are sharply tuned to specific orientations and are critical for encoding orientation information."
   ]
  },
  {
   "cell_type": "code",
   "execution_count": 8,
   "id": "71134404",
   "metadata": {},
   "outputs": [
    {
     "name": "stdout",
     "output_type": "stream",
     "text": [
      "Tuning curves shape: (902, 8)\n"
     ]
    },
    {
     "data": {
      "text/html": [
       "<div>\n",
       "<style scoped>\n",
       "    .dataframe tbody tr th:only-of-type {\n",
       "        vertical-align: middle;\n",
       "    }\n",
       "\n",
       "    .dataframe tbody tr th {\n",
       "        vertical-align: top;\n",
       "    }\n",
       "\n",
       "    .dataframe thead th {\n",
       "        text-align: right;\n",
       "    }\n",
       "</style>\n",
       "<table border=\"1\" class=\"dataframe\">\n",
       "  <thead>\n",
       "    <tr style=\"text-align: right;\">\n",
       "      <th>orientation</th>\n",
       "      <th>0.0</th>\n",
       "      <th>45.0</th>\n",
       "      <th>90.0</th>\n",
       "      <th>135.0</th>\n",
       "      <th>180.0</th>\n",
       "      <th>225.0</th>\n",
       "      <th>270.0</th>\n",
       "      <th>315.0</th>\n",
       "    </tr>\n",
       "    <tr>\n",
       "      <th>unit_id</th>\n",
       "      <th></th>\n",
       "      <th></th>\n",
       "      <th></th>\n",
       "      <th></th>\n",
       "      <th></th>\n",
       "      <th></th>\n",
       "      <th></th>\n",
       "      <th></th>\n",
       "    </tr>\n",
       "  </thead>\n",
       "  <tbody>\n",
       "    <tr>\n",
       "      <th>951805352</th>\n",
       "      <td>107.0</td>\n",
       "      <td>122.0</td>\n",
       "      <td>105.6</td>\n",
       "      <td>146.0</td>\n",
       "      <td>152.0</td>\n",
       "      <td>113.8</td>\n",
       "      <td>103.6</td>\n",
       "      <td>140.6</td>\n",
       "    </tr>\n",
       "    <tr>\n",
       "      <th>951805369</th>\n",
       "      <td>110.6</td>\n",
       "      <td>126.2</td>\n",
       "      <td>114.4</td>\n",
       "      <td>111.0</td>\n",
       "      <td>128.8</td>\n",
       "      <td>117.0</td>\n",
       "      <td>113.8</td>\n",
       "      <td>112.8</td>\n",
       "    </tr>\n",
       "    <tr>\n",
       "      <th>951805392</th>\n",
       "      <td>195.8</td>\n",
       "      <td>214.4</td>\n",
       "      <td>168.8</td>\n",
       "      <td>185.2</td>\n",
       "      <td>168.8</td>\n",
       "      <td>148.6</td>\n",
       "      <td>138.2</td>\n",
       "      <td>191.0</td>\n",
       "    </tr>\n",
       "    <tr>\n",
       "      <th>951805411</th>\n",
       "      <td>155.0</td>\n",
       "      <td>162.0</td>\n",
       "      <td>151.8</td>\n",
       "      <td>151.6</td>\n",
       "      <td>141.8</td>\n",
       "      <td>179.0</td>\n",
       "      <td>159.6</td>\n",
       "      <td>187.8</td>\n",
       "    </tr>\n",
       "    <tr>\n",
       "      <th>951805440</th>\n",
       "      <td>49.2</td>\n",
       "      <td>50.2</td>\n",
       "      <td>55.4</td>\n",
       "      <td>56.2</td>\n",
       "      <td>64.0</td>\n",
       "      <td>46.4</td>\n",
       "      <td>36.6</td>\n",
       "      <td>51.6</td>\n",
       "    </tr>\n",
       "    <tr>\n",
       "      <th>...</th>\n",
       "      <td>...</td>\n",
       "      <td>...</td>\n",
       "      <td>...</td>\n",
       "      <td>...</td>\n",
       "      <td>...</td>\n",
       "      <td>...</td>\n",
       "      <td>...</td>\n",
       "      <td>...</td>\n",
       "    </tr>\n",
       "    <tr>\n",
       "      <th>951827752</th>\n",
       "      <td>141.8</td>\n",
       "      <td>122.8</td>\n",
       "      <td>194.0</td>\n",
       "      <td>101.4</td>\n",
       "      <td>81.2</td>\n",
       "      <td>86.8</td>\n",
       "      <td>197.0</td>\n",
       "      <td>173.8</td>\n",
       "    </tr>\n",
       "    <tr>\n",
       "      <th>951827758</th>\n",
       "      <td>14.6</td>\n",
       "      <td>16.4</td>\n",
       "      <td>37.0</td>\n",
       "      <td>23.2</td>\n",
       "      <td>12.2</td>\n",
       "      <td>37.6</td>\n",
       "      <td>88.6</td>\n",
       "      <td>34.4</td>\n",
       "    </tr>\n",
       "    <tr>\n",
       "      <th>951827774</th>\n",
       "      <td>1.0</td>\n",
       "      <td>16.0</td>\n",
       "      <td>6.0</td>\n",
       "      <td>2.8</td>\n",
       "      <td>2.2</td>\n",
       "      <td>14.8</td>\n",
       "      <td>1.8</td>\n",
       "      <td>7.2</td>\n",
       "    </tr>\n",
       "    <tr>\n",
       "      <th>951827779</th>\n",
       "      <td>12.2</td>\n",
       "      <td>8.8</td>\n",
       "      <td>12.6</td>\n",
       "      <td>15.4</td>\n",
       "      <td>5.2</td>\n",
       "      <td>8.2</td>\n",
       "      <td>41.4</td>\n",
       "      <td>30.8</td>\n",
       "    </tr>\n",
       "    <tr>\n",
       "      <th>951827845</th>\n",
       "      <td>1.2</td>\n",
       "      <td>2.6</td>\n",
       "      <td>46.0</td>\n",
       "      <td>3.8</td>\n",
       "      <td>4.4</td>\n",
       "      <td>2.6</td>\n",
       "      <td>22.6</td>\n",
       "      <td>2.4</td>\n",
       "    </tr>\n",
       "  </tbody>\n",
       "</table>\n",
       "<p>902 rows × 8 columns</p>\n",
       "</div>"
      ],
      "text/plain": [
       "orientation  0.0    45.0   90.0   135.0  180.0  225.0  270.0  315.0\n",
       "unit_id                                                            \n",
       "951805352    107.0  122.0  105.6  146.0  152.0  113.8  103.6  140.6\n",
       "951805369    110.6  126.2  114.4  111.0  128.8  117.0  113.8  112.8\n",
       "951805392    195.8  214.4  168.8  185.2  168.8  148.6  138.2  191.0\n",
       "951805411    155.0  162.0  151.8  151.6  141.8  179.0  159.6  187.8\n",
       "951805440     49.2   50.2   55.4   56.2   64.0   46.4   36.6   51.6\n",
       "...            ...    ...    ...    ...    ...    ...    ...    ...\n",
       "951827752    141.8  122.8  194.0  101.4   81.2   86.8  197.0  173.8\n",
       "951827758     14.6   16.4   37.0   23.2   12.2   37.6   88.6   34.4\n",
       "951827774      1.0   16.0    6.0    2.8    2.2   14.8    1.8    7.2\n",
       "951827779     12.2    8.8   12.6   15.4    5.2    8.2   41.4   30.8\n",
       "951827845      1.2    2.6   46.0    3.8    4.4    2.6   22.6    2.4\n",
       "\n",
       "[902 rows x 8 columns]"
      ]
     },
     "execution_count": 8,
     "metadata": {},
     "output_type": "execute_result"
    }
   ],
   "source": [
    "# Create tuning curves\n",
    "tuning_curves = spike_data_clean.groupby(['unit_id', 'orientation']).spike_count.mean().unstack()\n",
    "print(f\"Tuning curves shape: {tuning_curves.shape}\")\n",
    "tuning_curves"
   ]
  },
  {
   "cell_type": "code",
   "execution_count": 9,
   "id": "9701c915",
   "metadata": {},
   "outputs": [],
   "source": [
    "# Find preferred and orthogonal orientations\n",
    "preferred_orientation = tuning_curves.idxmax(axis=1)\n",
    "R_pref = tuning_curves.max(axis=1)\n",
    "R_orth = tuning_curves.apply(lambda x: x[(x.idxmax() + 90) % 360], axis=1) #360 here as we wrap around the whole circle"
   ]
  },
  {
   "cell_type": "code",
   "execution_count": 10,
   "id": "7781c9b5",
   "metadata": {},
   "outputs": [
    {
     "data": {
      "text/plain": [
       "unit_id\n",
       "951805352    152.0\n",
       "951805369    128.8\n",
       "951805392    214.4\n",
       "951805411    187.8\n",
       "951805440     64.0\n",
       "dtype: float64"
      ]
     },
     "execution_count": 10,
     "metadata": {},
     "output_type": "execute_result"
    }
   ],
   "source": [
    "R_pref.head()"
   ]
  },
  {
   "cell_type": "code",
   "execution_count": 11,
   "id": "dabf01ae",
   "metadata": {},
   "outputs": [
    {
     "data": {
      "text/plain": [
       "unit_id\n",
       "951805352    103.6\n",
       "951805369    113.8\n",
       "951805392    185.2\n",
       "951805411    162.0\n",
       "951805440     36.6\n",
       "dtype: float64"
      ]
     },
     "execution_count": 11,
     "metadata": {},
     "output_type": "execute_result"
    }
   ],
   "source": [
    "R_orth.head()"
   ]
  },
  {
   "cell_type": "code",
   "execution_count": 12,
   "id": "3fc75c97",
   "metadata": {},
   "outputs": [
    {
     "name": "stdout",
     "output_type": "stream",
     "text": [
      "OSI values: unit_id\n",
      "951816866    1.000000\n",
      "951815365    0.989341\n",
      "951815212    0.988463\n",
      "951815256    0.970007\n",
      "951815237    0.963878\n",
      "dtype: float64\n"
     ]
    }
   ],
   "source": [
    "# Calculate OSI\n",
    "OSI = (R_pref - R_orth) / (R_pref + R_orth + 1e-6)  \n",
    "\n",
    "print(\"OSI values:\", OSI.sort_values(ascending=False).head())"
   ]
  },
  {
   "cell_type": "markdown",
   "id": "387c1071",
   "metadata": {},
   "source": [
    "Note very high OSI values for units when presented with drifting gratings. One unit 951816866 even achieving 1 meaning it is only activated when the grating moves in its preferred direction."
   ]
  },
  {
   "cell_type": "markdown",
   "id": "cb9f4345",
   "metadata": {},
   "source": [
    "As well as OSI for drifting gratings we can investigate DSI (Direction Selectivity Index) to capture the directional preference of neurons by looking the tuning curves when orientation is 180 degrees apart.\n",
    "\n",
    "DSI = (R_preferred - R_opposite) / (R_preferred + R_opposite)"
   ]
  },
  {
   "cell_type": "code",
   "execution_count": 13,
   "id": "92bc5b4f",
   "metadata": {},
   "outputs": [],
   "source": [
    "preferred_direction = tuning_curves.idxmax(axis=1)\n",
    "R_pref = tuning_curves.max(axis=1)\n",
    "opposite_direction = (preferred_direction + 180) % 360\n",
    "R_opp = tuning_curves.lookup(tuning_curves.index, opposite_direction)"
   ]
  },
  {
   "cell_type": "code",
   "execution_count": 14,
   "id": "78ec9a74",
   "metadata": {},
   "outputs": [
    {
     "name": "stdout",
     "output_type": "stream",
     "text": [
      "DSI values: unit_id\n",
      "951815924    0.742529\n",
      "951817007    0.739130\n",
      "951826348    0.730337\n",
      "951818039    0.626523\n",
      "951811322    0.615385\n",
      "dtype: float64\n"
     ]
    }
   ],
   "source": [
    "DSI = (R_pref - R_opp) / (R_pref + R_opp)\n",
    "print(\"DSI values:\", DSI.sort_values(ascending=False).head())"
   ]
  },
  {
   "cell_type": "markdown",
   "id": "e8da6fb8",
   "metadata": {},
   "source": [
    "### ANOVA\n",
    "\n",
    "\"Do neurons, as a population, respond differently to different orientations of drifting gratings?\"\n",
    "\n",
    "Null Hypothesis (H₀): All orientations elicit the same mean spike count (no tuning).\n",
    "\n",
    "Alternative Hypothesis (H₁): At least one orientation elicits a significantly different mean spike count (tuning exists)."
   ]
  },
  {
   "cell_type": "code",
   "execution_count": 15,
   "id": "ea7b5704",
   "metadata": {},
   "outputs": [
    {
     "name": "stdout",
     "output_type": "stream",
     "text": [
      "Number of units with significant orientation tuning (p<0.05): 257\n"
     ]
    }
   ],
   "source": [
    "# Perform ANOVA for each unit\n",
    "p_values = spike_data_clean.groupby('unit_id').apply(\n",
    "    lambda x: f_oneway(*[group.spike_count for name, group in x.groupby('orientation')])[1]\n",
    ")\n",
    "\n",
    "print(f\"Number of units with significant orientation tuning (p<0.05): {(p_values < 0.05).sum()}\")"
   ]
  },
  {
   "cell_type": "markdown",
   "id": "72434ffd",
   "metadata": {},
   "source": [
    "Adding region information and selecting well tuned units."
   ]
  },
  {
   "cell_type": "code",
   "execution_count": 16,
   "id": "e1b44368",
   "metadata": {},
   "outputs": [
    {
     "data": {
      "text/html": [
       "<div>\n",
       "<style scoped>\n",
       "    .dataframe tbody tr th:only-of-type {\n",
       "        vertical-align: middle;\n",
       "    }\n",
       "\n",
       "    .dataframe tbody tr th {\n",
       "        vertical-align: top;\n",
       "    }\n",
       "\n",
       "    .dataframe thead th {\n",
       "        text-align: right;\n",
       "    }\n",
       "</style>\n",
       "<table border=\"1\" class=\"dataframe\">\n",
       "  <thead>\n",
       "    <tr style=\"text-align: right;\">\n",
       "      <th></th>\n",
       "      <th>ecephys_structure_acronym</th>\n",
       "      <th>0.0</th>\n",
       "      <th>45.0</th>\n",
       "      <th>90.0</th>\n",
       "      <th>135.0</th>\n",
       "      <th>180.0</th>\n",
       "      <th>225.0</th>\n",
       "      <th>270.0</th>\n",
       "      <th>315.0</th>\n",
       "    </tr>\n",
       "    <tr>\n",
       "      <th>unit_id</th>\n",
       "      <th></th>\n",
       "      <th></th>\n",
       "      <th></th>\n",
       "      <th></th>\n",
       "      <th></th>\n",
       "      <th></th>\n",
       "      <th></th>\n",
       "      <th></th>\n",
       "      <th></th>\n",
       "    </tr>\n",
       "  </thead>\n",
       "  <tbody>\n",
       "    <tr>\n",
       "      <th>951817231</th>\n",
       "      <td>grey</td>\n",
       "      <td>475.2</td>\n",
       "      <td>434.2</td>\n",
       "      <td>507.8</td>\n",
       "      <td>475.6</td>\n",
       "      <td>370.4</td>\n",
       "      <td>451.8</td>\n",
       "      <td>508.6</td>\n",
       "      <td>453.2</td>\n",
       "    </tr>\n",
       "    <tr>\n",
       "      <th>951817222</th>\n",
       "      <td>grey</td>\n",
       "      <td>90.8</td>\n",
       "      <td>101.8</td>\n",
       "      <td>127.6</td>\n",
       "      <td>73.2</td>\n",
       "      <td>115.8</td>\n",
       "      <td>93.4</td>\n",
       "      <td>93.0</td>\n",
       "      <td>121.6</td>\n",
       "    </tr>\n",
       "    <tr>\n",
       "      <th>951817272</th>\n",
       "      <td>grey</td>\n",
       "      <td>762.2</td>\n",
       "      <td>768.6</td>\n",
       "      <td>769.2</td>\n",
       "      <td>782.8</td>\n",
       "      <td>764.2</td>\n",
       "      <td>778.2</td>\n",
       "      <td>762.6</td>\n",
       "      <td>759.8</td>\n",
       "    </tr>\n",
       "    <tr>\n",
       "      <th>951817282</th>\n",
       "      <td>grey</td>\n",
       "      <td>225.8</td>\n",
       "      <td>231.6</td>\n",
       "      <td>237.0</td>\n",
       "      <td>262.0</td>\n",
       "      <td>236.6</td>\n",
       "      <td>253.2</td>\n",
       "      <td>267.6</td>\n",
       "      <td>251.6</td>\n",
       "    </tr>\n",
       "    <tr>\n",
       "      <th>951817316</th>\n",
       "      <td>grey</td>\n",
       "      <td>335.0</td>\n",
       "      <td>342.2</td>\n",
       "      <td>332.6</td>\n",
       "      <td>366.6</td>\n",
       "      <td>292.2</td>\n",
       "      <td>312.8</td>\n",
       "      <td>324.0</td>\n",
       "      <td>349.0</td>\n",
       "    </tr>\n",
       "  </tbody>\n",
       "</table>\n",
       "</div>"
      ],
      "text/plain": [
       "          ecephys_structure_acronym    0.0   45.0   90.0  135.0  180.0  225.0  \\\n",
       "unit_id                                                                         \n",
       "951817231                      grey  475.2  434.2  507.8  475.6  370.4  451.8   \n",
       "951817222                      grey   90.8  101.8  127.6   73.2  115.8   93.4   \n",
       "951817272                      grey  762.2  768.6  769.2  782.8  764.2  778.2   \n",
       "951817282                      grey  225.8  231.6  237.0  262.0  236.6  253.2   \n",
       "951817316                      grey  335.0  342.2  332.6  366.6  292.2  312.8   \n",
       "\n",
       "           270.0  315.0  \n",
       "unit_id                  \n",
       "951817231  508.6  453.2  \n",
       "951817222   93.0  121.6  \n",
       "951817272  762.6  759.8  \n",
       "951817282  267.6  251.6  \n",
       "951817316  324.0  349.0  "
      ]
     },
     "execution_count": 16,
     "metadata": {},
     "output_type": "execute_result"
    }
   ],
   "source": [
    "unit_regions = get_units()['ecephys_structure_acronym']\n",
    "\n",
    "tuning_curves_with_regions = pd.merge(\n",
    "    unit_regions.rename('ecephys_structure_acronym'),\n",
    "    tuning_curves,          \n",
    "    on=\"unit_id\",        \n",
    "    how=\"inner\"       \n",
    ")\n",
    "\n",
    "tuning_curves_with_regions.head()"
   ]
  },
  {
   "cell_type": "code",
   "execution_count": 17,
   "id": "ffe22ad7",
   "metadata": {},
   "outputs": [
    {
     "name": "stdout",
     "output_type": "stream",
     "text": [
      "Number of orientation-selective neurons: 81\n",
      "\n",
      "Distribution across brain regions:\n",
      "ecephys_structure_acronym\n",
      "VISal    28\n",
      "VISp     19\n",
      "VISam    14\n",
      "VISl      9\n",
      "VISrl     9\n",
      "VISpm     1\n",
      "grey      1\n",
      "dtype: int64\n"
     ]
    }
   ],
   "source": [
    "# Select highly tuned neurons (high OSI and statistically significant)\n",
    "filtered_neurons = OSI[(OSI > 0.5) & (p_values < 0.05)].index\n",
    "selected_neurons = tuning_curves_with_regions.loc[filtered_neurons]\n",
    "selected_neurons_list = selected_neurons.index.unique()\n",
    "\n",
    "print(f\"Number of orientation-selective neurons: {len(selected_neurons)}\")\n",
    "print(\"\\nDistribution across brain regions:\")\n",
    "print(selected_neurons.groupby(\"ecephys_structure_acronym\").size().sort_values(ascending=False))"
   ]
  },
  {
   "cell_type": "code",
   "execution_count": 18,
   "id": "1fee2ae3",
   "metadata": {},
   "outputs": [
    {
     "name": "stdout",
     "output_type": "stream",
     "text": [
      "Number of orientation-selective neurons: 8\n",
      "\n",
      "Distribution across brain regions:\n",
      "ecephys_structure_acronym\n",
      "VISal    2\n",
      "VISp     2\n",
      "VISrl    2\n",
      "VISl     1\n",
      "grey     1\n",
      "dtype: int64\n"
     ]
    }
   ],
   "source": [
    "# Select highly tuned neurons (high DSI and statistically significant)\n",
    "filtered_neurons_DSI = DSI[(DSI > 0.5) & (p_values < 0.05)].index\n",
    "selected_neurons_DSI = tuning_curves_with_regions.loc[filtered_neurons_DSI]\n",
    "selected_neurons_list_DSI = selected_neurons_DSI.index.unique()\n",
    "\n",
    "print(f\"Number of orientation-selective neurons: {len(selected_neurons_DSI)}\")\n",
    "print(\"\\nDistribution across brain regions:\")\n",
    "print(selected_neurons_DSI.groupby(\"ecephys_structure_acronym\").size().sort_values(ascending=False))"
   ]
  },
  {
   "cell_type": "markdown",
   "id": "9c52161b",
   "metadata": {},
   "source": [
    "Well tuned selection using OSI>0.5 and ANOVA p-value < 0.05 reveales 81 well-tuned units for drifting gratings, approx. double static.\n",
    "\n",
    "Using DSI>0.5 and ANOVA p-value < 0.05 reveales only 8 units."
   ]
  },
  {
   "cell_type": "markdown",
   "id": "95defe9b",
   "metadata": {},
   "source": [
    "## Visualisation of tuning curves"
   ]
  },
  {
   "cell_type": "markdown",
   "id": "fc614182",
   "metadata": {},
   "source": [
    "Note a similar distribution across regions to static gratings."
   ]
  },
  {
   "cell_type": "code",
   "execution_count": 19,
   "id": "d499782c",
   "metadata": {},
   "outputs": [],
   "source": [
    "# Melt orientation columns into rows\n",
    "\n",
    "vis_df = selected_neurons.reset_index()\n",
    "melted_df = pd.melt(\n",
    "    vis_df,\n",
    "    id_vars=[\"unit_id\", \"ecephys_structure_acronym\"],\n",
    "    value_vars=[0.0, 45.0, 90.0, 135.0, 180.0, 225.0, 270.0, 315.0],\n",
    "    var_name=\"orientation\",\n",
    "    value_name=\"spike_count\"\n",
    ")"
   ]
  },
  {
   "cell_type": "code",
   "execution_count": 20,
   "id": "fde363f4",
   "metadata": {},
   "outputs": [
    {
     "data": {
      "image/png": "[encoded data removed]",
      "text/plain": [
       "<Figure size 1500x800 with 6 Axes>"
      ]
     },
     "metadata": {},
     "output_type": "display_data"
    }
   ],
   "source": [
    "unit_ids = melted_df[\"unit_id\"].unique()[:6]\n",
    "\n",
    "fig, axes = plt.subplots(2, 3, figsize=(15,8))\n",
    "\n",
    "axes = axes.flatten()\n",
    "\n",
    "for i, unit_id in enumerate(unit_ids):\n",
    "    # Filter data for the current neuron\n",
    "    neuron_data = melted_df[melted_df[\"unit_id\"] == unit_id]\n",
    "\n",
    "    ax = axes[i]\n",
    "    sns.barplot(\n",
    "        data=neuron_data,\n",
    "        x=\"orientation\",\n",
    "        y=\"spike_count\",\n",
    "        order=[0.0, 45.0, 90.0, 135.0, 180.0, 225.0, 270.0, 315.0],\n",
    "        ax=ax\n",
    "    )\n",
    "    \n",
    "    brain_region = neuron_data[\"ecephys_structure_acronym\"].iloc[0]\n",
    "    ax.set_title(f\"Unit {unit_id} (Brain Region: {brain_region})\", fontsize=12)\n",
    "    ax.set_xlabel(\"Orientation (degrees)\", fontsize=10)\n",
    "    ax.set_ylabel(\"Mean Spike Count\", fontsize=10)\n",
    "    \n",
    "plt.tight_layout()\n",
    "plt.show()"
   ]
  },
  {
   "cell_type": "markdown",
   "id": "8d4858aa",
   "metadata": {},
   "source": [
    "These plots convey why there were far fewer units satisfying DSI > 0.5 than OSI > 0.5. Interestingly unit activation seems to be far more dependent on the orientation than the direction."
   ]
  },
  {
   "cell_type": "markdown",
   "id": "f0c5fa76",
   "metadata": {},
   "source": [
    "# Building the Classifier\n",
    "\n",
    "## Preparing the Dataset"
   ]
  },
  {
   "cell_type": "code",
   "execution_count": 21,
   "id": "f85066fe",
   "metadata": {},
   "outputs": [],
   "source": [
    "selected_data = spike_data_clean[spike_data_clean['unit_id'].isin(selected_neurons_list)]"
   ]
  },
  {
   "cell_type": "code",
   "execution_count": 22,
   "id": "25ca741c",
   "metadata": {},
   "outputs": [],
   "source": [
    "# Create features (X) and target (y)\n",
    "X = selected_data.pivot_table(\n",
    "    index='stimulus_condition_id', \n",
    "    columns='unit_id', \n",
    "    values='spike_count',\n",
    "    fill_value=0\n",
    ")\n",
    "\n",
    "# Get corresponding orientations for each stimulus condition\n",
    "y = selected_data.groupby('stimulus_condition_id')['orientation'].first()"
   ]
  },
  {
   "cell_type": "code",
   "execution_count": 23,
   "id": "66540b2c",
   "metadata": {},
   "outputs": [
    {
     "name": "stdout",
     "output_type": "stream",
     "text": [
      "Orientation distribution:\n",
      "180.0    5\n",
      "225.0    5\n",
      "135.0    5\n",
      "0.0      5\n",
      "315.0    5\n",
      "90.0     5\n",
      "270.0    5\n",
      "45.0     5\n",
      "Name: orientation, dtype: int64\n"
     ]
    }
   ],
   "source": [
    "# Check the distribution of orientations\n",
    "orientation_counts = y.value_counts()\n",
    "print(\"Orientation distribution:\")\n",
    "print(orientation_counts)"
   ]
  },
  {
   "cell_type": "markdown",
   "id": "95eda6e2",
   "metadata": {},
   "source": [
    "Limitation: We only have 5 presentations per orientation for drifting gratings."
   ]
  },
  {
   "cell_type": "code",
   "execution_count": 24,
   "id": "dd5ead63",
   "metadata": {},
   "outputs": [],
   "source": [
    "# split data into training and testing sets\n",
    "X_train, X_test, y_train, y_test = train_test_split(\n",
    "    X, y, test_size=0.3, random_state=42, stratify=y\n",
    ")\n",
    "\n",
    "scaler = StandardScaler()\n",
    "X_train_scaled = scaler.fit_transform(X_train)\n",
    "X_test_scaled = scaler.transform(X_test)"
   ]
  },
  {
   "cell_type": "code",
   "execution_count": 25,
   "id": "087f75bc",
   "metadata": {},
   "outputs": [],
   "source": [
    "# Train a Random Forest Classifier\n",
    "clf = RandomForestClassifier(n_estimators=100, random_state=42)\n",
    "clf.fit(X_train_scaled, y_train)\n",
    "\n",
    "# Make predictions\n",
    "y_pred = clf.predict(X_test_scaled)"
   ]
  },
  {
   "cell_type": "code",
   "execution_count": 26,
   "id": "4d0f7aeb",
   "metadata": {},
   "outputs": [
    {
     "name": "stdout",
     "output_type": "stream",
     "text": [
      "Classification Report:\n",
      "              precision    recall  f1-score   support\n",
      "\n",
      "         0.0       1.00      1.00      1.00         1\n",
      "        45.0       1.00      1.00      1.00         1\n",
      "        90.0       1.00      0.50      0.67         2\n",
      "       135.0       1.00      1.00      1.00         2\n",
      "       180.0       1.00      1.00      1.00         2\n",
      "       225.0       1.00      1.00      1.00         1\n",
      "       270.0       0.67      1.00      0.80         2\n",
      "       315.0       1.00      1.00      1.00         1\n",
      "\n",
      "    accuracy                           0.92        12\n",
      "   macro avg       0.96      0.94      0.93        12\n",
      "weighted avg       0.94      0.92      0.91        12\n",
      "\n",
      "Random Forest Accuracy:\n",
      "0.9166666666666666\n"
     ]
    }
   ],
   "source": [
    "# Evaluate the classifier\n",
    "print(\"Classification Report:\")\n",
    "print(classification_report(y_test, y_pred))\n",
    "\n",
    "print(f\"Random Forest Accuracy:\")\n",
    "print(accuracy_score(y_test, y_pred))"
   ]
  },
  {
   "cell_type": "code",
   "execution_count": 27,
   "id": "b0d116d1",
   "metadata": {},
   "outputs": [
    {
     "data": {
      "image/png": "[encoded data removed]",
      "text/plain": [
       "<Figure size 1000x500 with 1 Axes>"
      ]
     },
     "metadata": {},
     "output_type": "display_data"
    }
   ],
   "source": [
    "# Plot feature importances to see which neurons contribute most\n",
    "plt.figure(figsize=(10, 5))\n",
    "importances = clf.feature_importances_\n",
    "indices = np.argsort(importances)[::-1]\n",
    "\n",
    "plt.title('Feature Importances of Selected Neurons for drifting Random Forest classifier')\n",
    "plt.bar(range(X.shape[1]), importances[indices], align='center')\n",
    "plt.xticks(range(X.shape[1]), X.columns[indices], rotation=90)\n",
    "plt.tight_layout()\n",
    "plt.show()"
   ]
  },
  {
   "cell_type": "code",
   "execution_count": 28,
   "id": "df4e8e51",
   "metadata": {},
   "outputs": [
    {
     "data": {
      "image/png": "[encoded data removed]",
      "text/plain": [
       "<Figure size 700x500 with 2 Axes>"
      ]
     },
     "metadata": {},
     "output_type": "display_data"
    }
   ],
   "source": [
    "# Visualize classifier performance with a heatmap\n",
    "plt.figure(figsize=(7, 5))\n",
    "cm = confusion_matrix(y_test, y_pred, normalize='true')\n",
    "sns.heatmap(cm, annot=True, fmt='.2f', cmap='Blues',\n",
    "            xticklabels=sorted(y.unique()),\n",
    "            yticklabels=sorted(y.unique()))\n",
    "plt.xlabel('Predicted')\n",
    "plt.ylabel('True')\n",
    "plt.title('Drifting Random Forest Normalized Confusion Matrix')\n",
    "plt.tight_layout()\n",
    "plt.show()"
   ]
  },
  {
   "cell_type": "code",
   "execution_count": 29,
   "id": "461571f2",
   "metadata": {},
   "outputs": [
    {
     "name": "stdout",
     "output_type": "stream",
     "text": [
      "SVM Accuracy: 1.0000\n",
      "Logistic Regression Accuracy: 1.0000\n"
     ]
    },
    {
     "data": {
      "image/png": "[encoded data removed]",
      "text/plain": [
       "<Figure size 1800x600 with 4 Axes>"
      ]
     },
     "metadata": {},
     "output_type": "display_data"
    }
   ],
   "source": [
    "# Support Vector Machine\n",
    "svm = SVC(kernel='linear', C=1)\n",
    "svm.fit(X_train_scaled, y_train)\n",
    "y_pred_svm = svm.predict(X_test_scaled)\n",
    "accuracy_svm = accuracy_score(y_test, y_pred_svm)\n",
    "print(f\"SVM Accuracy: {accuracy_svm:.4f}\")\n",
    "\n",
    "# Multinomial Logistic Regression\n",
    "lr = LogisticRegression(multi_class='multinomial', solver='lbfgs', max_iter=1000)\n",
    "lr.fit(X_train_scaled, y_train)\n",
    "y_pred_lr = lr.predict(X_test_scaled)\n",
    "accuracy_lr = accuracy_score(y_test, y_pred_lr)\n",
    "print(f\"Logistic Regression Accuracy: {accuracy_lr:.4f}\")\n",
    "\n",
    "# Visualize confusion matrices\n",
    "plt.figure(figsize=(18, 6))\n",
    "\n",
    "plt.subplot(1, 2, 1)\n",
    "cm_svm = confusion_matrix(y_test, y_pred_svm)\n",
    "sns.heatmap(cm_svm, annot=True, fmt='d', cmap='Blues')\n",
    "plt.title(f'Drifting SVM Confusion Matrix\\nAccuracy: {accuracy_svm:.4f}')\n",
    "plt.xlabel('Predicted')\n",
    "plt.ylabel('True')\n",
    "\n",
    "plt.subplot(1, 2, 2)\n",
    "cm_lr = confusion_matrix(y_test, y_pred_lr)\n",
    "sns.heatmap(cm_lr, annot=True, fmt='d', cmap='Blues')\n",
    "plt.title(f'Drifting Logistic Regression Confusion Matrix\\nAccuracy: {accuracy_lr:.4f}')\n",
    "plt.xlabel('Predicted')\n",
    "plt.ylabel('True')\n",
    "\n",
    "plt.tight_layout()\n",
    "plt.show()"
   ]
  },
  {
   "cell_type": "code",
   "execution_count": null,
   "id": "646053ab",
   "metadata": {},
   "outputs": [],
   "source": []
  }
 ],
 "metadata": {
  "kernelspec": {
   "display_name": "neuroscience_project",
   "language": "python",
   "name": "python3"
  },
  "language_info": {
   "codemirror_mode": {
    "name": "ipython",
    "version": 3
   },
   "file_extension": ".py",
   "mimetype": "text/x-python",
   "name": "python",
   "nbconvert_exporter": "python",
   "pygments_lexer": "ipython3",
   "version": "3.11.11"
  }
 },
 "nbformat": 4,
 "nbformat_minor": 5
}
