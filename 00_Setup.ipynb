{
 "cells": [
  {
   "cell_type": "markdown",
   "id": "16d3b1af-fcfa-4f9e-92a0-7d98632bce47",
   "metadata": {
    "collapsed": false
   },
   "source": [
    "# Imports"
   ]
  },
  {
   "cell_type": "markdown",
   "id": "c746756f-e052-4657-824a-4dd58b6fdf51",
   "metadata": {
    "collapsed": false
   },
   "source": [
    "Various useful builtins:"
   ]
  },
  {
   "cell_type": "code",
   "execution_count": null,
   "id": "8d32e1bc-2e87-442b-8a71-ac93f6e14631",
   "metadata": {
    "collapsed": false
   },
   "outputs": [],
   "source": [
    "from typing import *\n",
    "import functools\n",
    "import pathlib"
   ]
  },
  {
   "cell_type": "markdown",
   "id": "94d54182-11d9-4b7d-a8b9-eba83b574c9a",
   "metadata": {
    "collapsed": false
   },
   "source": [
    "External packages:"
   ]
  },
  {
   "cell_type": "code",
   "execution_count": null,
   "id": "5b201c25-ec23-4b90-909f-e4dd5bc793fa",
   "metadata": {
    "collapsed": false
   },
   "outputs": [],
   "source": [
    "import pandas as pd\n",
    "import numpy as np"
   ]
  },
  {
   "cell_type": "markdown",
   "id": "7cf24b17-f3e3-4e1e-b386-4be247d26c7f",
   "metadata": {
    "collapsed": false
   },
   "source": [
    "Our main workhorse, `allensdk`:"
   ]
  },
  {
   "cell_type": "code",
   "execution_count": null,
   "id": "81657951-6de4-42c9-8547-10224b45fd30",
   "metadata": {
    "collapsed": false
   },
   "outputs": [],
   "source": [
    "import allensdk\n",
    "from allensdk.brain_observatory.ecephys.ecephys_project_cache import EcephysProjectCache\n",
    "from allensdk.brain_observatory.ecephys.ecephys_session import EcephysSession"
   ]
  },
  {
   "cell_type": "markdown",
   "id": "aded4bee-509e-47f7-a087-011a512ea6b5",
   "metadata": {
    "collapsed": false
   },
   "source": [
    "Local modules:"
   ]
  },
  {
   "cell_type": "code",
   "execution_count": null,
   "id": "28814bd5-9172-4728-a5d6-c33bdf488b5e",
   "metadata": {
    "collapsed": true
   },
   "outputs": [],
   "source": [
    "from constraints import *"
   ]
  },
  {
   "cell_type": "markdown",
   "id": "49585fb2-bf6b-431e-aa09-d4ebfeec97b0",
   "metadata": {
    "collapsed": false
   },
   "source": [
    "# Global Variables\n",
    "We have a bunch of variables which we will realistically set only once\n",
    "and never again.  Because of that, and to save up on namespace, we\n",
    "will write these in uppercase and type them as `Final`."
   ]
  },
  {
   "cell_type": "markdown",
   "id": "91604581-a612-4cea-97fa-9bb3396008c5",
   "metadata": {
    "collapsed": false
   },
   "source": [
    "## Introspection & debugging\n",
    "First are the two debugging variables, `DEBUG` and `EXAMPLE`.  \n",
    "`DEBUG` should control behavior checks.  \n",
    "`EXAMPLE` should control examples which are not necessary for the project."
   ]
  },
  {
   "cell_type": "code",
   "execution_count": null,
   "id": "e9a08ccb-fafd-4853-ad18-d7e9afa299af",
   "metadata": {
    "collapsed": true
   },
   "outputs": [],
   "source": [
    "DEBUG: Final[bool] = False\n",
    "EXAMPLE: Final[bool] = True"
   ]
  },
  {
   "cell_type": "markdown",
   "id": "131279ff-67ea-4bf7-9730-90cc6588df4d",
   "metadata": {
    "collapsed": false
   },
   "source": [
    "## Paths\n",
    "Then we have our data directory, `DATA_DIR`, which contains the data\n",
    "we cache from `allensdk`."
   ]
  },
  {
   "cell_type": "code",
   "execution_count": null,
   "id": "1f77071b-04c4-4198-916a-6c9e1188b015",
   "metadata": {
    "collapsed": true
   },
   "outputs": [],
   "source": [
    "DATA_DIR: Final[pathlib.Path] = pathlib.Path('./data/')"
   ]
  },
  {
   "cell_type": "markdown",
   "id": "7635b5ac-c737-431a-98c5-356a3b53516e",
   "metadata": {
    "collapsed": false
   },
   "source": [
    "and we need to ensure that this directory exists"
   ]
  },
  {
   "cell_type": "code",
   "execution_count": null,
   "id": "5975786d-d4b6-4181-9963-86a2abb4dfb7",
   "metadata": {
    "collapsed": false
   },
   "outputs": [],
   "source": [
    "DATA_DIR.mkdir(parents=True, exists_ok=True)"
   ]
  },
  {
   "cell_type": "markdown",
   "id": "250f6960-b737-4d82-93de-616a66f5be90",
   "metadata": {
    "collapsed": false
   },
   "source": [
    "Furthermore, we have the path to the manifest file, again relative to\n",
    "the project root, which is by default the `manifest.json` file located\n",
    "directly in `DATA_DIR`."
   ]
  },
  {
   "cell_type": "code",
   "execution_count": null,
   "id": "da575a9b-712d-4ce4-bd25-7b7faa29a10d",
   "metadata": {
    "collapsed": false
   },
   "outputs": [],
   "source": [
    "MANIFEST_PATH = Final[Path] = DATA_DIR / 'manifest.json'"
   ]
  },
  {
   "cell_type": "markdown",
   "id": "cef9aa2b-f346-44d5-9cf2-5c04dd08b7c7",
   "metadata": {
    "collapsed": false
   },
   "source": [
    "## Cache & sessions\n",
    "Next is our `allensdk` cache and the sessions in it."
   ]
  },
  {
   "cell_type": "markdown",
   "id": "acaef310-3a73-4a60-bcfd-2918da4fdd14",
   "metadata": {
    "collapsed": false
   },
   "source": [
    "First define the type aliases `Cache` and `Session` for easier\n",
    "typing in functions."
   ]
  },
  {
   "cell_type": "code",
   "execution_count": null,
   "id": "1560cf68-ef8c-4f8b-bb7e-879cfc396ca9",
   "metadata": {
    "collapsed": false
   },
   "outputs": [],
   "source": [
    "Cache: TypeAlias = EcephysProjectCache\n",
    "Session: TypeAlias = EcephysSession"
   ]
  },
  {
   "cell_type": "markdown",
   "id": "ec5c1545-93fa-4b7c-a163-4d2eaefc194a",
   "metadata": {
    "collapsed": false
   },
   "source": [
    "Set the cache's timeout, `CACHE_TIMEOUT`, which is measured in\n",
    "seconds:"
   ]
  },
  {
   "cell_type": "code",
   "execution_count": null,
   "id": "bfa6c26b-4658-488d-b040-e91126202e8c",
   "metadata": {
    "collapsed": false
   },
   "outputs": [],
   "source": [
    "CACHE_TIMEOUT: Final[int] = 30*60 # 30 minutes"
   ]
  },
  {
   "cell_type": "markdown",
   "id": "712ee674-2818-4b94-925b-169dbf642a2a",
   "metadata": {
    "collapsed": false
   },
   "source": [
    "Define the global cache, `CACHE`,"
   ]
  },
  {
   "cell_type": "code",
   "execution_count": null,
   "id": "d7c3fc10-127e-4e27-b206-0d3b4b6bb3d4",
   "metadata": {
    "collapsed": false
   },
   "outputs": [],
   "source": [
    "CACHE: Final[Cache] = EcephysProjectCache.from_warehouse(manifest=MANIFEST_PATH, timeout=CACHE_TIMEOUT)"
   ]
  },
  {
   "cell_type": "markdown",
   "id": "bc418899-16d6-46d6-ba55-c25b560bef22",
   "metadata": {
    "collapsed": false
   },
   "source": [
    "Load the table of sessions for simple access."
   ]
  },
  {
   "cell_type": "code",
   "execution_count": null,
   "id": "6bca384f-f191-45ec-9044-75b05cfcb9c8",
   "metadata": {
    "collapsed": false
   },
   "outputs": [],
   "source": [
    "SESSIONS_TABLE: Final = CACHE.get_session_table()\n",
    "if EXAMPLE: SESSIONS_TABLE"
   ]
  },
  {
   "cell_type": "markdown",
   "id": "2a7b57b9-8ce1-454f-a52c-54d3d8db1b1b",
   "metadata": {
    "collapsed": false
   },
   "source": [
    "Get the complete list of session ids."
   ]
  },
  {
   "cell_type": "code",
   "execution_count": null,
   "id": "953a4599-dc8a-4a6f-bc7e-860d166f97b8",
   "metadata": {
    "collapsed": false
   },
   "outputs": [],
   "source": [
    "SESSION_IDS: Final[Sequence[int]] = SESSIONS_TABLE.index\n",
    "if EXAMPLE: SESSION_IDS"
   ]
  },
  {
   "cell_type": "markdown",
   "id": "5046a539-bf96-49ff-b24b-377d55fe028d",
   "metadata": {
    "collapsed": false
   },
   "source": [
    "We typically want to work on just one session, `CURRENT_SESSION`.\n",
    "That can be specified here for convenience using `CURRENT_SESSION_ID`.\n",
    "\n",
    "Functions strive to accept a `session` parameter where meaningful and\n",
    "default to `CURRENT_SESSION`."
   ]
  },
  {
   "cell_type": "code",
   "execution_count": null,
   "id": "43f1e96c-8efa-4e69-8d04-85b8e8bf8ac8",
   "metadata": {
    "collapsed": false
   },
   "outputs": [],
   "source": [
    "CURRENT_SESSION_ID: Final[int] = 715093703\n",
    "assert CURRENT_SESSION_ID in SESSION_IDS\n",
    "CURRENT_SESSION: Final[Session] = CACHE.get_session_data(CURRENT_SESSION_ID)"
   ]
  },
  {
   "cell_type": "markdown",
   "id": "44d4f0b0-dadc-4888-83bc-bdbc4d81510d",
   "metadata": {
    "collapsed": false
   },
   "source": [
    "# Accessing filtered data\n",
    "The `Session` object exposes a lot of useful functions and properties\n",
    "to us.  In order to free us from having to always type the session\n",
    "(which will overwhelmingly be `CURRENT_SESSION`) and to simultaneously\n",
    "allow us to filter our data without having to go through much trouble,\n",
    "we will define simple wrappers around those functions.\n",
    "\n",
    "Typically, these functions accept a `session` parameter which defaults\n",
    "to `CURRENT_SESSION`, and a bunch of keyword arguments which filter\n",
    "the resulting dataset.\n",
    "\n",
    "Each argument `foo=bar`, unless stated otherwise, filters the `foo`\n",
    "column of the resulting dataset to values matching `bar`.  See the\n",
    "commentary at the start of `constraints.py` for a full description of\n",
    "what values `bar` can take."
   ]
  },
  {
   "cell_type": "code",
   "execution_count": null,
   "id": "733c3689-c6e0-49df-94d4-623e32e729d7",
   "metadata": {
    "collapsed": false
   },
   "outputs": [],
   "source": [
    "def get_sessions(**kwargs):\n",
    "    \"\"\"Return a table of the matching sessions.\n",
    "\n",
    "    The following filters are meaningful:\n",
    "    - published_at                (time)\n",
    "    - specimen_id                 (integer, key)\n",
    "    - session_type                ('brain_observatory_1.1' or 'functional_connectivity')\n",
    "    - age_in_days                 (float)\n",
    "    - sex                         ('M' or 'F')\n",
    "    - full_genotype               (string)\n",
    "    - unit_count                  (integer)\n",
    "    - channel_count               (integer)\n",
    "    - probe_count                 (integer)\n",
    "    - ecephys_structure_acronyms  (list of strings)\n",
    "\n",
    "    If an argument `__total__=False` is passed, additional filters may\n",
    "    be provided with no effect on the result.\n",
    "\n",
    "    \"\"\"\n",
    "    return filter_df(SESSIONS_TABLE, FIELD(**kwargs))\n",
    "\n",
    "def get_session_ids(**kwargs):\n",
    "    \"\"\"Return the matching session ids.\n",
    "\n",
    "    See `get_sessions` for the list of meaningful filters.\n",
    "    \n",
    "    \"\"\"\n",
    "    return get_sessions(**kwargs).index\n",
    "\n",
    "if EXAMPLE:\n",
    "    get_sessions(sex='M', unit_count=RANGE(650, None))"
   ]
  },
  {
   "cell_type": "code",
   "execution_count": null,
   "id": "ac512201-c2ad-4cba-8e20-a21fad1831d2",
   "metadata": {
    "collapsed": false
   },
   "outputs": [],
   "source": [
    "def get_units(ecephys_structure_acronym = None,\n",
    "              session: Session = CURRENT_SESSION,\n",
    "              **kwargs):\n",
    "    \"\"\"Return a `Session.units` dataframe of the matching units in `session`.\n",
    "    \n",
    "    The following filters are meaningful:\n",
    "    - waveform_PT_ratio                      (float)\n",
    "    - waveform_amplitude                     (float)\n",
    "    - amplitude_cutoff                       (float)\n",
    "    - cluster_id                             (integer, key)\n",
    "    - cumulative_drift                       (float)\n",
    "    - d_prime                                (float or null)\n",
    "    - firing_rate                            (float)\n",
    "    - isi_violations                         (float)\n",
    "    - isolation_distance                     (float or null)\n",
    "    - L_ratio                                (float or null)\n",
    "    - local_index                            (integer)\n",
    "    - max_drift                              (float)\n",
    "    - nn_hit_rate                            (float or null)\n",
    "    - nn_miss_rate                           (float or null)\n",
    "    - peak_channel_id                        (integer, key)\n",
    "    - presence_ratio                         (float)\n",
    "    - waveform_recovery_slope                (float or null)\n",
    "    - waveform_repolarization_slope          (float)\n",
    "    - silhouette_score                       (float or null)\n",
    "    - snr                                    (float)\n",
    "    - waveform_spread                        (float)\n",
    "    - waveform_velocity_above                (float or null)\n",
    "    - waveform_velocity_below                (float or null)\n",
    "    - waveform_duration                      (float)\n",
    "    - filtering                              (string)\n",
    "    - probe_channel_number                   (integer)\n",
    "    - probe_horizontal_position              (integer)\n",
    "    - probe_id                               (integer)\n",
    "    - probe_vertical_position                (integer)\n",
    "    - structure_acronym                      (string)\n",
    "    - ecephys_structure_id                   (float, key)\n",
    "    - ecephys_structure_acronym              (string)\n",
    "    - anterior_posterior_ccf_coordinate      (float or null)\n",
    "    - dorsal_ventral_ccf_coordinate          (float or null)\n",
    "    - left_right_ccf_coordinate              (float or null)\n",
    "    - probe_description                      (string, probeA..F)\n",
    "    - location                               (object)\n",
    "    - probe_sampling_rate                    (float)\n",
    "    - probe_lfp_sampling_rate                (float)\n",
    "    - probe_has_lfp_data                     (bool)\n",
    "\n",
    "    If an argument `__total__=False` is passed, additional filters may\n",
    "    be provided with no effect on the result.\n",
    "    \"\"\"\n",
    "    if ecephys_structure_acronym is not None:\n",
    "        kwargs['ecephys_structure_acronym'] = ecephys_structure_acronym\n",
    "        return filter_df(session.units, FIELD(**kwargs))\n",
    "    \n",
    "def get_unit_ids(ecephys_structure_acronym = None,\n",
    "                 session: Session = CURRENT_SESSION,\n",
    "                 **kwargs):\n",
    "    \"\"\"Return the matching unit ids in `session`.\n",
    "    \n",
    "    See `get_units` for the list of meaningful filters.\n",
    "\n",
    "    \"\"\"\n",
    "    return get_units(ecephys_structure_acronym = ecephys_structure_acronym,\n",
    "                     session = session, **kwargs).index\n",
    "\n",
    "if EXAMPLE:\n",
    "    get_units(isi_violations = RANGE(None, 0.7),\n",
    "          structure_acronym = 'VISam')"
   ]
  },
  {
   "cell_type": "code",
   "execution_count": null,
   "id": "c67a18b6-ab0a-4355-afb3-e12a98db8dfe",
   "metadata": {
    "collapsed": false
   },
   "outputs": [],
   "source": [
    "def get_stimulus_presentations(stimulus_name = None,\n",
    "                               stimulus_condition_id = None,\n",
    "                               session: Session = CURRENT_SESSION,\n",
    "                               **kwargs):\n",
    "    \"\"\"Return the Sessions.stimulus_presentations dataframe of `session`.\n",
    "\n",
    "    The following filters are meaningful:\n",
    "    - stimulus_block           (float or null, key) \n",
    "    - start_time               (float)\n",
    "    - stop_time                (float)\n",
    "    - contrast                 (float or null) \n",
    "    - spatial_frequency        (float, string, or null) \n",
    "    - frame                    (float or null) \n",
    "    - stimulus_name            (string) \n",
    "    - x_position               (float or null)\n",
    "    - y_position               (float or null) \n",
    "    - orientation              (float or null) \n",
    "    - temporal_frequency       (float or null) \n",
    "    - size                     (object) \n",
    "    - color                    (-1.0, 1.0, or null) \n",
    "    - phase                    (object) \n",
    "    - duration                 (float)\n",
    "    - stimulus_condition_id    (integer, key)\n",
    "\n",
    "    If an argument `__total__=False` is passed, additional filters may\n",
    "    be provided with no effect on the result.\n",
    "    \n",
    "    \"\"\"\n",
    "    if stimulus_name is not None:\n",
    "        kwargs['stimulus_name'] = stimulus_name\n",
    "    if stimulus_condition_id is not None:\n",
    "        kwargs['stimulus_condition_id'] = stimulus_condition_id\n",
    "        return filter_df(session.stimulus_presentations, FIELD(**kwargs))\n",
    "\n",
    "def get_stimulus_presentation_ids(stimulus_name = None,\n",
    "                                  stimulus_condition_id = None,\n",
    "                                  session: Session = CURRENT_SESSION,\n",
    "                                  **kwargs):\n",
    "    \"\"\"Return the matching stimulus presentation ids in `session`.\n",
    "        \n",
    "    See `get_stimulus_presentations` for a list of meaningful filters.\n",
    "    \n",
    "    \"\"\"\n",
    "    return get_stimulus_presentations(stimulus_name = stimulus_name,\n",
    "                                      stimulus_condition_id = stimulus_condition_id,\n",
    "                                      session = session,\n",
    "                                      **kwargs).index\n",
    "\n",
    "if EXAMPLE:\n",
    "    get_stimulus_presentations(stimulus_name = 'static_gratings',\n",
    "                               orientation = RANGE(30, 60, ub_strict=False))"
   ]
  },
  {
   "cell_type": "code",
   "execution_count": null,
   "id": "504d2e56-ead8-49da-9b9f-f68211eaa98f",
   "metadata": {
    "collapsed": false
   },
   "outputs": [],
   "source": [
    "def get_presentationwise_spike_times(session: Session = CURRENT_SESSION, **kwargs):\n",
    "    \"\"\"Return a table of the spike times of the matching units and stimuli.\n",
    "\n",
    "    All filters which `get_units` and `get_stimulus_presentations`\n",
    "    accept are meaningful.\n",
    "\n",
    "    \"\"\"\n",
    "    kwargs['__total__'] = False\n",
    "    return session.presentationwise_spike_times(\n",
    "        stimulus_presentation_ids = get_stimulus_presentation_ids(session = session, **kwargs),\n",
    "        unit_ids = get_unit_ids(session = session, **kwargs)\n",
    "    )"
   ]
  }
 ],
 "metadata": {
  "kernelspec": {
   "argv": [
    "python",
    "-m",
    "ipykernel_launcher",
    "-f",
    "{connection_file}"
   ],
   "display_name": "Python 3 (ipykernel)",
   "env": null,
   "interrupt_mode": "signal",
   "language": "python",
   "metadata": {
    "debugger": true
   },
   "name": "python3"
  },
  "language_info": {
   "codemirror_mode": {
    "name": "ipython",
    "version": 3
   },
   "file_extension": ".py",
   "mimetype": "text/x-python",
   "name": "python",
   "nbconvert_exporter": "python",
   "pygments_lexer": "ipython3",
   "version": "3.11.11"
  },
  "name": "00_Setup.ipynb"
 },
 "nbformat": 4,
 "nbformat_minor": 2
}
