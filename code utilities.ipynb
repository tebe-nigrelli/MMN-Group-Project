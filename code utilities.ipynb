{
 "cells": [
  {
   "cell_type": "markdown",
   "metadata": {},
   "source": [
    "## Imports and Data Set Up"
   ]
  },
  {
   "cell_type": "code",
   "execution_count": 6,
   "metadata": {},
   "outputs": [],
   "source": [
    "import os\n",
    "import numpy as np\n",
    "import pandas as pd\n",
    "import matplotlib.pyplot as plt\n",
    "import matplotlib\n",
    "import tqdm\n",
    "from allensdk.brain_observatory.ecephys.ecephys_project_cache import EcephysProjectCache\n",
    "\n",
    "data_dir = \"./allendata\"\n",
    "df_file = data_dir + \"/\" + \"df.csv\"\n",
    "\n",
    "manifest_path = os.path.join(data_dir, \"manifest.json\")\n",
    "cache = EcephysProjectCache.from_warehouse(manifest=manifest_path)\n",
    "\n",
    "def get_dataset(session_number:int, stimulus: str, cortex:str):\n",
    "    session = cache.get_session_data(session_number)\n",
    "    table = session.get_stimulus_table(stimulus)\n",
    "    partial_ids = session.units[session.units[\"ecephys_structure_acronym\"] == cortex]\n",
    "\n",
    "    spike_times_drifting = session.presentationwise_spike_times(\n",
    "        stimulus_presentation_ids=table.index.values,\n",
    "        unit_ids=partial_ids.index.values\n",
    "    )\n",
    "    return spike_times_drifting.merge(table, left_on=\"stimulus_presentation_id\", right_index=True) \\\n",
    "           .merge(session.units, left_on=\"unit_id\", right_index=True)\n",
    "           \n",
    "# df = get_dataset(750332458, \"static_gratings\", \"VISam\")\n",
    "# df.to_csv(df_file)\n",
    "# df = pd.read_csv(df_file)"
   ]
  }
 ],
 "metadata": {
  "kernelspec": {
   "display_name": "envallen",
   "language": "python",
   "name": "python3"
  },
  "language_info": {
   "codemirror_mode": {
    "name": "ipython",
    "version": 3
   },
   "file_extension": ".py",
   "mimetype": "text/x-python",
   "name": "python",
   "nbconvert_exporter": "python",
   "pygments_lexer": "ipython3",
   "version": "3.11.11"
  }
 },
 "nbformat": 4,
 "nbformat_minor": 2
}
