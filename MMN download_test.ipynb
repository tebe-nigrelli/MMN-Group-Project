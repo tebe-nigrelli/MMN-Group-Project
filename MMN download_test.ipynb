{
 "cells": [
  {
   "cell_type": "markdown",
   "metadata": {},
   "source": [
    "# Data download notebook \n",
    "\n",
    "**Warning! the entire dataset is almost 1TB. Each individual session, including only spike data, is around 1-3GB. Do not try to download multiple sessions without checking available space in your computer**. The entire spike dataset is about 120GB. \n",
    "\n",
    "## Useful links \n",
    "\n",
    "- [In the main page of the neuropixels data](https://allensdk.readthedocs.io/en/latest/visual_coding_neuropixels.html) you can find more tutorials. In fact, this notebook was made using the [Data Access](https://allensdk.readthedocs.io/en/latest/_static/examples/nb/ecephys_data_access.html).\n",
    "\n"
   ]
  },
  {
   "cell_type": "markdown",
   "metadata": {},
   "source": [
    "## Select the folder where the data will be stored \n",
    "\n",
    "For now it will be inside a folder called `allendata`, situated next at the same level than this notebook, is selected. **Make sure it exists before proceeding,** creating it by yourself\n",
    "\n"
   ]
  },
  {
   "cell_type": "code",
   "execution_count": 1,
   "metadata": {},
   "outputs": [],
   "source": [
    "import os\n",
    "\n",
    "#IMPORTANT: check path to where the data might be stored.\n",
    "data_dir = \"./allendata\"\n",
    "\n",
    "if not os.path.exists(data_dir):\n",
    "    os.makedirs(data_dir)"
   ]
  },
  {
   "cell_type": "markdown",
   "metadata": {},
   "source": [
    "Execute next cell to configure the dataset in the selected folder. The file `manifest.json`is used to keep track of everything. The `cache` object manages the downloads. It's very important to increase the default `timeout`, which is set to `1200` seconds (20 min) because it might be too slow. If this time is exceeded, download is cancelled."
   ]
  },
  {
   "cell_type": "code",
   "execution_count": 2,
   "metadata": {},
   "outputs": [
    {
     "name": "stderr",
     "output_type": "stream",
     "text": [
      "Fontconfig warning: ignoring UTF-8: not a valid region tag\n",
      "Matplotlib is building the font cache; this may take a moment.\n"
     ]
    }
   ],
   "source": [
    "import os\n",
    "import shutil\n",
    "import numpy as np\n",
    "import pandas as pd\n",
    "import matplotlib.pyplot as plt\n",
    "\n",
    "from allensdk.brain_observatory.ecephys.ecephys_project_cache import EcephysProjectCache\n",
    "\n",
    "#We need to set here also a maximum download time for all the data. \n",
    "#Let's select 1 hour.  \n",
    "seconds_2_cancel = 60 * 60\n",
    "manifest_path = os.path.join(data_dir, \"manifest.json\")\n",
    "cache = EcephysProjectCache.from_warehouse(manifest=manifest_path, timeout=seconds_2_cancel)"
   ]
  },
  {
   "cell_type": "markdown",
   "metadata": {},
   "source": [
    "## Download index files\n",
    "\n",
    "We do not directly download the data, but first index files with information about the sessions. These are just four CSV files, and weight some MBs, so they do not take a lot of space in your computer.  \n",
    "\n",
    "The command `get_session_table()` loads a Pandas dataframe with the information about all the sessions. The ID identifies the session, and then we have `session_type` (which kind of experiment it was) and data about the animal, such as `age_in_days` or its `full_genotype`. We do a sneak peek to the first rows of the table by invoking its `.head()`.\n",
    "\n",
    "**Warning: the very first time the `get_session_table` is called, it can take up to 20 minutes of execution. There might be no progress indicator. Be patient.**\n",
    "\n",
    "Once all the files are downloaded and configured the access will be instant."
   ]
  },
  {
   "cell_type": "code",
   "execution_count": 3,
   "metadata": {},
   "outputs": [
    {
     "data": {
      "text/html": [
       "<div>\n",
       "<style scoped>\n",
       "    .dataframe tbody tr th:only-of-type {\n",
       "        vertical-align: middle;\n",
       "    }\n",
       "\n",
       "    .dataframe tbody tr th {\n",
       "        vertical-align: top;\n",
       "    }\n",
       "\n",
       "    .dataframe thead th {\n",
       "        text-align: right;\n",
       "    }\n",
       "</style>\n",
       "<table border=\"1\" class=\"dataframe\">\n",
       "  <thead>\n",
       "    <tr style=\"text-align: right;\">\n",
       "      <th></th>\n",
       "      <th>published_at</th>\n",
       "      <th>specimen_id</th>\n",
       "      <th>session_type</th>\n",
       "      <th>age_in_days</th>\n",
       "      <th>sex</th>\n",
       "      <th>full_genotype</th>\n",
       "      <th>unit_count</th>\n",
       "      <th>channel_count</th>\n",
       "      <th>probe_count</th>\n",
       "      <th>ecephys_structure_acronyms</th>\n",
       "    </tr>\n",
       "    <tr>\n",
       "      <th>id</th>\n",
       "      <th></th>\n",
       "      <th></th>\n",
       "      <th></th>\n",
       "      <th></th>\n",
       "      <th></th>\n",
       "      <th></th>\n",
       "      <th></th>\n",
       "      <th></th>\n",
       "      <th></th>\n",
       "      <th></th>\n",
       "    </tr>\n",
       "  </thead>\n",
       "  <tbody>\n",
       "    <tr>\n",
       "      <th>715093703</th>\n",
       "      <td>2019-10-03T00:00:00Z</td>\n",
       "      <td>699733581</td>\n",
       "      <td>brain_observatory_1.1</td>\n",
       "      <td>118.0</td>\n",
       "      <td>M</td>\n",
       "      <td>Sst-IRES-Cre/wt;Ai32(RCL-ChR2(H134R)_EYFP)/wt</td>\n",
       "      <td>884</td>\n",
       "      <td>2219</td>\n",
       "      <td>6</td>\n",
       "      <td>[CA1, VISrl, nan, PO, LP, LGd, CA3, DG, VISl, ...</td>\n",
       "    </tr>\n",
       "    <tr>\n",
       "      <th>719161530</th>\n",
       "      <td>2019-10-03T00:00:00Z</td>\n",
       "      <td>703279284</td>\n",
       "      <td>brain_observatory_1.1</td>\n",
       "      <td>122.0</td>\n",
       "      <td>M</td>\n",
       "      <td>Sst-IRES-Cre/wt;Ai32(RCL-ChR2(H134R)_EYFP)/wt</td>\n",
       "      <td>755</td>\n",
       "      <td>2214</td>\n",
       "      <td>6</td>\n",
       "      <td>[TH, Eth, APN, POL, LP, DG, CA1, VISpm, nan, N...</td>\n",
       "    </tr>\n",
       "    <tr>\n",
       "      <th>721123822</th>\n",
       "      <td>2019-10-03T00:00:00Z</td>\n",
       "      <td>707296982</td>\n",
       "      <td>brain_observatory_1.1</td>\n",
       "      <td>125.0</td>\n",
       "      <td>M</td>\n",
       "      <td>Pvalb-IRES-Cre/wt;Ai32(RCL-ChR2(H134R)_EYFP)/wt</td>\n",
       "      <td>444</td>\n",
       "      <td>2229</td>\n",
       "      <td>6</td>\n",
       "      <td>[MB, SCig, PPT, NOT, DG, CA1, VISam, nan, LP, ...</td>\n",
       "    </tr>\n",
       "    <tr>\n",
       "      <th>732592105</th>\n",
       "      <td>2019-10-03T00:00:00Z</td>\n",
       "      <td>717038288</td>\n",
       "      <td>brain_observatory_1.1</td>\n",
       "      <td>100.0</td>\n",
       "      <td>M</td>\n",
       "      <td>wt/wt</td>\n",
       "      <td>824</td>\n",
       "      <td>1847</td>\n",
       "      <td>5</td>\n",
       "      <td>[grey, VISpm, nan, VISp, VISl, VISal, VISrl]</td>\n",
       "    </tr>\n",
       "    <tr>\n",
       "      <th>737581020</th>\n",
       "      <td>2019-10-03T00:00:00Z</td>\n",
       "      <td>718643567</td>\n",
       "      <td>brain_observatory_1.1</td>\n",
       "      <td>108.0</td>\n",
       "      <td>M</td>\n",
       "      <td>wt/wt</td>\n",
       "      <td>568</td>\n",
       "      <td>2218</td>\n",
       "      <td>6</td>\n",
       "      <td>[grey, VISmma, nan, VISpm, VISp, VISl, VISrl]</td>\n",
       "    </tr>\n",
       "  </tbody>\n",
       "</table>\n",
       "</div>"
      ],
      "text/plain": [
       "                   published_at  specimen_id           session_type  \\\n",
       "id                                                                    \n",
       "715093703  2019-10-03T00:00:00Z    699733581  brain_observatory_1.1   \n",
       "719161530  2019-10-03T00:00:00Z    703279284  brain_observatory_1.1   \n",
       "721123822  2019-10-03T00:00:00Z    707296982  brain_observatory_1.1   \n",
       "732592105  2019-10-03T00:00:00Z    717038288  brain_observatory_1.1   \n",
       "737581020  2019-10-03T00:00:00Z    718643567  brain_observatory_1.1   \n",
       "\n",
       "           age_in_days sex                                    full_genotype  \\\n",
       "id                                                                            \n",
       "715093703        118.0   M    Sst-IRES-Cre/wt;Ai32(RCL-ChR2(H134R)_EYFP)/wt   \n",
       "719161530        122.0   M    Sst-IRES-Cre/wt;Ai32(RCL-ChR2(H134R)_EYFP)/wt   \n",
       "721123822        125.0   M  Pvalb-IRES-Cre/wt;Ai32(RCL-ChR2(H134R)_EYFP)/wt   \n",
       "732592105        100.0   M                                            wt/wt   \n",
       "737581020        108.0   M                                            wt/wt   \n",
       "\n",
       "           unit_count  channel_count  probe_count  \\\n",
       "id                                                  \n",
       "715093703         884           2219            6   \n",
       "719161530         755           2214            6   \n",
       "721123822         444           2229            6   \n",
       "732592105         824           1847            5   \n",
       "737581020         568           2218            6   \n",
       "\n",
       "                                  ecephys_structure_acronyms  \n",
       "id                                                            \n",
       "715093703  [CA1, VISrl, nan, PO, LP, LGd, CA3, DG, VISl, ...  \n",
       "719161530  [TH, Eth, APN, POL, LP, DG, CA1, VISpm, nan, N...  \n",
       "721123822  [MB, SCig, PPT, NOT, DG, CA1, VISam, nan, LP, ...  \n",
       "732592105       [grey, VISpm, nan, VISp, VISl, VISal, VISrl]  \n",
       "737581020      [grey, VISmma, nan, VISpm, VISp, VISl, VISrl]  "
      ]
     },
     "execution_count": 3,
     "metadata": {},
     "output_type": "execute_result"
    }
   ],
   "source": [
    "sessions = cache.get_session_table() #Returns a Pandas dataframe\n",
    "sessions.head() #Sneak peek of the table"
   ]
  },
  {
   "cell_type": "markdown",
   "metadata": {},
   "source": [
    "Then we can load any session you want. Let's use the session with ID `798911424` as an example. The data for this session is downloaded using `cache.get_session_data(id)`. **Observe that memory of the session will not be allocated yet**.\n",
    "\n",
    "First time it will download the data. Next accesses will be instant. "
   ]
  },
  {
   "cell_type": "code",
   "execution_count": 4,
   "metadata": {},
   "outputs": [
    {
     "name": "stderr",
     "output_type": "stream",
     "text": [
      "WARNING:root:downloading a 2731.587MiB file from http://api.brain-map.org//api/v2/well_known_file_download/1026124743\n"
     ]
    },
    {
     "data": {
      "application/vnd.jupyter.widget-view+json": {
       "model_id": "ac5e6e227db5458b88a74377de3b8556",
       "version_major": 2,
       "version_minor": 0
      },
      "text/plain": [
       "Downloading:   0%|          | 0.00/2.86G [00:00<?, ?B/s]"
      ]
     },
     "metadata": {},
     "output_type": "display_data"
    },
    {
     "name": "stderr",
     "output_type": "stream",
     "text": [
      "/usr/local/Caskroom/miniconda/base/envs/allensdk/lib/python3.11/site-packages/hdmf/spec/namespace.py:535: UserWarning: Ignoring cached namespace 'hdmf-common' version 1.1.3 because version 1.8.0 is already loaded.\n",
      "  warn(\"Ignoring cached namespace '%s' version %s because version %s is already loaded.\"\n",
      "/usr/local/Caskroom/miniconda/base/envs/allensdk/lib/python3.11/site-packages/hdmf/spec/namespace.py:535: UserWarning: Ignoring cached namespace 'core' version 2.2.2 because version 2.7.0 is already loaded.\n",
      "  warn(\"Ignoring cached namespace '%s' version %s because version %s is already loaded.\"\n"
     ]
    }
   ],
   "source": [
    "session_id = 798911424 \n",
    "oursession = cache.get_session_data(session_id)"
   ]
  },
  {
   "cell_type": "markdown",
   "metadata": {},
   "source": [
    "### IMPORTANT: monitor use of RAM, memory will be allocated in the next cell.\n",
    "\n",
    "Observe that the following cell actually calls a function (it's not a parameter of the object, but rather a `@property`) and this will allocate all the neccesary memory. This will happen the first time after opening the Python kernel. \n",
    "\n",
    "If you see the metadata coming out in the next cell you're ready to go for the projects. It will look something like this\n",
    "\n",
    "```\n",
    "{'specimen_name': 'Vip-IRES-Cre;Ai32-421338',\n",
    " 'session_type': 'brain_observatory_1.1',\n",
    " 'full_genotype': 'Vip-IRES-Cre/wt;Ai32(RCL-ChR2(H134R)_EYFP)/wt',\n",
    " 'sex': 'F',\n",
    " 'age_in_days': 110.0,\n",
    " 'rig_equipment_name': 'NP.1', ... }\n",
    "```\n",
    "\n",
    "If don't see it, cell keeps running, and RAM usage continues to increase, interrupt the kernel and restart the kernel. We'll give you \n",
    "other files!"
   ]
  },
  {
   "cell_type": "code",
   "execution_count": 4,
   "metadata": {},
   "outputs": [
    {
     "name": "stderr",
     "output_type": "stream",
     "text": [
      "/home/victor/anaconda3/envs/allensdk/lib/python3.11/site-packages/hdmf/utils.py:664: UserWarning: Ignoring cached namespace 'hdmf-common' version 1.1.3 because version 1.8.0 is already loaded.\n",
      "  return func(args[0], **pargs)\n",
      "/home/victor/anaconda3/envs/allensdk/lib/python3.11/site-packages/hdmf/utils.py:664: UserWarning: Ignoring cached namespace 'core' version 2.2.2 because version 2.6.0-alpha is already loaded.\n",
      "  return func(args[0], **pargs)\n",
      "/home/victor/anaconda3/envs/allensdk/lib/python3.11/site-packages/hdmf/utils.py:664: UserWarning: Ignoring cached namespace 'hdmf-common' version 1.1.3 because version 1.8.0 is already loaded.\n",
      "  return func(args[0], **pargs)\n",
      "/home/victor/anaconda3/envs/allensdk/lib/python3.11/site-packages/hdmf/utils.py:664: UserWarning: Ignoring cached namespace 'core' version 2.2.2 because version 2.6.0-alpha is already loaded.\n",
      "  return func(args[0], **pargs)\n",
      "/home/victor/anaconda3/envs/allensdk/lib/python3.11/site-packages/hdmf/utils.py:664: UserWarning: Ignoring cached namespace 'hdmf-common' version 1.1.3 because version 1.8.0 is already loaded.\n",
      "  return func(args[0], **pargs)\n",
      "/home/victor/anaconda3/envs/allensdk/lib/python3.11/site-packages/hdmf/utils.py:664: UserWarning: Ignoring cached namespace 'core' version 2.2.2 because version 2.6.0-alpha is already loaded.\n",
      "  return func(args[0], **pargs)\n",
      "/home/victor/anaconda3/envs/allensdk/lib/python3.11/site-packages/hdmf/utils.py:664: UserWarning: Ignoring cached namespace 'hdmf-common' version 1.1.3 because version 1.8.0 is already loaded.\n",
      "  return func(args[0], **pargs)\n",
      "/home/victor/anaconda3/envs/allensdk/lib/python3.11/site-packages/hdmf/utils.py:664: UserWarning: Ignoring cached namespace 'core' version 2.2.2 because version 2.6.0-alpha is already loaded.\n",
      "  return func(args[0], **pargs)\n"
     ]
    },
    {
     "data": {
      "text/plain": [
       "{'specimen_name': 'Vip-IRES-Cre;Ai32-421338',\n",
       " 'session_type': 'brain_observatory_1.1',\n",
       " 'full_genotype': 'Vip-IRES-Cre/wt;Ai32(RCL-ChR2(H134R)_EYFP)/wt',\n",
       " 'sex': 'F',\n",
       " 'age_in_days': 110.0,\n",
       " 'rig_equipment_name': 'NP.1',\n",
       " 'num_units': 825,\n",
       " 'num_channels': 2233,\n",
       " 'num_probes': 6,\n",
       " 'num_stimulus_presentations': 70931,\n",
       " 'session_start_time': datetime.datetime(2018, 12, 21, 0, 2, 57, tzinfo=tzoffset(None, -28800)),\n",
       " 'ecephys_session_id': 798911424,\n",
       " 'structure_acronyms': ['LP',\n",
       "  'DG',\n",
       "  'CA1',\n",
       "  'VISam',\n",
       "  nan,\n",
       "  'APN',\n",
       "  'TH',\n",
       "  'Eth',\n",
       "  'CA3',\n",
       "  'VISrl',\n",
       "  'HPF',\n",
       "  'ProS',\n",
       "  'SUB',\n",
       "  'VISp',\n",
       "  'CA2',\n",
       "  'VISl',\n",
       "  'MB',\n",
       "  'NOT',\n",
       "  'LGv',\n",
       "  'VISal'],\n",
       " 'stimulus_names': ['spontaneous',\n",
       "  'gabors',\n",
       "  'flashes',\n",
       "  'drifting_gratings',\n",
       "  'natural_movie_three',\n",
       "  'natural_movie_one',\n",
       "  'static_gratings',\n",
       "  'natural_scenes',\n",
       "  'drifting_gratings_contrast']}"
      ]
     },
     "execution_count": 4,
     "metadata": {},
     "output_type": "execute_result"
    }
   ],
   "source": [
    "oursession.metadata"
   ]
  }
 ],
 "metadata": {
  "kernelspec": {
   "display_name": "allensdk",
   "language": "python",
   "name": "python3"
  },
  "language_info": {
   "codemirror_mode": {
    "name": "ipython",
    "version": 3
   },
   "file_extension": ".py",
   "mimetype": "text/x-python",
   "name": "python",
   "nbconvert_exporter": "python",
   "pygments_lexer": "ipython3",
   "version": "3.13.1"
  }
 },
 "nbformat": 4,
 "nbformat_minor": 2
}
