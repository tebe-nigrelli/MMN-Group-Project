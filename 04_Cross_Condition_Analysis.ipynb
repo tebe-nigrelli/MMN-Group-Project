{
 "cells": [
  {
   "cell_type": "code",
   "execution_count": 3,
   "id": "d3840767",
   "metadata": {},
   "outputs": [
    {
     "name": "stderr",
     "output_type": "stream",
     "text": [
      "c:\\Users\\georg\\anaconda3\\Anaconda1\\envs\\neuroscience_project\\Lib\\site-packages\\tqdm\\auto.py:21: TqdmWarning: IProgress not found. Please update jupyter and ipywidgets. See https://ipywidgets.readthedocs.io/en/stable/user_install.html\n",
      "  from .autonotebook import tqdm as notebook_tqdm\n",
      "c:\\Users\\georg\\anaconda3\\Anaconda1\\envs\\neuroscience_project\\Lib\\site-packages\\hdmf\\spec\\namespace.py:535: UserWarning: Ignoring cached namespace 'hdmf-common' version 1.1.3 because version 1.8.0 is already loaded.\n",
      "  warn(\"Ignoring cached namespace '%s' version %s because version %s is already loaded.\"\n",
      "c:\\Users\\georg\\anaconda3\\Anaconda1\\envs\\neuroscience_project\\Lib\\site-packages\\hdmf\\spec\\namespace.py:535: UserWarning: Ignoring cached namespace 'core' version 2.2.2 because version 2.7.0 is already loaded.\n",
      "  warn(\"Ignoring cached namespace '%s' version %s because version %s is already loaded.\"\n",
      "c:\\Users\\georg\\anaconda3\\Anaconda1\\envs\\neuroscience_project\\Lib\\site-packages\\hdmf\\spec\\namespace.py:535: UserWarning: Ignoring cached namespace 'hdmf-common' version 1.1.3 because version 1.8.0 is already loaded.\n",
      "  warn(\"Ignoring cached namespace '%s' version %s because version %s is already loaded.\"\n",
      "c:\\Users\\georg\\anaconda3\\Anaconda1\\envs\\neuroscience_project\\Lib\\site-packages\\hdmf\\spec\\namespace.py:535: UserWarning: Ignoring cached namespace 'core' version 2.2.2 because version 2.7.0 is already loaded.\n",
      "  warn(\"Ignoring cached namespace '%s' version %s because version %s is already loaded.\"\n",
      "c:\\Users\\georg\\anaconda3\\Anaconda1\\envs\\neuroscience_project\\Lib\\site-packages\\hdmf\\spec\\namespace.py:535: UserWarning: Ignoring cached namespace 'hdmf-common' version 1.1.3 because version 1.8.0 is already loaded.\n",
      "  warn(\"Ignoring cached namespace '%s' version %s because version %s is already loaded.\"\n",
      "c:\\Users\\georg\\anaconda3\\Anaconda1\\envs\\neuroscience_project\\Lib\\site-packages\\hdmf\\spec\\namespace.py:535: UserWarning: Ignoring cached namespace 'core' version 2.2.2 because version 2.7.0 is already loaded.\n",
      "  warn(\"Ignoring cached namespace '%s' version %s because version %s is already loaded.\"\n",
      "c:\\Users\\georg\\anaconda3\\Anaconda1\\envs\\neuroscience_project\\Lib\\site-packages\\hdmf\\spec\\namespace.py:535: UserWarning: Ignoring cached namespace 'hdmf-common' version 1.1.3 because version 1.8.0 is already loaded.\n",
      "  warn(\"Ignoring cached namespace '%s' version %s because version %s is already loaded.\"\n",
      "c:\\Users\\georg\\anaconda3\\Anaconda1\\envs\\neuroscience_project\\Lib\\site-packages\\hdmf\\spec\\namespace.py:535: UserWarning: Ignoring cached namespace 'core' version 2.2.2 because version 2.7.0 is already loaded.\n",
      "  warn(\"Ignoring cached namespace '%s' version %s because version %s is already loaded.\"\n",
      "c:\\Users\\georg\\anaconda3\\Anaconda1\\envs\\neuroscience_project\\Lib\\site-packages\\hdmf\\spec\\namespace.py:535: UserWarning: Ignoring cached namespace 'hdmf-common' version 1.1.3 because version 1.8.0 is already loaded.\n",
      "  warn(\"Ignoring cached namespace '%s' version %s because version %s is already loaded.\"\n",
      "c:\\Users\\georg\\anaconda3\\Anaconda1\\envs\\neuroscience_project\\Lib\\site-packages\\hdmf\\spec\\namespace.py:535: UserWarning: Ignoring cached namespace 'core' version 2.2.2 because version 2.7.0 is already loaded.\n",
      "  warn(\"Ignoring cached namespace '%s' version %s because version %s is already loaded.\"\n",
      "c:\\Users\\georg\\anaconda3\\Anaconda1\\envs\\neuroscience_project\\Lib\\site-packages\\hdmf\\spec\\namespace.py:535: UserWarning: Ignoring cached namespace 'hdmf-common' version 1.1.3 because version 1.8.0 is already loaded.\n",
      "  warn(\"Ignoring cached namespace '%s' version %s because version %s is already loaded.\"\n",
      "c:\\Users\\georg\\anaconda3\\Anaconda1\\envs\\neuroscience_project\\Lib\\site-packages\\hdmf\\spec\\namespace.py:535: UserWarning: Ignoring cached namespace 'core' version 2.2.2 because version 2.7.0 is already loaded.\n",
      "  warn(\"Ignoring cached namespace '%s' version %s because version %s is already loaded.\"\n"
     ]
    },
    {
     "ename": "KeyboardInterrupt",
     "evalue": "",
     "output_type": "error",
     "traceback": [
      "\u001b[1;31m---------------------------------------------------------------------------\u001b[0m",
      "\u001b[1;31mKeyboardInterrupt\u001b[0m                         Traceback (most recent call last)",
      "Cell \u001b[1;32mIn[3], line 1\u001b[0m\n\u001b[1;32m----> 1\u001b[0m \u001b[38;5;28;01mfrom\u001b[39;00m\u001b[38;5;250m \u001b[39m\u001b[38;5;21;01mdataset\u001b[39;00m\u001b[38;5;250m \u001b[39m\u001b[38;5;28;01mimport\u001b[39;00m \u001b[38;5;241m*\u001b[39m\n\u001b[0;32m      3\u001b[0m \u001b[38;5;28;01mimport\u001b[39;00m\u001b[38;5;250m \u001b[39m\u001b[38;5;21;01mos\u001b[39;00m\n\u001b[0;32m      4\u001b[0m \u001b[38;5;28;01mimport\u001b[39;00m\u001b[38;5;250m \u001b[39m\u001b[38;5;21;01mnumpy\u001b[39;00m\u001b[38;5;250m \u001b[39m\u001b[38;5;28;01mas\u001b[39;00m\u001b[38;5;250m \u001b[39m\u001b[38;5;21;01mnp\u001b[39;00m\n",
      "File \u001b[1;32mc:\\Users\\georg\\OneDrive\\Documents\\University_resources\\Year 3\\Neuroscience\\neuroscience_project\\neuroscience_project_code\\dataset.py:44\u001b[0m\n\u001b[0;32m     42\u001b[0m \u001b[38;5;28;01mwith\u001b[39;00m warnings\u001b[38;5;241m.\u001b[39mcatch_warnings():\n\u001b[0;32m     43\u001b[0m   \u001b[38;5;28;01mif\u001b[39;00m DEBUG: \u001b[38;5;28mprint\u001b[39m(\u001b[38;5;124m\"\u001b[39m\u001b[38;5;124mLoading metadata...\u001b[39m\u001b[38;5;124m\"\u001b[39m)\n\u001b[1;32m---> 44\u001b[0m   \u001b[43mCURRENT_SESSION\u001b[49m\u001b[38;5;241;43m.\u001b[39;49m\u001b[43mmetadata\u001b[49m\n\u001b[0;32m     45\u001b[0m   \u001b[38;5;28;01mif\u001b[39;00m DEBUG: \u001b[38;5;28mprint\u001b[39m(\u001b[38;5;124m\"\u001b[39m\u001b[38;5;124mLoading metadata... Done\u001b[39m\u001b[38;5;124m\"\u001b[39m)\n\u001b[0;32m     47\u001b[0m \u001b[38;5;28;01mdef\u001b[39;00m\u001b[38;5;250m \u001b[39m\u001b[38;5;21mget_sessions\u001b[39m(\u001b[38;5;241m*\u001b[39m\u001b[38;5;241m*\u001b[39mkwargs):\n",
      "File \u001b[1;32mc:\\Users\\georg\\anaconda3\\Anaconda1\\envs\\neuroscience_project\\Lib\\site-packages\\allensdk\\core\\lazy_property\\lazy_property_mixin.py:13\u001b[0m, in \u001b[0;36mLazyPropertyMixin.__getattribute__\u001b[1;34m(self, name)\u001b[0m\n\u001b[0;32m     10\u001b[0m \u001b[38;5;28;01mdef\u001b[39;00m\u001b[38;5;250m \u001b[39m\u001b[38;5;21m__getattribute__\u001b[39m(\u001b[38;5;28mself\u001b[39m, name):\n\u001b[0;32m     12\u001b[0m     lazy_class \u001b[38;5;241m=\u001b[39m \u001b[38;5;28msuper\u001b[39m(LazyPropertyMixin, \u001b[38;5;28mself\u001b[39m)\u001b[38;5;241m.\u001b[39m\u001b[38;5;21m__getattribute__\u001b[39m(\u001b[38;5;124m'\u001b[39m\u001b[38;5;124mLazyProperty\u001b[39m\u001b[38;5;124m'\u001b[39m)\n\u001b[1;32m---> 13\u001b[0m     curr_attr \u001b[38;5;241m=\u001b[39m \u001b[38;5;28;43msuper\u001b[39;49m\u001b[43m(\u001b[49m\u001b[43mLazyPropertyMixin\u001b[49m\u001b[43m,\u001b[49m\u001b[43m \u001b[49m\u001b[38;5;28;43mself\u001b[39;49m\u001b[43m)\u001b[49m\u001b[38;5;241;43m.\u001b[39;49m\u001b[38;5;21;43m__getattribute__\u001b[39;49m\u001b[43m(\u001b[49m\u001b[43mname\u001b[49m\u001b[43m)\u001b[49m\n\u001b[0;32m     14\u001b[0m     \u001b[38;5;28;01mif\u001b[39;00m \u001b[38;5;28misinstance\u001b[39m(curr_attr, lazy_class):\n\u001b[0;32m     15\u001b[0m         \u001b[38;5;28;01mreturn\u001b[39;00m curr_attr\u001b[38;5;241m.\u001b[39m\u001b[38;5;21m__get__\u001b[39m(curr_attr)\n",
      "File \u001b[1;32mc:\\Users\\georg\\anaconda3\\Anaconda1\\envs\\neuroscience_project\\Lib\\site-packages\\allensdk\\brain_observatory\\ecephys\\ecephys_session.py:260\u001b[0m, in \u001b[0;36mEcephysSession.metadata\u001b[1;34m(self)\u001b[0m\n\u001b[0;32m    248\u001b[0m \u001b[38;5;129m@property\u001b[39m\n\u001b[0;32m    249\u001b[0m \u001b[38;5;28;01mdef\u001b[39;00m\u001b[38;5;250m \u001b[39m\u001b[38;5;21mmetadata\u001b[39m(\u001b[38;5;28mself\u001b[39m):\n\u001b[0;32m    250\u001b[0m     \u001b[38;5;28;01mreturn\u001b[39;00m {\n\u001b[0;32m    251\u001b[0m         \u001b[38;5;124m\"\u001b[39m\u001b[38;5;124mspecimen_name\u001b[39m\u001b[38;5;124m\"\u001b[39m: \u001b[38;5;28mself\u001b[39m\u001b[38;5;241m.\u001b[39mspecimen_name,\n\u001b[0;32m    252\u001b[0m         \u001b[38;5;124m\"\u001b[39m\u001b[38;5;124msession_type\u001b[39m\u001b[38;5;124m\"\u001b[39m: \u001b[38;5;28mself\u001b[39m\u001b[38;5;241m.\u001b[39msession_type,\n\u001b[0;32m    253\u001b[0m         \u001b[38;5;124m\"\u001b[39m\u001b[38;5;124mfull_genotype\u001b[39m\u001b[38;5;124m\"\u001b[39m: \u001b[38;5;28mself\u001b[39m\u001b[38;5;241m.\u001b[39mfull_genotype,\n\u001b[0;32m    254\u001b[0m         \u001b[38;5;124m\"\u001b[39m\u001b[38;5;124msex\u001b[39m\u001b[38;5;124m\"\u001b[39m: \u001b[38;5;28mself\u001b[39m\u001b[38;5;241m.\u001b[39msex,\n\u001b[0;32m    255\u001b[0m         \u001b[38;5;124m\"\u001b[39m\u001b[38;5;124mage_in_days\u001b[39m\u001b[38;5;124m\"\u001b[39m: \u001b[38;5;28mself\u001b[39m\u001b[38;5;241m.\u001b[39mage_in_days,\n\u001b[0;32m    256\u001b[0m         \u001b[38;5;124m\"\u001b[39m\u001b[38;5;124mrig_equipment_name\u001b[39m\u001b[38;5;124m\"\u001b[39m: \u001b[38;5;28mself\u001b[39m\u001b[38;5;241m.\u001b[39mrig_equipment_name,\n\u001b[0;32m    257\u001b[0m         \u001b[38;5;124m\"\u001b[39m\u001b[38;5;124mnum_units\u001b[39m\u001b[38;5;124m\"\u001b[39m: \u001b[38;5;28mself\u001b[39m\u001b[38;5;241m.\u001b[39mnum_units,\n\u001b[0;32m    258\u001b[0m         \u001b[38;5;124m\"\u001b[39m\u001b[38;5;124mnum_channels\u001b[39m\u001b[38;5;124m\"\u001b[39m: \u001b[38;5;28mself\u001b[39m\u001b[38;5;241m.\u001b[39mnum_channels,\n\u001b[0;32m    259\u001b[0m         \u001b[38;5;124m\"\u001b[39m\u001b[38;5;124mnum_probes\u001b[39m\u001b[38;5;124m\"\u001b[39m: \u001b[38;5;28mself\u001b[39m\u001b[38;5;241m.\u001b[39mnum_probes,\n\u001b[1;32m--> 260\u001b[0m         \u001b[38;5;124m\"\u001b[39m\u001b[38;5;124mnum_stimulus_presentations\u001b[39m\u001b[38;5;124m\"\u001b[39m: \u001b[38;5;28;43mself\u001b[39;49m\u001b[38;5;241;43m.\u001b[39;49m\u001b[43mnum_stimulus_presentations\u001b[49m,\n\u001b[0;32m    261\u001b[0m         \u001b[38;5;124m\"\u001b[39m\u001b[38;5;124msession_start_time\u001b[39m\u001b[38;5;124m\"\u001b[39m: \u001b[38;5;28mself\u001b[39m\u001b[38;5;241m.\u001b[39msession_start_time,\n\u001b[0;32m    262\u001b[0m         \u001b[38;5;124m\"\u001b[39m\u001b[38;5;124mecephys_session_id\u001b[39m\u001b[38;5;124m\"\u001b[39m: \u001b[38;5;28mself\u001b[39m\u001b[38;5;241m.\u001b[39mecephys_session_id,\n\u001b[0;32m    263\u001b[0m         \u001b[38;5;124m\"\u001b[39m\u001b[38;5;124mstructure_acronyms\u001b[39m\u001b[38;5;124m\"\u001b[39m: \u001b[38;5;28mself\u001b[39m\u001b[38;5;241m.\u001b[39mstructure_acronyms,\n\u001b[0;32m    264\u001b[0m         \u001b[38;5;124m\"\u001b[39m\u001b[38;5;124mstimulus_names\u001b[39m\u001b[38;5;124m\"\u001b[39m: \u001b[38;5;28mself\u001b[39m\u001b[38;5;241m.\u001b[39mstimulus_names\n\u001b[0;32m    265\u001b[0m     }\n",
      "File \u001b[1;32mc:\\Users\\georg\\anaconda3\\Anaconda1\\envs\\neuroscience_project\\Lib\\site-packages\\allensdk\\core\\lazy_property\\lazy_property_mixin.py:13\u001b[0m, in \u001b[0;36mLazyPropertyMixin.__getattribute__\u001b[1;34m(self, name)\u001b[0m\n\u001b[0;32m     10\u001b[0m \u001b[38;5;28;01mdef\u001b[39;00m\u001b[38;5;250m \u001b[39m\u001b[38;5;21m__getattribute__\u001b[39m(\u001b[38;5;28mself\u001b[39m, name):\n\u001b[0;32m     12\u001b[0m     lazy_class \u001b[38;5;241m=\u001b[39m \u001b[38;5;28msuper\u001b[39m(LazyPropertyMixin, \u001b[38;5;28mself\u001b[39m)\u001b[38;5;241m.\u001b[39m\u001b[38;5;21m__getattribute__\u001b[39m(\u001b[38;5;124m'\u001b[39m\u001b[38;5;124mLazyProperty\u001b[39m\u001b[38;5;124m'\u001b[39m)\n\u001b[1;32m---> 13\u001b[0m     curr_attr \u001b[38;5;241m=\u001b[39m \u001b[38;5;28;43msuper\u001b[39;49m\u001b[43m(\u001b[49m\u001b[43mLazyPropertyMixin\u001b[49m\u001b[43m,\u001b[49m\u001b[43m \u001b[49m\u001b[38;5;28;43mself\u001b[39;49m\u001b[43m)\u001b[49m\u001b[38;5;241;43m.\u001b[39;49m\u001b[38;5;21;43m__getattribute__\u001b[39;49m\u001b[43m(\u001b[49m\u001b[43mname\u001b[49m\u001b[43m)\u001b[49m\n\u001b[0;32m     14\u001b[0m     \u001b[38;5;28;01mif\u001b[39;00m \u001b[38;5;28misinstance\u001b[39m(curr_attr, lazy_class):\n\u001b[0;32m     15\u001b[0m         \u001b[38;5;28;01mreturn\u001b[39;00m curr_attr\u001b[38;5;241m.\u001b[39m\u001b[38;5;21m__get__\u001b[39m(curr_attr)\n",
      "File \u001b[1;32mc:\\Users\\georg\\anaconda3\\Anaconda1\\envs\\neuroscience_project\\Lib\\site-packages\\allensdk\\brain_observatory\\ecephys\\ecephys_session.py:183\u001b[0m, in \u001b[0;36mEcephysSession.num_stimulus_presentations\u001b[1;34m(self)\u001b[0m\n\u001b[0;32m    181\u001b[0m \u001b[38;5;129m@property\u001b[39m\n\u001b[0;32m    182\u001b[0m \u001b[38;5;28;01mdef\u001b[39;00m\u001b[38;5;250m \u001b[39m\u001b[38;5;21mnum_stimulus_presentations\u001b[39m(\u001b[38;5;28mself\u001b[39m):\n\u001b[1;32m--> 183\u001b[0m     \u001b[38;5;28;01mreturn\u001b[39;00m \u001b[38;5;28;43mself\u001b[39;49m\u001b[38;5;241;43m.\u001b[39;49m\u001b[43mstimulus_presentations\u001b[49m\u001b[38;5;241m.\u001b[39mshape[\u001b[38;5;241m0\u001b[39m]\n",
      "File \u001b[1;32mc:\\Users\\georg\\anaconda3\\Anaconda1\\envs\\neuroscience_project\\Lib\\site-packages\\allensdk\\core\\lazy_property\\lazy_property_mixin.py:13\u001b[0m, in \u001b[0;36mLazyPropertyMixin.__getattribute__\u001b[1;34m(self, name)\u001b[0m\n\u001b[0;32m     10\u001b[0m \u001b[38;5;28;01mdef\u001b[39;00m\u001b[38;5;250m \u001b[39m\u001b[38;5;21m__getattribute__\u001b[39m(\u001b[38;5;28mself\u001b[39m, name):\n\u001b[0;32m     12\u001b[0m     lazy_class \u001b[38;5;241m=\u001b[39m \u001b[38;5;28msuper\u001b[39m(LazyPropertyMixin, \u001b[38;5;28mself\u001b[39m)\u001b[38;5;241m.\u001b[39m\u001b[38;5;21m__getattribute__\u001b[39m(\u001b[38;5;124m'\u001b[39m\u001b[38;5;124mLazyProperty\u001b[39m\u001b[38;5;124m'\u001b[39m)\n\u001b[1;32m---> 13\u001b[0m     curr_attr \u001b[38;5;241m=\u001b[39m \u001b[38;5;28;43msuper\u001b[39;49m\u001b[43m(\u001b[49m\u001b[43mLazyPropertyMixin\u001b[49m\u001b[43m,\u001b[49m\u001b[43m \u001b[49m\u001b[38;5;28;43mself\u001b[39;49m\u001b[43m)\u001b[49m\u001b[38;5;241;43m.\u001b[39;49m\u001b[38;5;21;43m__getattribute__\u001b[39;49m\u001b[43m(\u001b[49m\u001b[43mname\u001b[49m\u001b[43m)\u001b[49m\n\u001b[0;32m     14\u001b[0m     \u001b[38;5;28;01mif\u001b[39;00m \u001b[38;5;28misinstance\u001b[39m(curr_attr, lazy_class):\n\u001b[0;32m     15\u001b[0m         \u001b[38;5;28;01mreturn\u001b[39;00m curr_attr\u001b[38;5;241m.\u001b[39m\u001b[38;5;21m__get__\u001b[39m(curr_attr)\n",
      "File \u001b[1;32mc:\\Users\\georg\\anaconda3\\Anaconda1\\envs\\neuroscience_project\\Lib\\site-packages\\allensdk\\brain_observatory\\ecephys\\ecephys_session.py:270\u001b[0m, in \u001b[0;36mEcephysSession.stimulus_presentations\u001b[1;34m(self)\u001b[0m\n\u001b[0;32m    267\u001b[0m \u001b[38;5;129m@property\u001b[39m\n\u001b[0;32m    268\u001b[0m \u001b[38;5;28;01mdef\u001b[39;00m\u001b[38;5;250m \u001b[39m\u001b[38;5;21mstimulus_presentations\u001b[39m(\u001b[38;5;28mself\u001b[39m):\n\u001b[0;32m    269\u001b[0m     \u001b[38;5;28;01mreturn\u001b[39;00m \u001b[38;5;28mself\u001b[39m\u001b[38;5;241m.\u001b[39m\u001b[38;5;18m__class__\u001b[39m\u001b[38;5;241m.\u001b[39m_remove_detailed_stimulus_parameters(\n\u001b[1;32m--> 270\u001b[0m         \u001b[38;5;28;43mself\u001b[39;49m\u001b[38;5;241;43m.\u001b[39;49m\u001b[43m_stimulus_presentations\u001b[49m)\n",
      "File \u001b[1;32mc:\\Users\\georg\\anaconda3\\Anaconda1\\envs\\neuroscience_project\\Lib\\site-packages\\allensdk\\core\\lazy_property\\lazy_property_mixin.py:15\u001b[0m, in \u001b[0;36mLazyPropertyMixin.__getattribute__\u001b[1;34m(self, name)\u001b[0m\n\u001b[0;32m     13\u001b[0m curr_attr \u001b[38;5;241m=\u001b[39m \u001b[38;5;28msuper\u001b[39m(LazyPropertyMixin, \u001b[38;5;28mself\u001b[39m)\u001b[38;5;241m.\u001b[39m\u001b[38;5;21m__getattribute__\u001b[39m(name)\n\u001b[0;32m     14\u001b[0m \u001b[38;5;28;01mif\u001b[39;00m \u001b[38;5;28misinstance\u001b[39m(curr_attr, lazy_class):\n\u001b[1;32m---> 15\u001b[0m     \u001b[38;5;28;01mreturn\u001b[39;00m \u001b[43mcurr_attr\u001b[49m\u001b[38;5;241;43m.\u001b[39;49m\u001b[38;5;21;43m__get__\u001b[39;49m\u001b[43m(\u001b[49m\u001b[43mcurr_attr\u001b[49m\u001b[43m)\u001b[49m\n\u001b[0;32m     16\u001b[0m \u001b[38;5;28;01melse\u001b[39;00m:\n\u001b[0;32m     17\u001b[0m     \u001b[38;5;28;01mreturn\u001b[39;00m \u001b[38;5;28msuper\u001b[39m(LazyPropertyMixin, \u001b[38;5;28mself\u001b[39m)\u001b[38;5;241m.\u001b[39m\u001b[38;5;21m__getattribute__\u001b[39m(name)\n",
      "File \u001b[1;32mc:\\Users\\georg\\anaconda3\\Anaconda1\\envs\\neuroscience_project\\Lib\\site-packages\\allensdk\\core\\lazy_property\\lazy_property.py:20\u001b[0m, in \u001b[0;36mLazyProperty.__get__\u001b[1;34m(self, obj, objtype)\u001b[0m\n\u001b[0;32m     17\u001b[0m     \u001b[38;5;28;01mreturn\u001b[39;00m \u001b[38;5;28mself\u001b[39m\n\u001b[0;32m     19\u001b[0m \u001b[38;5;28;01mif\u001b[39;00m \u001b[38;5;28mself\u001b[39m\u001b[38;5;241m.\u001b[39mvalue \u001b[38;5;129;01mis\u001b[39;00m \u001b[38;5;28;01mNone\u001b[39;00m:\n\u001b[1;32m---> 20\u001b[0m     \u001b[38;5;28mself\u001b[39m\u001b[38;5;241m.\u001b[39mvalue \u001b[38;5;241m=\u001b[39m \u001b[38;5;28;43mself\u001b[39;49m\u001b[38;5;241;43m.\u001b[39;49m\u001b[43mcalculate\u001b[49m\u001b[43m(\u001b[49m\u001b[43m)\u001b[49m\n\u001b[0;32m     21\u001b[0m \u001b[38;5;28;01mreturn\u001b[39;00m \u001b[38;5;28mself\u001b[39m\u001b[38;5;241m.\u001b[39mvalue\n",
      "File \u001b[1;32mc:\\Users\\georg\\anaconda3\\Anaconda1\\envs\\neuroscience_project\\Lib\\site-packages\\allensdk\\core\\lazy_property\\lazy_property.py:32\u001b[0m, in \u001b[0;36mLazyProperty.calculate\u001b[1;34m(self)\u001b[0m\n\u001b[0;32m     30\u001b[0m result \u001b[38;5;241m=\u001b[39m \u001b[38;5;28mself\u001b[39m\u001b[38;5;241m.\u001b[39mapi_method(\u001b[38;5;241m*\u001b[39m\u001b[38;5;28mself\u001b[39m\u001b[38;5;241m.\u001b[39margs, \u001b[38;5;241m*\u001b[39m\u001b[38;5;241m*\u001b[39m\u001b[38;5;28mself\u001b[39m\u001b[38;5;241m.\u001b[39mkwargs)\n\u001b[0;32m     31\u001b[0m \u001b[38;5;28;01mfor\u001b[39;00m wrapper \u001b[38;5;129;01min\u001b[39;00m \u001b[38;5;28mself\u001b[39m\u001b[38;5;241m.\u001b[39mwrappers:\n\u001b[1;32m---> 32\u001b[0m     result \u001b[38;5;241m=\u001b[39m \u001b[43mwrapper\u001b[49m\u001b[43m(\u001b[49m\u001b[43mresult\u001b[49m\u001b[43m)\u001b[49m\n\u001b[0;32m     33\u001b[0m \u001b[38;5;28;01mreturn\u001b[39;00m result\n",
      "File \u001b[1;32mc:\\Users\\georg\\anaconda3\\Anaconda1\\envs\\neuroscience_project\\Lib\\site-packages\\allensdk\\brain_observatory\\ecephys\\ecephys_session.py:667\u001b[0m, in \u001b[0;36mEcephysSession._mask_invalid_stimulus_presentations\u001b[1;34m(self, stimulus_presentations)\u001b[0m\n\u001b[0;32m    664\u001b[0m fail_tags \u001b[38;5;241m=\u001b[39m [\u001b[38;5;124m\"\u001b[39m\u001b[38;5;124mstimulus\u001b[39m\u001b[38;5;124m\"\u001b[39m]\n\u001b[0;32m    665\u001b[0m invalid_times \u001b[38;5;241m=\u001b[39m \u001b[38;5;28mself\u001b[39m\u001b[38;5;241m.\u001b[39m_filter_invalid_times_by_tags(fail_tags)\n\u001b[1;32m--> 667\u001b[0m \u001b[43m\u001b[49m\u001b[38;5;28;43;01mfor\u001b[39;49;00m\u001b[43m \u001b[49m\u001b[43mix_sp\u001b[49m\u001b[43m,\u001b[49m\u001b[43m \u001b[49m\u001b[43msp\u001b[49m\u001b[43m \u001b[49m\u001b[38;5;129;43;01min\u001b[39;49;00m\u001b[43m \u001b[49m\u001b[43mstimulus_presentations\u001b[49m\u001b[38;5;241;43m.\u001b[39;49m\u001b[43miterrows\u001b[49m\u001b[43m(\u001b[49m\u001b[43m)\u001b[49m\u001b[43m:\u001b[49m\n\u001b[0;32m    668\u001b[0m \u001b[43m    \u001b[49m\u001b[43mstim_epoch\u001b[49m\u001b[43m \u001b[49m\u001b[38;5;241;43m=\u001b[39;49m\u001b[43m \u001b[49m\u001b[43msp\u001b[49m\u001b[43m[\u001b[49m\u001b[38;5;124;43m'\u001b[39;49m\u001b[38;5;124;43mstart_time\u001b[39;49m\u001b[38;5;124;43m'\u001b[39;49m\u001b[43m]\u001b[49m\u001b[43m,\u001b[49m\u001b[43m \u001b[49m\u001b[43msp\u001b[49m\u001b[43m[\u001b[49m\u001b[38;5;124;43m'\u001b[39;49m\u001b[38;5;124;43mstop_time\u001b[39;49m\u001b[38;5;124;43m'\u001b[39;49m\u001b[43m]\u001b[49m\n\u001b[0;32m    670\u001b[0m \u001b[43m    \u001b[49m\u001b[38;5;28;43;01mfor\u001b[39;49;00m\u001b[43m \u001b[49m\u001b[43mix_it\u001b[49m\u001b[43m,\u001b[49m\u001b[43m \u001b[49m\u001b[43mit\u001b[49m\u001b[43m \u001b[49m\u001b[38;5;129;43;01min\u001b[39;49;00m\u001b[43m \u001b[49m\u001b[43minvalid_times\u001b[49m\u001b[38;5;241;43m.\u001b[39;49m\u001b[43miterrows\u001b[49m\u001b[43m(\u001b[49m\u001b[43m)\u001b[49m\u001b[43m:\u001b[49m\n",
      "File \u001b[1;32mc:\\Users\\georg\\anaconda3\\Anaconda1\\envs\\neuroscience_project\\Lib\\site-packages\\pandas\\core\\frame.py:1411\u001b[0m, in \u001b[0;36mDataFrame.iterrows\u001b[1;34m(self)\u001b[0m\n\u001b[0;32m   1409\u001b[0m klass \u001b[38;5;241m=\u001b[39m \u001b[38;5;28mself\u001b[39m\u001b[38;5;241m.\u001b[39m_constructor_sliced\n\u001b[0;32m   1410\u001b[0m \u001b[38;5;28;01mfor\u001b[39;00m k, v \u001b[38;5;129;01min\u001b[39;00m \u001b[38;5;28mzip\u001b[39m(\u001b[38;5;28mself\u001b[39m\u001b[38;5;241m.\u001b[39mindex, \u001b[38;5;28mself\u001b[39m\u001b[38;5;241m.\u001b[39mvalues):\n\u001b[1;32m-> 1411\u001b[0m     s \u001b[38;5;241m=\u001b[39m \u001b[43mklass\u001b[49m\u001b[43m(\u001b[49m\u001b[43mv\u001b[49m\u001b[43m,\u001b[49m\u001b[43m \u001b[49m\u001b[43mindex\u001b[49m\u001b[38;5;241;43m=\u001b[39;49m\u001b[43mcolumns\u001b[49m\u001b[43m,\u001b[49m\u001b[43m \u001b[49m\u001b[43mname\u001b[49m\u001b[38;5;241;43m=\u001b[39;49m\u001b[43mk\u001b[49m\u001b[43m)\u001b[49m\u001b[38;5;241m.\u001b[39m__finalize__(\u001b[38;5;28mself\u001b[39m)\n\u001b[0;32m   1412\u001b[0m     \u001b[38;5;28;01myield\u001b[39;00m k, s\n",
      "File \u001b[1;32mc:\\Users\\georg\\anaconda3\\Anaconda1\\envs\\neuroscience_project\\Lib\\site-packages\\pandas\\core\\series.py:470\u001b[0m, in \u001b[0;36mSeries.__init__\u001b[1;34m(self, data, index, dtype, name, copy, fastpath)\u001b[0m\n\u001b[0;32m    468\u001b[0m         data \u001b[38;5;241m=\u001b[39m data\u001b[38;5;241m.\u001b[39mcopy()\n\u001b[0;32m    469\u001b[0m \u001b[38;5;28;01melse\u001b[39;00m:\n\u001b[1;32m--> 470\u001b[0m     data \u001b[38;5;241m=\u001b[39m \u001b[43msanitize_array\u001b[49m\u001b[43m(\u001b[49m\u001b[43mdata\u001b[49m\u001b[43m,\u001b[49m\u001b[43m \u001b[49m\u001b[43mindex\u001b[49m\u001b[43m,\u001b[49m\u001b[43m \u001b[49m\u001b[43mdtype\u001b[49m\u001b[43m,\u001b[49m\u001b[43m \u001b[49m\u001b[43mcopy\u001b[49m\u001b[43m)\u001b[49m\n\u001b[0;32m    472\u001b[0m     manager \u001b[38;5;241m=\u001b[39m get_option(\u001b[38;5;124m\"\u001b[39m\u001b[38;5;124mmode.data_manager\u001b[39m\u001b[38;5;124m\"\u001b[39m)\n\u001b[0;32m    473\u001b[0m     \u001b[38;5;28;01mif\u001b[39;00m manager \u001b[38;5;241m==\u001b[39m \u001b[38;5;124m\"\u001b[39m\u001b[38;5;124mblock\u001b[39m\u001b[38;5;124m\"\u001b[39m:\n",
      "File \u001b[1;32mc:\\Users\\georg\\anaconda3\\Anaconda1\\envs\\neuroscience_project\\Lib\\site-packages\\pandas\\core\\construction.py:534\u001b[0m, in \u001b[0;36msanitize_array\u001b[1;34m(data, index, dtype, copy, raise_cast_failure, allow_2d)\u001b[0m\n\u001b[0;32m    531\u001b[0m     dtype \u001b[38;5;241m=\u001b[39m dtype\u001b[38;5;241m.\u001b[39mnumpy_dtype\n\u001b[0;32m    533\u001b[0m \u001b[38;5;66;03m# extract ndarray or ExtensionArray, ensure we have no PandasArray\u001b[39;00m\n\u001b[1;32m--> 534\u001b[0m data \u001b[38;5;241m=\u001b[39m \u001b[43mextract_array\u001b[49m\u001b[43m(\u001b[49m\u001b[43mdata\u001b[49m\u001b[43m,\u001b[49m\u001b[43m \u001b[49m\u001b[43mextract_numpy\u001b[49m\u001b[38;5;241;43m=\u001b[39;49m\u001b[38;5;28;43;01mTrue\u001b[39;49;00m\u001b[43m,\u001b[49m\u001b[43m \u001b[49m\u001b[43mextract_range\u001b[49m\u001b[38;5;241;43m=\u001b[39;49m\u001b[38;5;28;43;01mTrue\u001b[39;49;00m\u001b[43m)\u001b[49m\n\u001b[0;32m    536\u001b[0m \u001b[38;5;28;01mif\u001b[39;00m \u001b[38;5;28misinstance\u001b[39m(data, np\u001b[38;5;241m.\u001b[39mndarray) \u001b[38;5;129;01mand\u001b[39;00m data\u001b[38;5;241m.\u001b[39mndim \u001b[38;5;241m==\u001b[39m \u001b[38;5;241m0\u001b[39m:\n\u001b[0;32m    537\u001b[0m     \u001b[38;5;28;01mif\u001b[39;00m dtype \u001b[38;5;129;01mis\u001b[39;00m \u001b[38;5;28;01mNone\u001b[39;00m:\n",
      "File \u001b[1;32mc:\\Users\\georg\\anaconda3\\Anaconda1\\envs\\neuroscience_project\\Lib\\site-packages\\pandas\\core\\construction.py:399\u001b[0m, in \u001b[0;36mextract_array\u001b[1;34m(obj, extract_numpy, extract_range)\u001b[0m\n\u001b[0;32m    392\u001b[0m \u001b[38;5;129m@overload\u001b[39m\n\u001b[0;32m    393\u001b[0m \u001b[38;5;28;01mdef\u001b[39;00m\u001b[38;5;250m \u001b[39m\u001b[38;5;21mextract_array\u001b[39m(\n\u001b[0;32m    394\u001b[0m     obj: T, extract_numpy: \u001b[38;5;28mbool\u001b[39m \u001b[38;5;241m=\u001b[39m \u001b[38;5;241m.\u001b[39m\u001b[38;5;241m.\u001b[39m\u001b[38;5;241m.\u001b[39m, extract_range: \u001b[38;5;28mbool\u001b[39m \u001b[38;5;241m=\u001b[39m \u001b[38;5;241m.\u001b[39m\u001b[38;5;241m.\u001b[39m\u001b[38;5;241m.\u001b[39m\n\u001b[0;32m    395\u001b[0m ) \u001b[38;5;241m-\u001b[39m\u001b[38;5;241m>\u001b[39m T \u001b[38;5;241m|\u001b[39m ArrayLike:\n\u001b[0;32m    396\u001b[0m     \u001b[38;5;241m.\u001b[39m\u001b[38;5;241m.\u001b[39m\u001b[38;5;241m.\u001b[39m\n\u001b[1;32m--> 399\u001b[0m \u001b[38;5;28;01mdef\u001b[39;00m\u001b[38;5;250m \u001b[39m\u001b[38;5;21mextract_array\u001b[39m(\n\u001b[0;32m    400\u001b[0m     obj: T, extract_numpy: \u001b[38;5;28mbool\u001b[39m \u001b[38;5;241m=\u001b[39m \u001b[38;5;28;01mFalse\u001b[39;00m, extract_range: \u001b[38;5;28mbool\u001b[39m \u001b[38;5;241m=\u001b[39m \u001b[38;5;28;01mFalse\u001b[39;00m\n\u001b[0;32m    401\u001b[0m ) \u001b[38;5;241m-\u001b[39m\u001b[38;5;241m>\u001b[39m T \u001b[38;5;241m|\u001b[39m ArrayLike:\n\u001b[0;32m    402\u001b[0m \u001b[38;5;250m    \u001b[39m\u001b[38;5;124;03m\"\"\"\u001b[39;00m\n\u001b[0;32m    403\u001b[0m \u001b[38;5;124;03m    Extract the ndarray or ExtensionArray from a Series or Index.\u001b[39;00m\n\u001b[0;32m    404\u001b[0m \n\u001b[1;32m   (...)\u001b[0m\n\u001b[0;32m    442\u001b[0m \u001b[38;5;124;03m    array([1, 2, 3])\u001b[39;00m\n\u001b[0;32m    443\u001b[0m \u001b[38;5;124;03m    \"\"\"\u001b[39;00m\n\u001b[0;32m    444\u001b[0m     \u001b[38;5;28;01mif\u001b[39;00m \u001b[38;5;28misinstance\u001b[39m(obj, (ABCIndex, ABCSeries)):\n",
      "\u001b[1;31mKeyboardInterrupt\u001b[0m: "
     ]
    }
   ],
   "source": [
    "from dataset import *\n",
    "\n",
    "import os\n",
    "import numpy as np\n",
    "import pandas as pd\n",
    "import matplotlib.pyplot as plt\n",
    "import seaborn as sns\n",
    "from scipy.stats import f_oneway\n",
    "from sklearn.model_selection import train_test_split\n",
    "from sklearn.preprocessing import StandardScaler\n",
    "from sklearn.svm import SVC\n",
    "from sklearn.linear_model import LogisticRegression\n",
    "from sklearn.ensemble import RandomForestClassifier\n",
    "from sklearn.metrics import classification_report, confusion_matrix, accuracy_score\n",
    "\n",
    "import warnings\n",
    "warnings.filterwarnings('ignore')"
   ]
  },
  {
   "cell_type": "code",
   "execution_count": null,
   "id": "47297a96",
   "metadata": {},
   "outputs": [],
   "source": [
    "units = get_units()\n",
    "\n",
    "static_presentations = get_stimulus_presentations(stimulus_name=\"static_gratings\")\n",
    "static_spike_data = get_conditionwise_spike_statistics(stimulus_name=\"static_gratings\")\n",
    "\n",
    "drifting_presentations = get_stimulus_presentations(stimulus_name=\"drifting_gratings\")\n",
    "drifting_spike_data = get_conditionwise_spike_statistics(stimulus_name=\"drifting_gratings\")"
   ]
  },
  {
   "cell_type": "code",
   "execution_count": null,
   "id": "707f26aa",
   "metadata": {},
   "outputs": [
    {
     "ename": "KeyError",
     "evalue": "'Requested level (unit_id) does not match index name (stimulus_condition_id)'",
     "output_type": "error",
     "traceback": [
      "\u001b[1;31m---------------------------------------------------------------------------\u001b[0m",
      "\u001b[1;31mKeyError\u001b[0m                                  Traceback (most recent call last)",
      "Cell \u001b[1;32mIn[75], line 1\u001b[0m\n\u001b[1;32m----> 1\u001b[0m static_spike_data \u001b[38;5;241m=\u001b[39m \u001b[43mstatic_spike_data\u001b[49m\u001b[38;5;241;43m.\u001b[39;49m\u001b[43mreset_index\u001b[49m\u001b[43m(\u001b[49m\u001b[38;5;124;43m\"\u001b[39;49m\u001b[38;5;124;43munit_id\u001b[39;49m\u001b[38;5;124;43m\"\u001b[39;49m\u001b[43m)\u001b[49m\n\u001b[0;32m      2\u001b[0m drifting_spike_data \u001b[38;5;241m=\u001b[39m drifting_spike_data\u001b[38;5;241m.\u001b[39mreset_index(\u001b[38;5;124m\"\u001b[39m\u001b[38;5;124munit_id\u001b[39m\u001b[38;5;124m\"\u001b[39m)\n\u001b[0;32m      3\u001b[0m static_spike_data\u001b[38;5;241m.\u001b[39mhead()\n",
      "File \u001b[1;32mc:\\Users\\georg\\anaconda3\\Anaconda1\\envs\\neuroscience_project\\Lib\\site-packages\\pandas\\util\\_decorators.py:331\u001b[0m, in \u001b[0;36mdeprecate_nonkeyword_arguments.<locals>.decorate.<locals>.wrapper\u001b[1;34m(*args, **kwargs)\u001b[0m\n\u001b[0;32m    325\u001b[0m \u001b[38;5;28;01mif\u001b[39;00m \u001b[38;5;28mlen\u001b[39m(args) \u001b[38;5;241m>\u001b[39m num_allow_args:\n\u001b[0;32m    326\u001b[0m     warnings\u001b[38;5;241m.\u001b[39mwarn(\n\u001b[0;32m    327\u001b[0m         msg\u001b[38;5;241m.\u001b[39mformat(arguments\u001b[38;5;241m=\u001b[39m_format_argument_list(allow_args)),\n\u001b[0;32m    328\u001b[0m         \u001b[38;5;167;01mFutureWarning\u001b[39;00m,\n\u001b[0;32m    329\u001b[0m         stacklevel\u001b[38;5;241m=\u001b[39mfind_stack_level(),\n\u001b[0;32m    330\u001b[0m     )\n\u001b[1;32m--> 331\u001b[0m \u001b[38;5;28;01mreturn\u001b[39;00m \u001b[43mfunc\u001b[49m\u001b[43m(\u001b[49m\u001b[38;5;241;43m*\u001b[39;49m\u001b[43margs\u001b[49m\u001b[43m,\u001b[49m\u001b[43m \u001b[49m\u001b[38;5;241;43m*\u001b[39;49m\u001b[38;5;241;43m*\u001b[39;49m\u001b[43mkwargs\u001b[49m\u001b[43m)\u001b[49m\n",
      "File \u001b[1;32mc:\\Users\\georg\\anaconda3\\Anaconda1\\envs\\neuroscience_project\\Lib\\site-packages\\pandas\\core\\frame.py:6314\u001b[0m, in \u001b[0;36mDataFrame.reset_index\u001b[1;34m(self, level, drop, inplace, col_level, col_fill, allow_duplicates, names)\u001b[0m\n\u001b[0;32m   6312\u001b[0m \u001b[38;5;28;01mif\u001b[39;00m \u001b[38;5;129;01mnot\u001b[39;00m \u001b[38;5;28misinstance\u001b[39m(level, (\u001b[38;5;28mtuple\u001b[39m, \u001b[38;5;28mlist\u001b[39m)):\n\u001b[0;32m   6313\u001b[0m     level \u001b[38;5;241m=\u001b[39m [level]\n\u001b[1;32m-> 6314\u001b[0m level \u001b[38;5;241m=\u001b[39m \u001b[43m[\u001b[49m\u001b[38;5;28;43mself\u001b[39;49m\u001b[38;5;241;43m.\u001b[39;49m\u001b[43mindex\u001b[49m\u001b[38;5;241;43m.\u001b[39;49m\u001b[43m_get_level_number\u001b[49m\u001b[43m(\u001b[49m\u001b[43mlev\u001b[49m\u001b[43m)\u001b[49m\u001b[43m \u001b[49m\u001b[38;5;28;43;01mfor\u001b[39;49;00m\u001b[43m \u001b[49m\u001b[43mlev\u001b[49m\u001b[43m \u001b[49m\u001b[38;5;129;43;01min\u001b[39;49;00m\u001b[43m \u001b[49m\u001b[43mlevel\u001b[49m\u001b[43m]\u001b[49m\n\u001b[0;32m   6315\u001b[0m \u001b[38;5;28;01mif\u001b[39;00m \u001b[38;5;28mlen\u001b[39m(level) \u001b[38;5;241m<\u001b[39m \u001b[38;5;28mself\u001b[39m\u001b[38;5;241m.\u001b[39mindex\u001b[38;5;241m.\u001b[39mnlevels:\n\u001b[0;32m   6316\u001b[0m     new_index \u001b[38;5;241m=\u001b[39m \u001b[38;5;28mself\u001b[39m\u001b[38;5;241m.\u001b[39mindex\u001b[38;5;241m.\u001b[39mdroplevel(level)\n",
      "File \u001b[1;32mc:\\Users\\georg\\anaconda3\\Anaconda1\\envs\\neuroscience_project\\Lib\\site-packages\\pandas\\core\\frame.py:6314\u001b[0m, in \u001b[0;36m<listcomp>\u001b[1;34m(.0)\u001b[0m\n\u001b[0;32m   6312\u001b[0m \u001b[38;5;28;01mif\u001b[39;00m \u001b[38;5;129;01mnot\u001b[39;00m \u001b[38;5;28misinstance\u001b[39m(level, (\u001b[38;5;28mtuple\u001b[39m, \u001b[38;5;28mlist\u001b[39m)):\n\u001b[0;32m   6313\u001b[0m     level \u001b[38;5;241m=\u001b[39m [level]\n\u001b[1;32m-> 6314\u001b[0m level \u001b[38;5;241m=\u001b[39m [\u001b[38;5;28;43mself\u001b[39;49m\u001b[38;5;241;43m.\u001b[39;49m\u001b[43mindex\u001b[49m\u001b[38;5;241;43m.\u001b[39;49m\u001b[43m_get_level_number\u001b[49m\u001b[43m(\u001b[49m\u001b[43mlev\u001b[49m\u001b[43m)\u001b[49m \u001b[38;5;28;01mfor\u001b[39;00m lev \u001b[38;5;129;01min\u001b[39;00m level]\n\u001b[0;32m   6315\u001b[0m \u001b[38;5;28;01mif\u001b[39;00m \u001b[38;5;28mlen\u001b[39m(level) \u001b[38;5;241m<\u001b[39m \u001b[38;5;28mself\u001b[39m\u001b[38;5;241m.\u001b[39mindex\u001b[38;5;241m.\u001b[39mnlevels:\n\u001b[0;32m   6316\u001b[0m     new_index \u001b[38;5;241m=\u001b[39m \u001b[38;5;28mself\u001b[39m\u001b[38;5;241m.\u001b[39mindex\u001b[38;5;241m.\u001b[39mdroplevel(level)\n",
      "File \u001b[1;32mc:\\Users\\georg\\anaconda3\\Anaconda1\\envs\\neuroscience_project\\Lib\\site-packages\\pandas\\core\\indexes\\base.py:2055\u001b[0m, in \u001b[0;36mIndex._get_level_number\u001b[1;34m(self, level)\u001b[0m\n\u001b[0;32m   2054\u001b[0m \u001b[38;5;28;01mdef\u001b[39;00m\u001b[38;5;250m \u001b[39m\u001b[38;5;21m_get_level_number\u001b[39m(\u001b[38;5;28mself\u001b[39m, level) \u001b[38;5;241m-\u001b[39m\u001b[38;5;241m>\u001b[39m \u001b[38;5;28mint\u001b[39m:\n\u001b[1;32m-> 2055\u001b[0m     \u001b[38;5;28;43mself\u001b[39;49m\u001b[38;5;241;43m.\u001b[39;49m\u001b[43m_validate_index_level\u001b[49m\u001b[43m(\u001b[49m\u001b[43mlevel\u001b[49m\u001b[43m)\u001b[49m\n\u001b[0;32m   2056\u001b[0m     \u001b[38;5;28;01mreturn\u001b[39;00m \u001b[38;5;241m0\u001b[39m\n",
      "File \u001b[1;32mc:\\Users\\georg\\anaconda3\\Anaconda1\\envs\\neuroscience_project\\Lib\\site-packages\\pandas\\core\\indexes\\base.py:2050\u001b[0m, in \u001b[0;36mIndex._validate_index_level\u001b[1;34m(self, level)\u001b[0m\n\u001b[0;32m   2046\u001b[0m         \u001b[38;5;28;01mraise\u001b[39;00m \u001b[38;5;167;01mIndexError\u001b[39;00m(\n\u001b[0;32m   2047\u001b[0m             \u001b[38;5;124mf\u001b[39m\u001b[38;5;124m\"\u001b[39m\u001b[38;5;124mToo many levels: Index has only 1 level, not \u001b[39m\u001b[38;5;132;01m{\u001b[39;00mlevel\u001b[38;5;250m \u001b[39m\u001b[38;5;241m+\u001b[39m\u001b[38;5;250m \u001b[39m\u001b[38;5;241m1\u001b[39m\u001b[38;5;132;01m}\u001b[39;00m\u001b[38;5;124m\"\u001b[39m\n\u001b[0;32m   2048\u001b[0m         )\n\u001b[0;32m   2049\u001b[0m \u001b[38;5;28;01melif\u001b[39;00m level \u001b[38;5;241m!=\u001b[39m \u001b[38;5;28mself\u001b[39m\u001b[38;5;241m.\u001b[39mname:\n\u001b[1;32m-> 2050\u001b[0m     \u001b[38;5;28;01mraise\u001b[39;00m \u001b[38;5;167;01mKeyError\u001b[39;00m(\n\u001b[0;32m   2051\u001b[0m         \u001b[38;5;124mf\u001b[39m\u001b[38;5;124m\"\u001b[39m\u001b[38;5;124mRequested level (\u001b[39m\u001b[38;5;132;01m{\u001b[39;00mlevel\u001b[38;5;132;01m}\u001b[39;00m\u001b[38;5;124m) does not match index name (\u001b[39m\u001b[38;5;132;01m{\u001b[39;00m\u001b[38;5;28mself\u001b[39m\u001b[38;5;241m.\u001b[39mname\u001b[38;5;132;01m}\u001b[39;00m\u001b[38;5;124m)\u001b[39m\u001b[38;5;124m\"\u001b[39m\n\u001b[0;32m   2052\u001b[0m     )\n",
      "\u001b[1;31mKeyError\u001b[0m: 'Requested level (unit_id) does not match index name (stimulus_condition_id)'"
     ]
    }
   ],
   "source": [
    "static_spike_data = static_spike_data.reset_index(\"unit_id\")\n",
    "drifting_spike_data = drifting_spike_data.reset_index(\"unit_id\")"
   ]
  },
  {
   "cell_type": "code",
   "execution_count": null,
   "id": "0469e0a1",
   "metadata": {},
   "outputs": [
    {
     "ename": "NameError",
     "evalue": "name 'static_presentations' is not defined",
     "output_type": "error",
     "traceback": [
      "\u001b[1;31m---------------------------------------------------------------------------\u001b[0m",
      "\u001b[1;31mNameError\u001b[0m                                 Traceback (most recent call last)",
      "Cell \u001b[1;32mIn[2], line 2\u001b[0m\n\u001b[0;32m      1\u001b[0m \u001b[38;5;66;03m# map orientation from stimulus presentations to spike data\u001b[39;00m\n\u001b[1;32m----> 2\u001b[0m static_presentations_unique \u001b[38;5;241m=\u001b[39m \u001b[43mstatic_presentations\u001b[49m\u001b[38;5;241m.\u001b[39mreset_index()\u001b[38;5;241m.\u001b[39mset_index(\u001b[38;5;124m'\u001b[39m\u001b[38;5;124mstimulus_condition_id\u001b[39m\u001b[38;5;124m'\u001b[39m)\n\u001b[0;32m      3\u001b[0m static_orientation_map \u001b[38;5;241m=\u001b[39m static_presentations_unique[\u001b[38;5;124m'\u001b[39m\u001b[38;5;124morientation\u001b[39m\u001b[38;5;124m'\u001b[39m]\u001b[38;5;241m.\u001b[39mto_dict()\n\u001b[0;32m      5\u001b[0m drifting_presentations_unique \u001b[38;5;241m=\u001b[39m drifting_presentations\u001b[38;5;241m.\u001b[39mreset_index()\u001b[38;5;241m.\u001b[39mset_index(\u001b[38;5;124m'\u001b[39m\u001b[38;5;124mstimulus_condition_id\u001b[39m\u001b[38;5;124m'\u001b[39m)\n",
      "\u001b[1;31mNameError\u001b[0m: name 'static_presentations' is not defined"
     ]
    }
   ],
   "source": [
    "# map orientation from stimulus presentations to spike data\n",
    "static_presentations_unique = static_presentations.reset_index().set_index('stimulus_condition_id')\n",
    "static_orientation_map = static_presentations_unique['orientation'].to_dict()\n",
    "\n",
    "drifting_presentations_unique = drifting_presentations.reset_index().set_index('stimulus_condition_id')\n",
    "drifting_orientations_map = drifting_presentations_unique['orientation'].to_dict()"
   ]
  },
  {
   "cell_type": "code",
   "execution_count": null,
   "id": "bfc8ec87",
   "metadata": {},
   "outputs": [],
   "source": [
    "# add orientation to spike data\n",
    "static_spike_data['orientation'] = static_spike_data.index.get_level_values('stimulus_condition_id').map(static_orientation_map)\n",
    "drifting_spike_data['orientation'] = drifting_spike_data.index.get_level_values('stimulus_condition_id').map(drifting_orientations_map)"
   ]
  },
  {
   "cell_type": "code",
   "execution_count": null,
   "id": "94292df9",
   "metadata": {},
   "outputs": [],
   "source": [
    "static_spike_data['orientation'] = static_spike_data['orientation'].replace('null', np.nan)\n",
    "drifting_spike_data['orientation'] = drifting_spike_data['orientation'].replace('null', np.nan)\n",
    "\n",
    "static_spike_data_clean = static_spike_data.dropna(subset=['orientation'])\n",
    "drifting_spike_data_clean = drifting_spike_data.dropna(subset=['orientation'])"
   ]
  },
  {
   "cell_type": "code",
   "execution_count": null,
   "id": "5fd0c8d2",
   "metadata": {},
   "outputs": [],
   "source": [
    "# Create tuning curves\n",
    "static_tuning_curves = static_spike_data_clean.groupby(['unit_id', 'orientation']).spike_count.mean().unstack()\n",
    "drifting_tuning_curves = drifting_spike_data_clean.groupby(['unit_id', 'orientation']).spike_count.mean().unstack()"
   ]
  },
  {
   "cell_type": "markdown",
   "id": "a2230f38",
   "metadata": {},
   "source": [
    "Investigating and comparing the OSI values for units in static and drifting gratings."
   ]
  },
  {
   "cell_type": "code",
   "execution_count": null,
   "id": "a92bc7b4",
   "metadata": {},
   "outputs": [
    {
     "name": "stdout",
     "output_type": "stream",
     "text": [
      "Static OSI values: unit_id\n",
      "951810647    0.835667\n",
      "951810560    0.818086\n",
      "951815212    0.800089\n",
      "951819532    0.769541\n",
      "951827457    0.757154\n",
      "dtype: float64\n"
     ]
    }
   ],
   "source": [
    "# Find preferred and orthogonal orientations\n",
    "static_preferred_orientation = static_tuning_curves.idxmax(axis=1)\n",
    "R_pref = static_tuning_curves.max(axis=1)\n",
    "R_orth = static_tuning_curves.apply(lambda x: x[(x.idxmax() + 90) % 180], axis=1) \n",
    "\n",
    "# Calculate OSI\n",
    "static_OSI = (R_pref - R_orth) / (R_pref + R_orth + 1e-6)  \n",
    "\n",
    "print(\"Static OSI values:\", static_OSI.sort_values(ascending=False).head())"
   ]
  },
  {
   "cell_type": "code",
   "execution_count": null,
   "id": "82a460b0",
   "metadata": {},
   "outputs": [
    {
     "name": "stdout",
     "output_type": "stream",
     "text": [
      "Drifting OSI values: unit_id\n",
      "951816866    1.000000\n",
      "951815365    0.989341\n",
      "951815212    0.988463\n",
      "951815256    0.970007\n",
      "951815237    0.963878\n",
      "dtype: float64\n"
     ]
    }
   ],
   "source": [
    "# Find preferred and orthogonal orientations\n",
    "drifting_preferred_orientation = drifting_tuning_curves.idxmax(axis=1)\n",
    "R_pref = drifting_tuning_curves.max(axis=1)\n",
    "R_orth = drifting_tuning_curves.apply(lambda x: x[(x.idxmax() + 90) % 360], axis=1) \n",
    "\n",
    "# Calculate OSI\n",
    "drifting_OSI = (R_pref - R_orth) / (R_pref + R_orth + 1e-6)  \n",
    "\n",
    "print(\"Drifting OSI values:\", drifting_OSI.sort_values(ascending=False).head())"
   ]
  },
  {
   "cell_type": "code",
   "execution_count": null,
   "id": "aa43e5d0",
   "metadata": {},
   "outputs": [
    {
     "data": {
      "image/png": "[encoded data removed]",
      "text/plain": [
       "<Figure size 1000x600 with 1 Axes>"
      ]
     },
     "metadata": {},
     "output_type": "display_data"
    }
   ],
   "source": [
    "import matplotlib.pyplot as plt\n",
    "import numpy as np\n",
    "\n",
    "bins = np.arange(0, 1.05, 0.05)\n",
    "bin_centers = (bins[:-1] + bins[1:]) / 2  # Middle of each bin\n",
    "\n",
    "static_counts, _ = np.histogram(static_OSI, bins=bins)\n",
    "drifting_counts, _ = np.histogram(drifting_OSI, bins=bins)\n",
    "\n",
    "width = 0.02  # Smaller than 0.05 to fit side-by-side\n",
    "\n",
    "plt.figure(figsize=(10,6))\n",
    "plt.bar(bin_centers - width/2, static_counts, width=width, label='Static Gratings', align='center', edgecolor='black')\n",
    "plt.bar(bin_centers + width/2, drifting_counts, width=width, label='Drifting Gratings', align='center', edgecolor='black')\n",
    "\n",
    "plt.xlabel('Orientation Selectivity Index (OSI)')\n",
    "plt.ylabel('Number of Neurons')\n",
    "plt.title('Distribution of OSI Values (Side-by-Side Comparison)')\n",
    "plt.xticks(bins)\n",
    "plt.legend()\n",
    "plt.grid(axis='y')\n",
    "plt.tight_layout()\n",
    "\n",
    "plt.show()"
   ]
  },
  {
   "cell_type": "code",
   "execution_count": null,
   "id": "4aac70c4",
   "metadata": {},
   "outputs": [
    {
     "name": "stdout",
     "output_type": "stream",
     "text": [
      "=== OSI Distribution Shape Statistics ===\n",
      "\n",
      "Static Gratings:\n",
      "  Skewness : 2.258\n",
      "  Kurtosis : 5.009\n",
      "\n",
      "Drifting Gratings:\n",
      "  Skewness : 1.937\n",
      "  Kurtosis : 3.397\n"
     ]
    }
   ],
   "source": [
    "from scipy.stats import kurtosis, skew\n",
    "\n",
    "static_skew = skew(static_OSI)\n",
    "static_kurt = kurtosis(static_OSI)\n",
    "drifting_skew = skew(drifting_OSI)\n",
    "drifting_kurt = kurtosis(drifting_OSI)\n",
    "\n",
    "print(\"=== OSI Distribution Shape Statistics ===\\n\")\n",
    "\n",
    "print(\"Static Gratings:\")\n",
    "print(f\"  Skewness : {static_skew:.3f}\")\n",
    "print(f\"  Kurtosis : {static_kurt:.3f}\\n\")\n",
    "\n",
    "print(\"Drifting Gratings:\")\n",
    "print(f\"  Skewness : {drifting_skew:.3f}\")\n",
    "print(f\"  Kurtosis : {drifting_kurt:.3f}\")\n"
   ]
  },
  {
   "cell_type": "markdown",
   "id": "7bcde953",
   "metadata": {},
   "source": [
    "We can draw a number of conclusions from the distribution of OSI values for units between the two stimuli. \n",
    "\n",
    "1) As we would expect the distribution is highly non-normal. Only a few neurons have a high OSI and are responsible for interpreting orientation.\n",
    "2) Drifting activates more neurons with high OSI overall.\n",
    "3) Static distribution illicits a higher hurtosis indicating a narrower sharper peak and heavier tails than drifting. This suggests fewer relatively higher tuned neurons. This can probably be interpreted as the drifting nature of the grating is a kind of noise which triggers a greater response in neurons in general instead of a few concentrating on orientation only.\n",
    "\n",
    "#### Investigating overlap in highly tuned neurons between static and drifting\n",
    "\n",
    "ANOVA"
   ]
  },
  {
   "cell_type": "code",
   "execution_count": null,
   "id": "7c3a5520",
   "metadata": {},
   "outputs": [
    {
     "name": "stdout",
     "output_type": "stream",
     "text": [
      "Number of units with significant orientation tuning (p<0.05) for static gratings: 282\n"
     ]
    }
   ],
   "source": [
    "# Perform ANOVA for each unit for static presentations\n",
    "static_p_values = static_spike_data_clean.groupby('unit_id').apply(\n",
    "    lambda x: f_oneway(*[group.spike_count for name, group in x.groupby('orientation')])[1]\n",
    ")\n",
    "\n",
    "print(f\"Number of units with significant orientation tuning (p<0.05) for static gratings: {(static_p_values < 0.05).sum()}\")"
   ]
  },
  {
   "cell_type": "code",
   "execution_count": null,
   "id": "0defa914",
   "metadata": {},
   "outputs": [
    {
     "name": "stdout",
     "output_type": "stream",
     "text": [
      "Number of units with significant orientation tuning (p<0.05) for drifting gratings: 257\n"
     ]
    }
   ],
   "source": [
    "# Perform ANOVA for each unit for drifting presentations\n",
    "drifting_p_values = drifting_spike_data_clean.groupby('unit_id').apply(\n",
    "    lambda x: f_oneway(*[group.spike_count for name, group in x.groupby('orientation')])[1]\n",
    ")\n",
    "\n",
    "print(f\"Number of units with significant orientation tuning (p<0.05) for drifting gratings: {(drifting_p_values < 0.05).sum()}\")"
   ]
  },
  {
   "cell_type": "code",
   "execution_count": null,
   "id": "9d4a6c18",
   "metadata": {},
   "outputs": [],
   "source": [
    "static_unit_regions = get_units()['ecephys_structure_acronym']\n",
    "\n",
    "static_tuning_curves_with_regions = pd.merge(\n",
    "    static_unit_regions.rename('ecephys_structure_acronym'),\n",
    "    static_tuning_curves,          \n",
    "    on=\"unit_id\",        \n",
    "    how=\"inner\"       \n",
    ")\n",
    "\n",
    "drifting_unit_regions = get_units()['ecephys_structure_acronym']\n",
    "\n",
    "drifting_tuning_curves_with_regions = pd.merge(\n",
    "    drifting_unit_regions.rename('ecephys_structure_acronym'),\n",
    "    drifting_tuning_curves,          \n",
    "    on=\"unit_id\",        \n",
    "    how=\"inner\"       \n",
    ")"
   ]
  },
  {
   "cell_type": "code",
   "execution_count": null,
   "id": "4b294670",
   "metadata": {},
   "outputs": [],
   "source": [
    "# Select highly tuned neurons (high OSI and statistically significant)\n",
    "static_filtered_neurons = static_OSI[(static_OSI > 0.5) & (static_p_values < 0.05)].index\n",
    "static_selected_neurons = static_tuning_curves_with_regions.loc[static_filtered_neurons]\n",
    "static_selected_neurons_list = static_selected_neurons.index.unique()\n",
    "\n",
    "drifting_filtered_neurons = drifting_OSI[(drifting_OSI > 0.5) & (drifting_p_values < 0.05)].index\n",
    "drifting_selected_neurons = drifting_tuning_curves_with_regions.loc[drifting_filtered_neurons]\n",
    "drifting_selected_neurons_list = drifting_selected_neurons.index.unique()"
   ]
  },
  {
   "cell_type": "code",
   "execution_count": null,
   "id": "8c477373",
   "metadata": {},
   "outputs": [
    {
     "name": "stdout",
     "output_type": "stream",
     "text": [
      "=== Highly Tuned Neurons Summary ===\n",
      "Static Gratings: 43 neurons selected (OSI > 0.5 and p < 0.05)\n",
      "Drifting Gratings: 81 neurons selected (OSI > 0.5 and p < 0.05)\n",
      "\n"
     ]
    }
   ],
   "source": [
    "# 1. Compare number of highly tuned units\n",
    "print(\"=== Highly Tuned Neurons Summary ===\")\n",
    "print(f\"Static Gratings: {len(static_selected_neurons_list)} neurons selected (OSI > 0.5 and p < 0.05)\")\n",
    "print(f\"Drifting Gratings: {len(drifting_selected_neurons_list)} neurons selected (OSI > 0.5 and p < 0.05)\")\n",
    "print()"
   ]
  },
  {
   "cell_type": "markdown",
   "id": "92849d11",
   "metadata": {},
   "source": [
    "Almost twice as many highly tuned neurons for drifting compared to static gratings."
   ]
  },
  {
   "cell_type": "code",
   "execution_count": null,
   "id": "3e131cfe",
   "metadata": {},
   "outputs": [
    {
     "name": "stdout",
     "output_type": "stream",
     "text": [
      "=== Regional Distribution of Highly Tuned Neurons ===\n",
      "       Static Gratings  Drifting Gratings\n",
      "VISal               15                 28\n",
      "VISam                6                 14\n",
      "VISl                10                  9\n",
      "VISp                 9                 19\n",
      "VISpm                0                  1\n",
      "VISrl                2                  9\n",
      "grey                 1                  1\n"
     ]
    }
   ],
   "source": [
    "# 2. Compare distribution across regions\n",
    "\n",
    "# Count neurons per region\n",
    "static_region_counts = static_selected_neurons['ecephys_structure_acronym'].value_counts().sort_index()\n",
    "drifting_region_counts = drifting_selected_neurons['ecephys_structure_acronym'].value_counts().sort_index()\n",
    "\n",
    "# Merge into a table\n",
    "region_comparison = pd.DataFrame({\n",
    "    'Static Gratings': static_region_counts,\n",
    "    'Drifting Gratings': drifting_region_counts\n",
    "}).fillna(0).astype(int)\n",
    "\n",
    "print(\"=== Regional Distribution of Highly Tuned Neurons ===\")\n",
    "print(region_comparison)"
   ]
  },
  {
   "cell_type": "code",
   "execution_count": null,
   "id": "0bc552e8",
   "metadata": {},
   "outputs": [
    {
     "data": {
      "image/png": "[encoded data removed]",
      "text/plain": [
       "<Figure size 1200x600 with 1 Axes>"
      ]
     },
     "metadata": {},
     "output_type": "display_data"
    }
   ],
   "source": [
    "region_comparison.plot(kind='bar', figsize=(12,6))\n",
    "plt.title('Highly Tuned Neurons per Region')\n",
    "plt.ylabel('Number of Neurons')\n",
    "plt.xlabel('Brain Region')\n",
    "plt.xticks(rotation=45, ha='right')\n",
    "plt.legend(title='Stimulus Type')\n",
    "plt.tight_layout()\n",
    "plt.show()"
   ]
  },
  {
   "cell_type": "markdown",
   "id": "2fe0ccc6",
   "metadata": {},
   "source": [
    "Now we look into which highly tuned units overlap between static and drifting stimuli."
   ]
  },
  {
   "cell_type": "code",
   "execution_count": null,
   "id": "c9896739",
   "metadata": {},
   "outputs": [
    {
     "name": "stdout",
     "output_type": "stream",
     "text": [
      "Number of highly tuned units in both static and drifting: 29\n"
     ]
    }
   ],
   "source": [
    "# Find overlap\n",
    "overlapping_units = static_selected_neurons_list.intersection(drifting_selected_neurons_list)\n",
    "\n",
    "print(f\"Number of highly tuned units in both static and drifting: {len(overlapping_units)}\")"
   ]
  },
  {
   "cell_type": "markdown",
   "id": "5f0c4c8c",
   "metadata": {},
   "source": [
    "Given there are only 43 highly tuned units for static gratings this is well over half."
   ]
  },
  {
   "cell_type": "code",
   "execution_count": null,
   "id": "a5ad2c3d",
   "metadata": {},
   "outputs": [
    {
     "name": "stdout",
     "output_type": "stream",
     "text": [
      "           Static_OSI  Drifting_OSI\n",
      "unit_id                            \n",
      "951810560    0.818086      0.928451\n",
      "951810647    0.835667      0.863997\n",
      "951810885    0.584677      0.778598\n",
      "951810947    0.591463      0.800895\n",
      "951811267    0.644177      0.810765\n"
     ]
    }
   ],
   "source": [
    "# Build a DataFrame with the OSI values for overlapping units\n",
    "overlap_osi = pd.DataFrame({\n",
    "    \"Static_OSI\": static_OSI.loc[overlapping_units],\n",
    "    \"Drifting_OSI\": drifting_OSI.loc[overlapping_units]\n",
    "})\n",
    "\n",
    "# Preview\n",
    "print(overlap_osi.head())"
   ]
  },
  {
   "cell_type": "markdown",
   "id": "84a4fed0",
   "metadata": {},
   "source": [
    "Now we want to see if the same units are selective for the same orientation for both static and drifting. Sadly we can only look at 0 and 90 degrees as this is the only overlap."
   ]
  },
  {
   "cell_type": "code",
   "execution_count": null,
   "id": "fda09099",
   "metadata": {},
   "outputs": [],
   "source": [
    "# Get preferred orientations for overlapping units\n",
    "static_pref = static_tuning_curves.loc[overlapping_units].idxmax(axis=1)\n",
    "drifting_pref = drifting_tuning_curves.loc[overlapping_units].idxmax(axis=1)\n",
    "\n",
    "# Combine into a DataFrame\n",
    "preferred_orientations = pd.DataFrame({\n",
    "    \"Static_Pref\": static_pref,\n",
    "    \"Drifting_Pref\": drifting_pref\n",
    "})\n",
    "\n",
    "# Focus only on 0 and 90 degrees for static preferred orientation\n",
    "mask = preferred_orientations[\"Static_Pref\"].isin([0, 90])\n",
    "\n",
    "# Now, for those units, check if static and drifting preferred orientations are the same\n",
    "same_pref = (preferred_orientations[\"Static_Pref\"] == preferred_orientations[\"Drifting_Pref\"])\n",
    "\n",
    "# Apply the mask (only for units with static 0 or 90 degrees)\n",
    "same_pref_masked = same_pref[mask]\n",
    "\n",
    "# Calculate the percentage\n",
    "percentage_same = same_pref_masked.mean() * 100\n",
    "\n",
    "print(f\"Percentage of overlapping units with same preferred orientation at 0 or 90 degrees: {percentage_same:.2f}%\")\n"
   ]
  },
  {
   "cell_type": "markdown",
   "id": "67843e49",
   "metadata": {},
   "source": [
    "#### Maybe a bit more on comparing which ones overlap and compare with feature importance"
   ]
  },
  {
   "cell_type": "code",
   "execution_count": null,
   "id": "671eaf70",
   "metadata": {},
   "outputs": [],
   "source": []
  }
 ],
 "metadata": {
  "kernelspec": {
   "display_name": "neuroscience_project",
   "language": "python",
   "name": "python3"
  },
  "language_info": {
   "codemirror_mode": {
    "name": "ipython",
    "version": 3
   },
   "file_extension": ".py",
   "mimetype": "text/x-python",
   "name": "python",
   "nbconvert_exporter": "python",
   "pygments_lexer": "ipython3",
   "version": "3.11.11"
  }
 },
 "nbformat": 4,
 "nbformat_minor": 5
}
