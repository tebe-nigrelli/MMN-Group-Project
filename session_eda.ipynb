{
 "cells": [
  {
   "cell_type": "code",
   "execution_count": 1,
   "metadata": {},
   "outputs": [
    {
     "name": "stderr",
     "output_type": "stream",
     "text": [
      "/usr/local/Caskroom/miniconda/base/envs/envallen/lib/python3.11/site-packages/tqdm/auto.py:21: TqdmWarning: IProgress not found. Please update jupyter and ipywidgets. See https://ipywidgets.readthedocs.io/en/stable/user_install.html\n",
      "  from .autonotebook import tqdm as notebook_tqdm\n"
     ]
    }
   ],
   "source": [
    "import os\n",
    "import numpy as np\n",
    "import pandas as pd\n",
    "import matplotlib.pyplot as plt\n",
    "import matplotlib\n",
    "from allensdk.brain_observatory.ecephys.ecephys_project_cache import EcephysProjectCache"
   ]
  },
  {
   "cell_type": "code",
   "execution_count": 2,
   "metadata": {},
   "outputs": [],
   "source": [
    "data_dir = \"./allendata\"\n",
    "\n",
    "manifest_path = os.path.join(data_dir, \"manifest.json\")\n",
    "cache = EcephysProjectCache.from_warehouse(manifest=manifest_path)\n",
    "sessions = cache.get_session_table()"
   ]
  },
  {
   "cell_type": "code",
   "execution_count": 3,
   "metadata": {},
   "outputs": [
    {
     "name": "stderr",
     "output_type": "stream",
     "text": [
      "WARNING:root:downloading a 3090.225MiB file from http://api.brain-map.org//api/v2/well_known_file_download/1026124724\n",
      "Downloading: 100%|██████████| 3.24G/3.24G [15:50<00:00, 3.41MB/s]  \n",
      "/usr/local/Caskroom/miniconda/base/envs/envallen/lib/python3.11/site-packages/hdmf/spec/namespace.py:535: UserWarning: Ignoring cached namespace 'hdmf-common' version 1.1.3 because version 1.8.0 is already loaded.\n",
      "  warn(\"Ignoring cached namespace '%s' version %s because version %s is already loaded.\"\n",
      "/usr/local/Caskroom/miniconda/base/envs/envallen/lib/python3.11/site-packages/hdmf/spec/namespace.py:535: UserWarning: Ignoring cached namespace 'core' version 2.2.2 because version 2.7.0 is already loaded.\n",
      "  warn(\"Ignoring cached namespace '%s' version %s because version %s is already loaded.\"\n"
     ]
    }
   ],
   "source": [
    "session = cache.get_session_data(750332458)"
   ]
  },
  {
   "cell_type": "code",
   "execution_count": 34,
   "metadata": {},
   "outputs": [
    {
     "data": {
      "text/html": [
       "<div>\n",
       "<style scoped>\n",
       "    .dataframe tbody tr th:only-of-type {\n",
       "        vertical-align: middle;\n",
       "    }\n",
       "\n",
       "    .dataframe tbody tr th {\n",
       "        vertical-align: top;\n",
       "    }\n",
       "\n",
       "    .dataframe thead th {\n",
       "        text-align: right;\n",
       "    }\n",
       "</style>\n",
       "<table border=\"1\" class=\"dataframe\">\n",
       "  <thead>\n",
       "    <tr style=\"text-align: right;\">\n",
       "      <th></th>\n",
       "      <th>description</th>\n",
       "      <th>location</th>\n",
       "      <th>sampling_rate</th>\n",
       "      <th>lfp_sampling_rate</th>\n",
       "      <th>has_lfp_data</th>\n",
       "    </tr>\n",
       "    <tr>\n",
       "      <th>id</th>\n",
       "      <th></th>\n",
       "      <th></th>\n",
       "      <th></th>\n",
       "      <th></th>\n",
       "      <th></th>\n",
       "    </tr>\n",
       "  </thead>\n",
       "  <tbody>\n",
       "    <tr>\n",
       "      <th>757904545</th>\n",
       "      <td>probeA</td>\n",
       "      <td>See electrode locations</td>\n",
       "      <td>29999.968724</td>\n",
       "      <td>1249.998697</td>\n",
       "      <td>True</td>\n",
       "    </tr>\n",
       "    <tr>\n",
       "      <th>757904547</th>\n",
       "      <td>probeB</td>\n",
       "      <td>See electrode locations</td>\n",
       "      <td>29999.918181</td>\n",
       "      <td>1249.996591</td>\n",
       "      <td>True</td>\n",
       "    </tr>\n",
       "    <tr>\n",
       "      <th>757904550</th>\n",
       "      <td>probeC</td>\n",
       "      <td>See electrode locations</td>\n",
       "      <td>29999.996461</td>\n",
       "      <td>1249.999853</td>\n",
       "      <td>True</td>\n",
       "    </tr>\n",
       "    <tr>\n",
       "      <th>757904554</th>\n",
       "      <td>probeD</td>\n",
       "      <td>See electrode locations</td>\n",
       "      <td>29999.922462</td>\n",
       "      <td>1249.996769</td>\n",
       "      <td>True</td>\n",
       "    </tr>\n",
       "    <tr>\n",
       "      <th>757904557</th>\n",
       "      <td>probeE</td>\n",
       "      <td>See electrode locations</td>\n",
       "      <td>29999.998841</td>\n",
       "      <td>1249.999952</td>\n",
       "      <td>True</td>\n",
       "    </tr>\n",
       "    <tr>\n",
       "      <th>757904559</th>\n",
       "      <td>probeF</td>\n",
       "      <td>See electrode locations</td>\n",
       "      <td>30000.040445</td>\n",
       "      <td>1250.001685</td>\n",
       "      <td>True</td>\n",
       "    </tr>\n",
       "  </tbody>\n",
       "</table>\n",
       "</div>"
      ],
      "text/plain": [
       "          description                 location  sampling_rate  \\\n",
       "id                                                              \n",
       "757904545      probeA  See electrode locations   29999.968724   \n",
       "757904547      probeB  See electrode locations   29999.918181   \n",
       "757904550      probeC  See electrode locations   29999.996461   \n",
       "757904554      probeD  See electrode locations   29999.922462   \n",
       "757904557      probeE  See electrode locations   29999.998841   \n",
       "757904559      probeF  See electrode locations   30000.040445   \n",
       "\n",
       "           lfp_sampling_rate  has_lfp_data  \n",
       "id                                          \n",
       "757904545        1249.998697          True  \n",
       "757904547        1249.996591          True  \n",
       "757904550        1249.999853          True  \n",
       "757904554        1249.996769          True  \n",
       "757904557        1249.999952          True  \n",
       "757904559        1250.001685          True  "
      ]
     },
     "execution_count": 34,
     "metadata": {},
     "output_type": "execute_result"
    }
   ],
   "source": [
    "session.probes"
   ]
  },
  {
   "cell_type": "code",
   "execution_count": 38,
   "metadata": {},
   "outputs": [
    {
     "data": {
      "text/html": [
       "<div>\n",
       "<style scoped>\n",
       "    .dataframe tbody tr th:only-of-type {\n",
       "        vertical-align: middle;\n",
       "    }\n",
       "\n",
       "    .dataframe tbody tr th {\n",
       "        vertical-align: top;\n",
       "    }\n",
       "\n",
       "    .dataframe thead th {\n",
       "        text-align: right;\n",
       "    }\n",
       "</style>\n",
       "<table border=\"1\" class=\"dataframe\">\n",
       "  <thead>\n",
       "    <tr style=\"text-align: right;\">\n",
       "      <th></th>\n",
       "      <th>stimulus_block</th>\n",
       "      <th>start_time</th>\n",
       "      <th>stop_time</th>\n",
       "      <th>size</th>\n",
       "      <th>orientation</th>\n",
       "      <th>phase</th>\n",
       "      <th>contrast</th>\n",
       "      <th>spatial_frequency</th>\n",
       "      <th>stimulus_name</th>\n",
       "      <th>duration</th>\n",
       "      <th>stimulus_condition_id</th>\n",
       "    </tr>\n",
       "    <tr>\n",
       "      <th>stimulus_presentation_id</th>\n",
       "      <th></th>\n",
       "      <th></th>\n",
       "      <th></th>\n",
       "      <th></th>\n",
       "      <th></th>\n",
       "      <th></th>\n",
       "      <th></th>\n",
       "      <th></th>\n",
       "      <th></th>\n",
       "      <th></th>\n",
       "      <th></th>\n",
       "    </tr>\n",
       "  </thead>\n",
       "  <tbody>\n",
       "    <tr>\n",
       "      <th>49434</th>\n",
       "      <td>8.0</td>\n",
       "      <td>5398.833208</td>\n",
       "      <td>5399.083416</td>\n",
       "      <td>[250.0, 250.0]</td>\n",
       "      <td>0.0</td>\n",
       "      <td>0.25</td>\n",
       "      <td>0.8</td>\n",
       "      <td>0.04</td>\n",
       "      <td>static_gratings</td>\n",
       "      <td>0.250209</td>\n",
       "      <td>4787</td>\n",
       "    </tr>\n",
       "    <tr>\n",
       "      <th>49435</th>\n",
       "      <td>8.0</td>\n",
       "      <td>5399.083416</td>\n",
       "      <td>5399.333625</td>\n",
       "      <td>[250.0, 250.0]</td>\n",
       "      <td>0.0</td>\n",
       "      <td>0.0</td>\n",
       "      <td>0.8</td>\n",
       "      <td>0.32</td>\n",
       "      <td>static_gratings</td>\n",
       "      <td>0.250209</td>\n",
       "      <td>4788</td>\n",
       "    </tr>\n",
       "    <tr>\n",
       "      <th>49436</th>\n",
       "      <td>8.0</td>\n",
       "      <td>5399.333625</td>\n",
       "      <td>5399.583834</td>\n",
       "      <td>[250.0, 250.0]</td>\n",
       "      <td>30.0</td>\n",
       "      <td>0.0</td>\n",
       "      <td>0.8</td>\n",
       "      <td>0.04</td>\n",
       "      <td>static_gratings</td>\n",
       "      <td>0.250209</td>\n",
       "      <td>4789</td>\n",
       "    </tr>\n",
       "    <tr>\n",
       "      <th>49437</th>\n",
       "      <td>8.0</td>\n",
       "      <td>5399.583834</td>\n",
       "      <td>5399.834042</td>\n",
       "      <td>[250.0, 250.0]</td>\n",
       "      <td>90.0</td>\n",
       "      <td>0.75</td>\n",
       "      <td>0.8</td>\n",
       "      <td>0.08</td>\n",
       "      <td>static_gratings</td>\n",
       "      <td>0.250209</td>\n",
       "      <td>4790</td>\n",
       "    </tr>\n",
       "    <tr>\n",
       "      <th>49438</th>\n",
       "      <td>8.0</td>\n",
       "      <td>5399.834042</td>\n",
       "      <td>5400.084249</td>\n",
       "      <td>[250.0, 250.0]</td>\n",
       "      <td>60.0</td>\n",
       "      <td>0.25</td>\n",
       "      <td>0.8</td>\n",
       "      <td>0.08</td>\n",
       "      <td>static_gratings</td>\n",
       "      <td>0.250206</td>\n",
       "      <td>4791</td>\n",
       "    </tr>\n",
       "  </tbody>\n",
       "</table>\n",
       "</div>"
      ],
      "text/plain": [
       "                         stimulus_block   start_time    stop_time  \\\n",
       "stimulus_presentation_id                                            \n",
       "49434                               8.0  5398.833208  5399.083416   \n",
       "49435                               8.0  5399.083416  5399.333625   \n",
       "49436                               8.0  5399.333625  5399.583834   \n",
       "49437                               8.0  5399.583834  5399.834042   \n",
       "49438                               8.0  5399.834042  5400.084249   \n",
       "\n",
       "                                    size orientation phase contrast  \\\n",
       "stimulus_presentation_id                                              \n",
       "49434                     [250.0, 250.0]         0.0  0.25      0.8   \n",
       "49435                     [250.0, 250.0]         0.0   0.0      0.8   \n",
       "49436                     [250.0, 250.0]        30.0   0.0      0.8   \n",
       "49437                     [250.0, 250.0]        90.0  0.75      0.8   \n",
       "49438                     [250.0, 250.0]        60.0  0.25      0.8   \n",
       "\n",
       "                         spatial_frequency    stimulus_name  duration  \\\n",
       "stimulus_presentation_id                                                \n",
       "49434                                 0.04  static_gratings  0.250209   \n",
       "49435                                 0.32  static_gratings  0.250209   \n",
       "49436                                 0.04  static_gratings  0.250209   \n",
       "49437                                 0.08  static_gratings  0.250209   \n",
       "49438                                 0.08  static_gratings  0.250206   \n",
       "\n",
       "                          stimulus_condition_id  \n",
       "stimulus_presentation_id                         \n",
       "49434                                      4787  \n",
       "49435                                      4788  \n",
       "49436                                      4789  \n",
       "49437                                      4790  \n",
       "49438                                      4791  "
      ]
     },
     "execution_count": 38,
     "metadata": {},
     "output_type": "execute_result"
    }
   ],
   "source": [
    "table = session.get_stimulus_table(\"static_gratings\")\n",
    "table.head()"
   ]
  },
  {
   "cell_type": "code",
   "execution_count": 40,
   "metadata": {},
   "outputs": [
    {
     "data": {
      "text/plain": [
       "Index(['stimulus_block', 'start_time', 'stop_time', 'size', 'orientation',\n",
       "       'phase', 'contrast', 'spatial_frequency', 'stimulus_name', 'duration',\n",
       "       'stimulus_condition_id'],\n",
       "      dtype='object')"
      ]
     },
     "execution_count": 40,
     "metadata": {},
     "output_type": "execute_result"
    }
   ],
   "source": [
    "table.columns"
   ]
  },
  {
   "cell_type": "markdown",
   "metadata": {},
   "source": [
    "Each probe touches its own area, with a probe having or not the LFP data; sometimes a probe only has the spike data."
   ]
  },
  {
   "cell_type": "code",
   "execution_count": 33,
   "metadata": {},
   "outputs": [
    {
     "data": {
      "text/plain": [
       "{'probeA': ['VISam', nan, 'grey'],\n",
       " 'probeB': ['grey', 'VISpm', nan],\n",
       " 'probeC': ['grey', nan, 'VISp'],\n",
       " 'probeD': ['IntG', 'IGL', 'LGd', 'CA3', 'DG', 'CA1', 'VISl', nan],\n",
       " 'probeE': [nan, 'grey', 'VISal'],\n",
       " 'probeF': ['grey', nan, 'VISrl']}"
      ]
     },
     "execution_count": 33,
     "metadata": {},
     "output_type": "execute_result"
    }
   ],
   "source": [
    "{session.probes.loc[probe_id].description : \n",
    "     list(session.channels[session.channels.probe_id == probe_id].ecephys_structure_acronym.unique())\n",
    "     for probe_id in session.probes.index.values}"
   ]
  },
  {
   "cell_type": "code",
   "execution_count": null,
   "metadata": {},
   "outputs": [],
   "source": [
    "probe_id = session.probes[session.probes.description == 'probeC'].index.values[0]\n",
    "lfp = session.get_lfp(probe_id)"
   ]
  }
 ],
 "metadata": {
  "kernelspec": {
   "display_name": "envallen",
   "language": "python",
   "name": "python3"
  },
  "language_info": {
   "codemirror_mode": {
    "name": "ipython",
    "version": 3
   },
   "file_extension": ".py",
   "mimetype": "text/x-python",
   "name": "python",
   "nbconvert_exporter": "python",
   "pygments_lexer": "ipython3",
   "version": "3.11.11"
  }
 },
 "nbformat": 4,
 "nbformat_minor": 2
}
