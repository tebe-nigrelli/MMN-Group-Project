{
 "cells": [
  {
   "cell_type": "markdown",
   "metadata": {},
   "source": [
    "# Installing for the first time.\n",
    "\n",
    "```\n",
    "conda env create -f environment.yml\n",
    "conda activate envallen\n",
    "python -m ipykernel install --user --name=envallen --display-name \"py (envallen)\"\n",
    "```\n",
    "\n",
    "Continue by running the download_text.ipynb."
   ]
  },
  {
   "cell_type": "markdown",
   "metadata": {},
   "source": [
    "# Installing New Packages\n",
    "\n",
    "Do the first two commands to save the package and the second to store the change in the environment.yml file.\n",
    "\n",
    "It could be necessary to run 'conda init zsh' before conda activate.\n",
    "\n",
    "```\n",
    "conda activate envallen\n",
    "conda install <package_name>\n",
    "conda env export --from-history > environment.yml\n",
    "```"
   ]
  },
  {
   "cell_type": "markdown",
   "metadata": {},
   "source": [
    "# Updating the environment from a changed environment.yml\n",
    "\n",
    "To bring your packages up to the specifications of the environment.yml file.\n",
    "\n",
    "```\n",
    "conda env update --file environment.yml --prune\n",
    "```"
   ]
  }
 ],
 "metadata": {
  "language_info": {
   "name": "python"
  }
 },
 "nbformat": 4,
 "nbformat_minor": 2
}
