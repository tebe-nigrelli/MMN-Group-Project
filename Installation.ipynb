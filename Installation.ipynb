{
 "cells": [
  {
   "cell_type": "markdown",
   "metadata": {},
   "source": [
    "# Installing for the first time.\n",
    "\n",
    "```\n",
    "conda create -n envallen python=3.11\n",
    "conda activate envallen\n",
    "pip install allensdk scikit-learn jupyterlab\n",
    "```\n",
    "\n",
    "Continue by running the download_text.ipynb."
   ]
  },
  {
   "cell_type": "markdown",
   "metadata": {},
   "source": [
    "# Installing New Packages\n",
    "\n",
    "Do the first two commands to save the package and the second to store the change in the environment.yml file.\n",
    "\n",
    "It could be necessary to run 'conda init zsh' before conda activate.\n",
    "\n",
    "```\n",
    "conda activate envallen\n",
    "conda install <package_name>\n",
    "conda env export --from-history > environment.yml\n",
    "```"
   ]
  },
  {
   "cell_type": "markdown",
   "metadata": {},
   "source": [
    "# Updating the environment from a changed environment.yml\n",
    "\n",
    "To bring your packages up to the specifications of the environment.yml file.\n",
    "\n",
    "```\n",
    "conda env update --file environment.yml --prune\n",
    "```"
   ]
  }
 ],
 "metadata": {
  "kernelspec": {
   "display_name": "allensdk",
   "language": "python",
   "name": "python3"
  },
  "language_info": {
   "name": "python",
   "version": "3.11.11"
  }
 },
 "nbformat": 4,
 "nbformat_minor": 2
}
