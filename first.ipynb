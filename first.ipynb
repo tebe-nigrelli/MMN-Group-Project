{
 "cells": [
  {
   "cell_type": "markdown",
   "metadata": {},
   "source": [
    "## Imports and Data Set Up"
   ]
  },
  {
   "cell_type": "code",
   "execution_count": 2,
   "metadata": {},
   "outputs": [],
   "source": [
    "import os\n",
    "import numpy as np\n",
    "import pandas as pd\n",
    "import matplotlib.pyplot as plt\n",
    "import matplotlib\n",
    "\n",
    "from allensdk.brain_observatory.ecephys.ecephys_project_cache import EcephysProjectCache"
   ]
  },
  {
   "cell_type": "code",
   "execution_count": 3,
   "metadata": {},
   "outputs": [],
   "source": [
    "data_dir = \"./allendata\"\n",
    "\n",
    "manifest_path = os.path.join(data_dir, \"manifest.json\")\n",
    "cache = EcephysProjectCache.from_warehouse(manifest=manifest_path)\n",
    "sessions = cache.get_session_table()"
   ]
  },
  {
   "cell_type": "markdown",
   "metadata": {},
   "source": [
    "## Initial Session Filtering\n",
    "\n",
    "- select the `brain_observatory_1.1`\n",
    "- analyse the brain_observatory sessions\n",
    "- narrow down based on unit_count and the available stimuli\n"
   ]
  },
  {
   "cell_type": "code",
   "execution_count": 4,
   "metadata": {},
   "outputs": [
    {
     "name": "stdout",
     "output_type": "stream",
     "text": [
      "There are 32 out of 58 sessions to choose from.\n"
     ]
    }
   ],
   "source": [
    "brain_obs_sessions = sessions[(sessions.session_type == \"brain_observatory_1.1\")]\n",
    "\n",
    "print(f\"There are {len(brain_obs_sessions)} out of {len(sessions)} sessions to choose from.\")"
   ]
  },
  {
   "cell_type": "code",
   "execution_count": 21,
   "metadata": {},
   "outputs": [
    {
     "data": {
      "text/plain": [
       "count     32.000000\n",
       "mean     682.562500\n",
       "std      142.865589\n",
       "min      444.000000\n",
       "25%      564.750000\n",
       "50%      654.500000\n",
       "75%      824.250000\n",
       "max      959.000000\n",
       "Name: unit_count, dtype: float64"
      ]
     },
     "execution_count": 21,
     "metadata": {},
     "output_type": "execute_result"
    }
   ],
   "source": [
    "brain_obs_sessions[\"unit_count\"].describe()"
   ]
  },
  {
   "cell_type": "markdown",
   "metadata": {},
   "source": [
    "Let's only keep the upper half of sessions, those with at least 650 units. Let's also specify the regions we want to explore: VISp, VISl, VISal, VISpm, and VISam."
   ]
  },
  {
   "cell_type": "code",
   "execution_count": null,
   "metadata": {},
   "outputs": [
    {
     "data": {
      "text/html": [
       "<div>\n",
       "<style scoped>\n",
       "    .dataframe tbody tr th:only-of-type {\n",
       "        vertical-align: middle;\n",
       "    }\n",
       "\n",
       "    .dataframe tbody tr th {\n",
       "        vertical-align: top;\n",
       "    }\n",
       "\n",
       "    .dataframe thead th {\n",
       "        text-align: right;\n",
       "    }\n",
       "</style>\n",
       "<table border=\"1\" class=\"dataframe\">\n",
       "  <thead>\n",
       "    <tr style=\"text-align: right;\">\n",
       "      <th></th>\n",
       "      <th>published_at</th>\n",
       "      <th>specimen_id</th>\n",
       "      <th>session_type</th>\n",
       "      <th>age_in_days</th>\n",
       "      <th>sex</th>\n",
       "      <th>full_genotype</th>\n",
       "      <th>unit_count</th>\n",
       "      <th>channel_count</th>\n",
       "      <th>probe_count</th>\n",
       "      <th>ecephys_structure_acronyms</th>\n",
       "    </tr>\n",
       "    <tr>\n",
       "      <th>id</th>\n",
       "      <th></th>\n",
       "      <th></th>\n",
       "      <th></th>\n",
       "      <th></th>\n",
       "      <th></th>\n",
       "      <th></th>\n",
       "      <th></th>\n",
       "      <th></th>\n",
       "      <th></th>\n",
       "      <th></th>\n",
       "    </tr>\n",
       "  </thead>\n",
       "  <tbody>\n",
       "    <tr>\n",
       "      <th>719161530</th>\n",
       "      <td>2019-10-03T00:00:00Z</td>\n",
       "      <td>703279284</td>\n",
       "      <td>brain_observatory_1.1</td>\n",
       "      <td>122.0</td>\n",
       "      <td>M</td>\n",
       "      <td>Sst-IRES-Cre/wt;Ai32(RCL-ChR2(H134R)_EYFP)/wt</td>\n",
       "      <td>755</td>\n",
       "      <td>2214</td>\n",
       "      <td>6</td>\n",
       "      <td>[TH, Eth, APN, POL, LP, DG, CA1, VISpm, nan, N...</td>\n",
       "    </tr>\n",
       "    <tr>\n",
       "      <th>750332458</th>\n",
       "      <td>2019-10-03T00:00:00Z</td>\n",
       "      <td>726141251</td>\n",
       "      <td>brain_observatory_1.1</td>\n",
       "      <td>91.0</td>\n",
       "      <td>M</td>\n",
       "      <td>wt/wt</td>\n",
       "      <td>902</td>\n",
       "      <td>2216</td>\n",
       "      <td>6</td>\n",
       "      <td>[grey, VISrl, nan, VISal, IntG, IGL, LGd, CA3,...</td>\n",
       "    </tr>\n",
       "    <tr>\n",
       "      <th>750749662</th>\n",
       "      <td>2019-10-03T00:00:00Z</td>\n",
       "      <td>726162197</td>\n",
       "      <td>brain_observatory_1.1</td>\n",
       "      <td>92.0</td>\n",
       "      <td>M</td>\n",
       "      <td>wt/wt</td>\n",
       "      <td>761</td>\n",
       "      <td>2223</td>\n",
       "      <td>6</td>\n",
       "      <td>[LP, DG, CA1, VISp, nan, LGd, CA3, VISrl, VPM,...</td>\n",
       "    </tr>\n",
       "    <tr>\n",
       "      <th>755434585</th>\n",
       "      <td>2019-10-03T00:00:00Z</td>\n",
       "      <td>730760270</td>\n",
       "      <td>brain_observatory_1.1</td>\n",
       "      <td>100.0</td>\n",
       "      <td>M</td>\n",
       "      <td>Vip-IRES-Cre/wt;Ai32(RCL-ChR2(H134R)_EYFP)/wt</td>\n",
       "      <td>650</td>\n",
       "      <td>2220</td>\n",
       "      <td>6</td>\n",
       "      <td>[grey, VISrl, nan, MGv, MGd, TH, LGd, CA3, DG,...</td>\n",
       "    </tr>\n",
       "    <tr>\n",
       "      <th>756029989</th>\n",
       "      <td>2019-10-03T00:00:00Z</td>\n",
       "      <td>734865738</td>\n",
       "      <td>brain_observatory_1.1</td>\n",
       "      <td>96.0</td>\n",
       "      <td>M</td>\n",
       "      <td>Sst-IRES-Cre/wt;Ai32(RCL-ChR2(H134R)_EYFP)/wt</td>\n",
       "      <td>684</td>\n",
       "      <td>2214</td>\n",
       "      <td>6</td>\n",
       "      <td>[TH, DG, CA3, CA1, VISl, nan, PO, Eth, LP, VIS...</td>\n",
       "    </tr>\n",
       "  </tbody>\n",
       "</table>\n",
       "</div>"
      ],
      "text/plain": [
       "                   published_at  specimen_id           session_type  \\\n",
       "id                                                                    \n",
       "719161530  2019-10-03T00:00:00Z    703279284  brain_observatory_1.1   \n",
       "750332458  2019-10-03T00:00:00Z    726141251  brain_observatory_1.1   \n",
       "750749662  2019-10-03T00:00:00Z    726162197  brain_observatory_1.1   \n",
       "755434585  2019-10-03T00:00:00Z    730760270  brain_observatory_1.1   \n",
       "756029989  2019-10-03T00:00:00Z    734865738  brain_observatory_1.1   \n",
       "\n",
       "           age_in_days sex                                  full_genotype  \\\n",
       "id                                                                          \n",
       "719161530        122.0   M  Sst-IRES-Cre/wt;Ai32(RCL-ChR2(H134R)_EYFP)/wt   \n",
       "750332458         91.0   M                                          wt/wt   \n",
       "750749662         92.0   M                                          wt/wt   \n",
       "755434585        100.0   M  Vip-IRES-Cre/wt;Ai32(RCL-ChR2(H134R)_EYFP)/wt   \n",
       "756029989         96.0   M  Sst-IRES-Cre/wt;Ai32(RCL-ChR2(H134R)_EYFP)/wt   \n",
       "\n",
       "           unit_count  channel_count  probe_count  \\\n",
       "id                                                  \n",
       "719161530         755           2214            6   \n",
       "750332458         902           2216            6   \n",
       "750749662         761           2223            6   \n",
       "755434585         650           2220            6   \n",
       "756029989         684           2214            6   \n",
       "\n",
       "                                  ecephys_structure_acronyms  \n",
       "id                                                            \n",
       "719161530  [TH, Eth, APN, POL, LP, DG, CA1, VISpm, nan, N...  \n",
       "750332458  [grey, VISrl, nan, VISal, IntG, IGL, LGd, CA3,...  \n",
       "750749662  [LP, DG, CA1, VISp, nan, LGd, CA3, VISrl, VPM,...  \n",
       "755434585  [grey, VISrl, nan, MGv, MGd, TH, LGd, CA3, DG,...  \n",
       "756029989  [TH, DG, CA3, CA1, VISl, nan, PO, Eth, LP, VIS...  "
      ]
     },
     "execution_count": 51,
     "metadata": {},
     "output_type": "execute_result"
    }
   ],
   "source": [
    "uh_brain_obs_sessions = brain_obs_sessions[(brain_obs_sessions[\"unit_count\"] >= 650)]\n",
    "\n",
    "required_regions = {\"VISp\", \"VISl\", \"VISal\", \"VISpm\", \"VISam\"}\n",
    "regions_uh_brain_obs_sessions = uh_brain_obs_sessions[\n",
    "    uh_brain_obs_sessions[\"ecephys_structure_acronyms\"].apply(\n",
    "        lambda x: all(region in str(x) for region in required_regions)\n",
    "    )\n",
    "]\n",
    "\n",
    "regions_uh_brain_obs_sessions"
   ]
  },
  {
   "cell_type": "markdown",
   "metadata": {},
   "source": [
    "Great! We have narrowed it down to 5 sessions. Let's download the first session, id=\"719161530\"."
   ]
  },
  {
   "cell_type": "code",
   "execution_count": null,
   "metadata": {},
   "outputs": [],
   "source": [
    "session = cache.get_session_data(719161530)"
   ]
  },
  {
   "cell_type": "code",
   "execution_count": 53,
   "metadata": {},
   "outputs": [
    {
     "data": {
      "text/plain": [
       "array(['spontaneous', 'gabors', 'invalid_presentation', 'flashes',\n",
       "       'drifting_gratings', 'natural_movie_three', 'natural_movie_one',\n",
       "       'static_gratings', 'natural_scenes'], dtype=object)"
      ]
     },
     "execution_count": 53,
     "metadata": {},
     "output_type": "execute_result"
    }
   ],
   "source": [
    "table = session.get_stimulus_table()\n",
    "\n",
    "table[\"stimulus_name\"].unique()"
   ]
  },
  {
   "cell_type": "markdown",
   "metadata": {},
   "source": [
    "### Check value counts for each stimulus"
   ]
  },
  {
   "cell_type": "code",
   "execution_count": null,
   "metadata": {},
   "outputs": [
    {
     "name": "stdout",
     "output_type": "stream",
     "text": [
      "719161530\n"
     ]
    },
    {
     "data": {
      "text/plain": [
       "natural_movie_three     36000\n",
       "natural_movie_one       18000\n",
       "static_gratings          6000\n",
       "natural_scenes           5950\n",
       "gabors                   3596\n",
       "drifting_gratings         628\n",
       "flashes                   150\n",
       "invalid_presentation       49\n",
       "spontaneous                15\n",
       "Name: stimulus_name, dtype: int64"
      ]
     },
     "execution_count": 58,
     "metadata": {},
     "output_type": "execute_result"
    }
   ],
   "source": [
    "print(\"719161530\")\n",
    "table[\"stimulus_name\"].value_counts()"
   ]
  },
  {
   "cell_type": "markdown",
   "metadata": {},
   "source": [
    "For the stimuli we are interested in, static and drifting gratings we have 6000 and 628 measurements respectively. Let's check the value counts for one more session, id=\"750332458\""
   ]
  },
  {
   "cell_type": "code",
   "execution_count": null,
   "metadata": {},
   "outputs": [],
   "source": [
    "id2 = 750332458\n",
    "session2 = cache.get_session_data(id2)"
   ]
  },
  {
   "cell_type": "code",
   "execution_count": 62,
   "metadata": {},
   "outputs": [
    {
     "name": "stdout",
     "output_type": "stream",
     "text": [
      "750332458\n"
     ]
    },
    {
     "data": {
      "text/plain": [
       "natural_movie_three    36000\n",
       "natural_movie_one      18000\n",
       "static_gratings         6000\n",
       "natural_scenes          5950\n",
       "gabors                  3645\n",
       "drifting_gratings        630\n",
       "flashes                  150\n",
       "spontaneous               15\n",
       "Name: stimulus_name, dtype: int64"
      ]
     },
     "execution_count": 62,
     "metadata": {},
     "output_type": "execute_result"
    }
   ],
   "source": [
    "print(id2)\n",
    "table2 = session2.get_stimulus_table()\n",
    "table2[\"stimulus_name\"].value_counts()"
   ]
  },
  {
   "cell_type": "markdown",
   "metadata": {},
   "source": [
    "Again a similar value at 6000 and 630 for the gratings. Due to the fact that Let's move forward with session 750332458."
   ]
  },
  {
   "cell_type": "markdown",
   "metadata": {},
   "source": [
    "## Exploring Session 750332458"
   ]
  }
 ],
 "metadata": {
  "kernelspec": {
   "display_name": "allensdk",
   "language": "python",
   "name": "python3"
  },
  "language_info": {
   "codemirror_mode": {
    "name": "ipython",
    "version": 3
   },
   "file_extension": ".py",
   "mimetype": "text/x-python",
   "name": "python",
   "nbconvert_exporter": "python",
   "pygments_lexer": "ipython3",
   "version": "3.11.11"
  }
 },
 "nbformat": 4,
 "nbformat_minor": 2
}
